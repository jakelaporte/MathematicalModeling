{
  "nbformat": 4,
  "nbformat_minor": 0,
  "metadata": {
    "kernelspec": {
      "display_name": "R",
      "language": "R",
      "name": "ir"
    },
    "language_info": {
      "codemirror_mode": "r",
      "file_extension": ".r",
      "mimetype": "text/x-r-source",
      "name": "R",
      "pygments_lexer": "r",
      "version": "3.6.1"
    },
    "colab": {
      "name": "Lsn16_DifferentialEquations.ipynb",
      "provenance": [],
      "include_colab_link": true
    }
  },
  "cells": [
    {
      "cell_type": "markdown",
      "metadata": {
        "id": "view-in-github",
        "colab_type": "text"
      },
      "source": [
        "<a href=\"https://colab.research.google.com/github/jakelaporte/MathematicalModeling/blob/master/Lsn16_DifferentialEquations.ipynb\" target=\"_parent\"><img src=\"https://colab.research.google.com/assets/colab-badge.svg\" alt=\"Open In Colab\"/></a>"
      ]
    },
    {
      "cell_type": "markdown",
      "metadata": {
        "id": "T5V5lrnOIUsr",
        "colab_type": "text"
      },
      "source": [
        "# Eigenvector / Eigenvalue Analysis of System of Differential Equations\n",
        "In this section, we use the techniques from class in order to classify the equilibrium points with the eigenvalues of the linear approximation (Jacobian matrix) at the equilibrium point. In class on Monday, we will cover the continuous time version of what we did on Lesson 15 for discrete systems. The theory that we cover is linear, 1st order systems of equations that we can use to solve nonlinear equations by using linear approximations near the equilibrium points (see the nonlinear problem below)."
      ]
    },
    {
      "cell_type": "code",
      "metadata": {
        "id": "e-6o-jODIUsv",
        "colab_type": "code",
        "colab": {}
      },
      "source": [
        "options(warn=-1)\n",
        "library(pracma)\n",
        "library(ma391laporte) #Note: I have changed some of the functions in the library to capital letters so that they do not \n",
        "                      # step on functions in other libraries (see VectorField below)"
      ],
      "execution_count": 0,
      "outputs": []
    },
    {
      "cell_type": "code",
      "metadata": {
        "id": "8Us0__NrIUs5",
        "colab_type": "code",
        "colab": {},
        "outputId": "2a6f81a9-9b45-4fab-fdb7-50a6a2562463"
      },
      "source": [
        "t=0.5\n",
        "f = function(x){c(0.10*x[1]*(1-x[1]/10000)-t*0.1/10000*x[1]*x[2],\n",
        "                 0.25*x[2]*(1-x[2]/6000)-t*0.25/6000*x[1]*x[2])}\n",
        "VectorField(f,xlim = c(0,15000),ylim = c(0,5000))"
      ],
      "execution_count": 0,
      "outputs": [
        {
          "output_type": "display_data",
          "data": {
            "image/png": "[encoded data removed]",
            "text/plain": [
              "Plot with title \"\""
            ]
          },
          "metadata": {
            "tags": []
          }
        }
      ]
    },
    {
      "cell_type": "code",
      "metadata": {
        "id": "g_yd6uVLIUs_",
        "colab_type": "code",
        "colab": {},
        "outputId": "cf2eae82-42a7-4d31-c815-c0637215c1d9"
      },
      "source": [
        "## The Zeros function uses Newtons's method to find the equilibrium points - you will have to adjust x0.\n",
        "x0=c(12000,500) \n",
        "x0=Zeros(f,x0)\n",
        "print(x0)"
      ],
      "execution_count": 0,
      "outputs": [
        {
          "output_type": "stream",
          "text": [
            "[1] 9333.333 1333.333\n"
          ],
          "name": "stdout"
        }
      ]
    },
    {
      "cell_type": "code",
      "metadata": {
        "id": "TTM9S5S1IUtF",
        "colab_type": "code",
        "colab": {},
        "outputId": "debf2eea-27a6-46a0-aa0c-7ccb30355fd9"
      },
      "source": [
        "## Is this a stable equilibrium point\n",
        "A = Jacobian2(f,x0) # The Jacobian gives a linear approximation near x0\n",
        "ev=eigen(A)\n",
        "print(ev)"
      ],
      "execution_count": 0,
      "outputs": [
        {
          "output_type": "stream",
          "text": [
            "eigen() decomposition\n",
            "$values\n",
            "[1] -0.11510261 -0.03378628\n",
            "\n",
            "$vectors\n",
            "           [,1]       [,2]\n",
            "[1,] -0.9062464  0.6168379\n",
            "[2,] -0.4227499 -0.7870902\n",
            "\n"
          ],
          "name": "stdout"
        }
      ]
    },
    {
      "cell_type": "code",
      "metadata": {
        "id": "HyuD34aaIUtM",
        "colab_type": "code",
        "colab": {},
        "outputId": "5777b02d-7d5c-4012-891b-027071037c91"
      },
      "source": [
        "## Sensitivity of Solution (this is a stable equilibrium)\n",
        "t = seq(0,0.9,0.1)\n",
        "ans.lambda1 = 0\n",
        "ans.lambda2 = 0\n",
        "for (i in 1:length(t)){\n",
        "  f = function(x){c(0.10*x[1]*(1-x[1]/10000)-0.1*t[i]/10000*x[1]*x[2],\n",
        "                    0.25*x[2]*(1-x[2]/6000)-0.25*t[i]/6000*x[1]*x[2])}\n",
        "  x0 = Zeros(f,c(10000,6000))\n",
        "  A = Jacobian2(f,x0)\n",
        "  ev=eigen(A)\n",
        "  ans.lambda1[i]=ev$values[1]\n",
        "  ans.lambda2[i]=ev$values[2]\n",
        "}\n",
        "result = data.frame(t=t,lambda1=ans.lambda1,lambda2=ans.lambda2)\n",
        "print(result)\n",
        "\n",
        "## Plot Figure 5.3 in the book\n",
        "plot(result$t,result$lambda1,ylim=c(-0.3,0),col=\"green\")\n",
        "points(result$t,result$lambda2,col=\"red\")"
      ],
      "execution_count": 0,
      "outputs": [
        {
          "output_type": "stream",
          "text": [
            "     t    lambda1       lambda2\n",
            "1  0.0 -0.1000000 -2.500000e-01\n",
            "2  0.1 -0.2121427 -9.324454e-02\n",
            "3  0.2 -0.1807564 -8.452135e-02\n",
            "4  0.3 -0.1546288 -7.284370e-02\n",
            "5  0.4 -0.1329881 -5.669440e-02\n",
            "6  0.5 -0.1151026 -3.378628e-02\n",
            "7  0.6 -0.1000000 -2.936853e-09\n",
            "8  0.7 -0.1000000 -4.166667e-02\n",
            "9  0.8 -0.1000000 -8.333333e-02\n",
            "10 0.9 -0.1250000 -1.000000e-01\n"
          ],
          "name": "stdout"
        },
        {
          "output_type": "display_data",
          "data": {
            "image/png": "[encoded data removed]",
            "text/plain": [
              "plot without title"
            ]
          },
          "metadata": {
            "tags": []
          }
        }
      ]
    },
    {
      "cell_type": "markdown",
      "metadata": {
        "id": "ihavuzEmIUtR",
        "colab_type": "text"
      },
      "source": [
        "## Chapter 5: Number 1"
      ]
    },
    {
      "cell_type": "code",
      "metadata": {
        "id": "inXfXvGIIUtS",
        "colab_type": "code",
        "colab": {},
        "outputId": "6e9b142f-8f45-4295-bdbf-9e6dbfefb9f0"
      },
      "source": [
        "alpha = 0.000001\n",
        "f = function(x){c(.05*x[1]-alpha*x[1]*x[2],\n",
        "                 .08*x[2]-alpha*x[1]*x[2])}\n",
        "\n",
        "VectorField(f,xlim=c(0,100000),ylim=c(0,100000))"
      ],
      "execution_count": 0,
      "outputs": [
        {
          "output_type": "display_data",
          "data": {
            "image/png": "[encoded data removed]",
            "text/plain": [
              "Plot with title \"\""
            ]
          },
          "metadata": {
            "tags": []
          }
        }
      ]
    },
    {
      "cell_type": "code",
      "metadata": {
        "id": "HthStbufIUtY",
        "colab_type": "code",
        "colab": {},
        "outputId": "af6f1b40-2fd3-412c-fa23-6e19a865022e"
      },
      "source": [
        "x0=c(40000,30000)\n",
        "x0=Zeros(f,x0)\n",
        "print(x0)"
      ],
      "execution_count": 0,
      "outputs": [
        {
          "output_type": "stream",
          "text": [
            "[1] 80000 50000\n"
          ],
          "name": "stdout"
        }
      ]
    },
    {
      "cell_type": "code",
      "metadata": {
        "id": "Lpt8ZUWpIUtc",
        "colab_type": "code",
        "colab": {},
        "outputId": "33ac0ec3-8a78-4c75-f551-d2920971c519"
      },
      "source": [
        "## Equilibrium Point (80000,50000)\n",
        "A = Jacobian2(f,x0)\n",
        "ev=eigen(A)\n",
        "print(ev)\n",
        "## Eigenvalues are not all <0, so unstable."
      ],
      "execution_count": 0,
      "outputs": [
        {
          "output_type": "stream",
          "text": [
            "eigen() decomposition\n",
            "$values\n",
            "[1] -0.06324555  0.06324555\n",
            "\n",
            "$vectors\n",
            "          [,1]       [,2]\n",
            "[1,] 0.7844645  0.7844645\n",
            "[2,] 0.6201737 -0.6201737\n",
            "\n"
          ],
          "name": "stdout"
        }
      ]
    },
    {
      "cell_type": "code",
      "metadata": {
        "id": "qU8oyn8qIUth",
        "colab_type": "code",
        "colab": {},
        "outputId": "1b5de321-5ac1-4aa4-eab7-447ab3dd2c83"
      },
      "source": [
        "## Equilibrium Point (0,0)\n",
        "x0 = c(0,0)\n",
        "A = Jacobian2(f,x0)\n",
        "ev=eigen(A)\n",
        "print(ev)\n",
        "## Eigen values are not all <0, so (0,0) is unstable"
      ],
      "execution_count": 0,
      "outputs": [
        {
          "output_type": "stream",
          "text": [
            "eigen() decomposition\n",
            "$values\n",
            "[1] 0.08 0.05\n",
            "\n",
            "$vectors\n",
            "     [,1] [,2]\n",
            "[1,]    0   -1\n",
            "[2,]    1    0\n",
            "\n"
          ],
          "name": "stdout"
        }
      ]
    },
    {
      "cell_type": "markdown",
      "metadata": {
        "id": "WyTov4DVIUtl",
        "colab_type": "text"
      },
      "source": [
        "## Chapter 4: Number 7"
      ]
    },
    {
      "cell_type": "code",
      "metadata": {
        "id": "QOyxTpwaIUto",
        "colab_type": "code",
        "colab": {},
        "outputId": "9ce61b36-efcf-406e-e5f2-2128bc8feed1"
      },
      "source": [
        "f = function(x){c(0.25*x[1]*(1-x[1]/500)-0.1/150000*x[1]*x[2],\n",
        "                 0.05*x[2]*(1-x[2]/150000)+0.02/500*x[1]*x[2])}\n",
        "VectorField(f,xlim=c(0,800),ylim=c(0,250000))"
      ],
      "execution_count": 0,
      "outputs": [
        {
          "output_type": "display_data",
          "data": {
            "image/png": "[encoded data removed]",
            "text/plain": [
              "Plot with title \"\""
            ]
          },
          "metadata": {
            "tags": []
          }
        }
      ]
    },
    {
      "cell_type": "code",
      "metadata": {
        "id": "j9hwshL_IUt0",
        "colab_type": "code",
        "colab": {},
        "outputId": "8fd74a08-4ab8-43dd-c9cc-3f14df5c6db6"
      },
      "source": [
        "x0=c(400,100000)\n",
        "x0=Zeros(f,x0)\n",
        "print(x0)"
      ],
      "execution_count": 0,
      "outputs": [
        {
          "output_type": "stream",
          "text": [
            "[1]    258.6207 181034.4828\n"
          ],
          "name": "stdout"
        }
      ]
    },
    {
      "cell_type": "code",
      "metadata": {
        "id": "AAQa5sd0IUt4",
        "colab_type": "code",
        "colab": {},
        "outputId": "e5ed8527-c966-40e8-eda3-bc5b652eea1b"
      },
      "source": [
        "## Equilibrium Point (80000,50000)\n",
        "A = Jacobian2(f,x0)\n",
        "ev=eigen(A)\n",
        "print(ev)\n",
        "## Real part of eigenvectors are less than 0. Equilibrium is stable."
      ],
      "execution_count": 0,
      "outputs": [
        {
          "output_type": "stream",
          "text": [
            "eigen() decomposition\n",
            "$values\n",
            "[1] -0.09482758+0.00771057i -0.09482758-0.00771057i\n",
            "\n",
            "$vectors\n",
            "                          [,1]                      [,2]\n",
            "[1,] -0.004761848+0.001064781i -0.004761848-0.001064781i\n",
            "[2,]  0.999988095+0.000000000i  0.999988095+0.000000000i\n",
            "\n"
          ],
          "name": "stdout"
        }
      ]
    }
  ]
}