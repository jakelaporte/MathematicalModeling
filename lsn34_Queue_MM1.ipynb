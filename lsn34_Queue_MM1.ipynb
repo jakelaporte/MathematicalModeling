{
  "nbformat": 4,
  "nbformat_minor": 0,
  "metadata": {
    "kernelspec": {
      "display_name": "R",
      "language": "R",
      "name": "ir"
    },
    "language_info": {
      "codemirror_mode": "r",
      "file_extension": ".r",
      "mimetype": "text/x-r-source",
      "name": "R",
      "pygments_lexer": "r",
      "version": "3.6.1"
    },
    "colab": {
      "name": "lsn34_Queue_MM1.ipynb",
      "provenance": [],
      "collapsed_sections": [],
      "include_colab_link": true
    }
  },
  "cells": [
    {
      "cell_type": "markdown",
      "metadata": {
        "id": "view-in-github",
        "colab_type": "text"
      },
      "source": [
        "<a href=\"https://colab.research.google.com/github/jakelaporte/MathematicalModeling/blob/master/lsn34_Queue_MM1.ipynb\" target=\"_parent\"><img src=\"https://colab.research.google.com/assets/colab-badge.svg\" alt=\"Open In Colab\"/></a>"
      ]
    },
    {
      "cell_type": "markdown",
      "metadata": {
        "id": "qyRodAx9OIFF",
        "colab_type": "text"
      },
      "source": [
        "# Lesson 34 - M/M/1 Queue in R \n",
        "The following code is an implementation of an M/M/1 Queue in R. There are a couple of things that we need to think keep track of, but for the most part - it is similar to the forklift problem that we modeled in the last class.\n",
        "#### Start off with structuring the program ####\n",
        "\n",
        "<img alt=\"WhiteBoard\" height=\"\" src=\"https://sites.google.com/site/laportewebpics/_/rsrc/1587487969725/home/queue_pic1.png\" width=\"2500\" style=\"border:5px solid black\"/></p>\n",
        "\n",
        "In this first block of code, we want to set up the initialization and largest blocks of code."
      ]
    },
    {
      "cell_type": "code",
      "metadata": {
        "id": "wdw2brJXOIFH",
        "colab_type": "code",
        "colab": {}
      },
      "source": [
        "queue = function(lambda,mu,server=1,maxTime = 1000){\n",
        "    clock = 0\n",
        "    state = 0\n",
        "    cNum = 0\n",
        "    custInService = 0\n",
        "    while (clock<maxTime){\n",
        "        if (state==0){\n",
        "            # Code when we are in state 0 (no customers)\n",
        "        }\n",
        "        else{\n",
        "            # Code when we are in any other state\n",
        "        }\n",
        "    }\n",
        "    # Record data and pass out of the function\n",
        "}"
      ],
      "execution_count": 0,
      "outputs": []
    },
    {
      "cell_type": "markdown",
      "metadata": {
        "id": "ju7-sQ5cOIFO",
        "colab_type": "text"
      },
      "source": [
        "This code produces nothing yet, but it is structured so that we can use it to carry out the simulation. The next thing that we initialize is two data structures that will assist us in answering questions in which we are interested. The first one has to do with the average number of customers in the system. We can answer this if we have the steady state proportion of times that we are in each state. This means that we need to keep track of the amount of time that we are in each state. There is an issue that we have not dealt with before in that there is not a pre-defined number of states that we have to stay - in this problem there can be an infinite number of people in our queueing system. So we will create a function that will do one of two things depending on if the state is currently in the system. If it is in the system, then it will add the time (dT) to the amount of time already accumulated; if the system has never encountered the state, then it will create a new row and let the total amount of time in the state be dT."
      ]
    },
    {
      "cell_type": "code",
      "metadata": {
        "id": "KkKJ9VzLOIFR",
        "colab_type": "code",
        "colab": {},
        "outputId": "f6c6ed27-ba74-45ab-e633-5d7d3eb3852b"
      },
      "source": [
        "recordTime = function(df,state,dT){\n",
        "    idx = which(df$state==state)[1]\n",
        "    # if statement checks to see if there is a current state in the dataframe (df), if not\n",
        "    # then it creates a row, if it is - then it adds the time to the previously accumulated times\n",
        "    if (is.na(idx)){df=rbind(df,data.frame(state=state,time=dT))} else{df$time[idx]=df$time[idx]+dT}\n",
        "    return(df)\n",
        "}\n",
        "\n",
        "record = data.frame(state=0,time=0);print(record)\n",
        "record = recordTime(df=record,state=0,dT=0.5);print(record)\n",
        "record = recordTime(df=record,state=0,dT=1.2);print(record)"
      ],
      "execution_count": 0,
      "outputs": [
        {
          "output_type": "stream",
          "text": [
            "  state time\n",
            "1     0    0\n",
            "  state time\n",
            "1     0  0.5\n",
            "  state time\n",
            "1     0  1.7\n"
          ],
          "name": "stdout"
        }
      ]
    },
    {
      "cell_type": "markdown",
      "metadata": {
        "id": "Wn8o0nEBOIFX",
        "colab_type": "text"
      },
      "source": [
        "#### Note that we have not passed in a state that is not in the dataframe yet. This is testing the accumulation of time.\n",
        "Now add a couple of states to our dataframe."
      ]
    },
    {
      "cell_type": "code",
      "metadata": {
        "scrolled": true,
        "id": "lIig5lf7OIFY",
        "colab_type": "code",
        "colab": {},
        "outputId": "ba59ff43-f847-489a-876d-a3bb73da2dfe"
      },
      "source": [
        "record = recordTime(df=record,state=1,dT=0.6);print(record)\n",
        "record = recordTime(df=record,state=1,dT=2.2);print(record)\n",
        "record = recordTime(df=record,state=0,dT=1);print(record)\n",
        "record = recordTime(df=record,state=2,dT=0.8);print(record)"
      ],
      "execution_count": 0,
      "outputs": [
        {
          "output_type": "stream",
          "text": [
            "  state time\n",
            "1     0  1.7\n",
            "2     1  0.6\n",
            "  state time\n",
            "1     0  1.7\n",
            "2     1  2.8\n",
            "  state time\n",
            "1     0  2.7\n",
            "2     1  2.8\n",
            "  state time\n",
            "1     0  2.7\n",
            "2     1  2.8\n",
            "3     2  0.8\n"
          ],
          "name": "stdout"
        }
      ]
    },
    {
      "cell_type": "markdown",
      "metadata": {
        "id": "gTIyTlMsOIFc",
        "colab_type": "text"
      },
      "source": [
        "Feel free to change the numbers in the state until you see what the function is doing and why we need it. Next we will initialize the dataframe that is recording the amount of time in each state as simply: state=0 and time=0.<br><br>\n",
        "We also need a data structure that will record the customer data so that we can use this data to calculate the average amount of time that it takes to get through our queueing system. The information that is essential is the arrival and departure times. We will additionally keep track of the time that a customer enters service and the state (number of customers in the system) at departure as well so that we can use these values to validate our system. "
      ]
    },
    {
      "cell_type": "code",
      "metadata": {
        "id": "9OI0j5MdOIFd",
        "colab_type": "code",
        "colab": {}
      },
      "source": [
        "queue = function(lambda,mu,server=1,maxTime = 1000){\n",
        "    clock = 0\n",
        "    state = 0\n",
        "    cNum = 0\n",
        "    custInService = 0\n",
        "    record = data.frame(state=0,time=0)\n",
        "    customer = data.frame(custNo=as.numeric(),\n",
        "                         arrivalTime = as.numeric(),\n",
        "                         enterServiceTime = as.numeric(),\n",
        "                         departureTime = as.numeric(),\n",
        "                         stateAtDeparture = as.numeric())\n",
        "    \n",
        "    while (clock<maxTime){\n",
        "        if (state==0){\n",
        "            # Code when we are in state 0 (no customers)\n",
        "        }\n",
        "        else{\n",
        "            # Code when we are in any other state\n",
        "        }\n",
        "    }\n",
        "    # Record data and pass out of the function\n",
        "}"
      ],
      "execution_count": 0,
      "outputs": []
    },
    {
      "cell_type": "markdown",
      "metadata": {
        "id": "YPEmCV7MOIFi",
        "colab_type": "text"
      },
      "source": [
        "The code still does not produce any output, but we are getting closer. Let's deal with the states of the system before recording the customer data since it is the easiest to deal with and we have already seen something like it with the forklift problem."
      ]
    },
    {
      "cell_type": "code",
      "metadata": {
        "id": "r3TDxKsuOIFj",
        "colab_type": "code",
        "colab": {},
        "outputId": "2dd67fa9-e37a-4509-e88f-3379bb624ed9"
      },
      "source": [
        "set.seed(5)\n",
        "queue = function(lambda,mu,server=1,maxTime = 1000){\n",
        "    clock = 0\n",
        "    state = 0\n",
        "    cNum = 0\n",
        "    custInService = 0\n",
        "    record = data.frame(state=0,time=0)\n",
        "    customer = data.frame(custNo=as.numeric(),\n",
        "                         arrivalTime = as.numeric(),\n",
        "                         enterServiceTime = as.numeric(),\n",
        "                         departureTime = as.numeric(),\n",
        "                         stateAtDeparture = as.numeric())\n",
        "    \n",
        "    while (clock<maxTime){\n",
        "        if (state==0){\n",
        "            # Code when we are in state 0 (no customers)\n",
        "            incTime = rexp(1,lambda)\n",
        "            dT = incTime\n",
        "            record = recordTime(df=record,state=state,dT=dT)\n",
        "            clock = clock+dT\n",
        "            cat(\"Arrival \",clock,\"State: \",state,\"\\n\")\n",
        "            state=state+1\n",
        "        }\n",
        "        else{\n",
        "            # Code when we are in any other state\n",
        "            incTime = rexp(1,lambda)\n",
        "            decTime = rexp(1,mu)\n",
        "            dT = min(incTime,decTime)\n",
        "            record = recordTime(df=record,state=state,dT=dT)\n",
        "            clock = clock+dT\n",
        "            if (dT==incTime){\n",
        "                cat(\"Arrival \",clock,\"State: \",state,\"\\n\")\n",
        "                state=state+1\n",
        "            }\n",
        "            else{\n",
        "                cat(\"Departure \",clock,\"State: \",state,\"\\n\")\n",
        "                state=state-1\n",
        "            }\n",
        "        }\n",
        "    }\n",
        "    # Record data and pass out of the function\n",
        "    return (record)\n",
        "}\n",
        "Qstats = queue(2,4,1,4)\n",
        "print(Qstats)"
      ],
      "execution_count": 0,
      "outputs": [
        {
          "output_type": "stream",
          "text": [
            "Arrival  0.994005 State:  0 \n",
            "Departure  1.012139 State:  1 \n",
            "Arrival  1.213197 State:  0 \n",
            "Arrival  1.241157 State:  1 \n",
            "Arrival  1.279437 State:  2 \n",
            "Departure  1.59025 State:  3 \n",
            "Departure  1.626872 State:  2 \n",
            "Departure  1.824751 State:  1 \n",
            "Arrival  1.845324 State:  0 \n",
            "Arrival  2.242196 State:  1 \n",
            "Departure  2.562313 State:  2 \n",
            "Arrival  2.878389 State:  1 \n",
            "Arrival  3.068934 State:  2 \n",
            "Departure  3.135335 State:  3 \n",
            "Departure  3.168472 State:  2 \n",
            "Departure  3.472921 State:  1 \n",
            "Arrival  3.830623 State:  0 \n",
            "Arrival  4.192164 State:  1 \n",
            "  state      time\n",
            "1     0 1.5733376\n",
            "2     1 1.6229115\n",
            "3     2 0.6187004\n",
            "4     3 0.3772143\n"
          ],
          "name": "stdout"
        }
      ]
    },
    {
      "cell_type": "markdown",
      "metadata": {
        "id": "zm7tKiEzOIFo",
        "colab_type": "text"
      },
      "source": [
        "#### Take a moment and look at the numbers to make sure that they make sense.  Look at the orange for state 0 and blue for state 1\n",
        "<img alt=\"WhiteBoard\" height=\"\" src=\"https://sites.google.com/site/laportewebpics/home/queue_pic2.png\" width=\"2500\" style=\"border:5px solid orange\"/></p>\n",
        "<br><br>\n",
        "Now let's collect the data from the customers according to the state that we are in. Remember, \n",
        "\n",
        "- state 0 means that customers go immediately into service (`enterServiceTime`=`clock`) <br>\n",
        "- state 1 means that we can have an arrival or departure, arrivals get in line (`enterServiceTime` not known) and departures assign `departureTime`=`clock` to the next customer who does not have a departure time already.<br>\n",
        "- state 2,3,4,... means that we have an arrival or departure, arrivals get in line (`enterServiceTime` not known) and departures assign `departureTime`=`clock` to the next customer who does not have a departure time already **AND** assign `enterServiceTime` to the next customer who does not have a service time yet."
      ]
    },
    {
      "cell_type": "code",
      "metadata": {
        "id": "rpE3ducyOIFq",
        "colab_type": "code",
        "colab": {},
        "outputId": "f7720784-cf79-47c2-ebb8-34f53aa1e7c4"
      },
      "source": [
        "set.seed(10)\n",
        "queue = function(lambda,mu,server=1,maxTime = 1000){\n",
        "    clock = 0\n",
        "    state = 0\n",
        "    cNum = 0\n",
        "    custInService = 0\n",
        "    record = data.frame(state=0,time=0)\n",
        "    customer = data.frame(custNo=as.numeric(),\n",
        "                         arrivalTime = as.numeric(),\n",
        "                         enterServiceTime = as.numeric(),\n",
        "                         departureTime = as.numeric(),\n",
        "                         stateAtDeparture = as.numeric())\n",
        "    \n",
        "    while (clock<maxTime){\n",
        "        if (state==0){\n",
        "            # Code when we are in state 0 (no customers)\n",
        "            incTime = rexp(1,lambda)\n",
        "            dT = incTime\n",
        "            record = recordTime(df=record,state=state,dT=dT)\n",
        "            clock = clock+dT\n",
        "            \n",
        "            cNum=cNum+1 #increase the customer number so they are all unique 1,2,3,...\n",
        "            customer = rbind(customer,data.frame(custNo=cNum,\n",
        "                                                 arrivalTime=clock,\n",
        "                                                 enterServiceTime = clock, #immediately enters service\n",
        "                                                 departureTime=-1,\n",
        "                                                 stateAtDeparture=-1))\n",
        "            \n",
        "            cat(\"Arrival \",cNum,\" Clock:\",clock,\"State: \",state,\"\\n\")\n",
        "            state=state+1\n",
        "        }\n",
        "        else{\n",
        "            # Code when we are in any other state 1,2,3, ...\n",
        "            incTime = rexp(1,lambda)\n",
        "            decTime = rexp(1,mu)\n",
        "            dT = min(incTime,decTime)\n",
        "            record = recordTime(df=record,state=state,dT=dT)\n",
        "            clock = clock+dT\n",
        "            \n",
        "            # State increases because arrival time < departure time\n",
        "            if (dT==incTime){\n",
        "                \n",
        "                cNum=cNum+1\n",
        "                customer = rbind(customer,data.frame(custNo=cNum,\n",
        "                                     arrivalTime=clock,\n",
        "                                     enterServiceTime = -1, #don't know the enterServiceTime \n",
        "                                     departureTime=-1,\n",
        "                                     stateAtDeparture=-1))\n",
        "                \n",
        "                cat(\"Arrival \",cNum,\" Clock:\",clock,\"State: \",state,\"\\n\")\n",
        "                state=state+1\n",
        "            }\n",
        "            \n",
        "            # State decreases because departure time < arrival time\n",
        "            else{\n",
        "                #Find the customer who is in service and will depart\n",
        "                idx = which(customer$departureTime==-1)[1] #will get the next cust that has -1\n",
        "                customer$departureTime[idx]=clock\n",
        "                customer$stateAtDeparture[idx] = state\n",
        "                \n",
        "                cat(\"Departure \",customer$custNo[idx],\" Clock:\",clock,\"State: \",state,\"\\n\")\n",
        "                \n",
        "                ## Now, if state not 1, then assign the next cust in line an EnterServiceTime\n",
        "                if (state!=1){\n",
        "                    idx = which(customer$enterServiceTime==-1)[1]\n",
        "                    customer$enterServiceTime[idx]=clock\n",
        "                }\n",
        "                \n",
        "                state=state-1\n",
        "            }\n",
        "        }\n",
        "    }\n",
        "    # Record data and pass out of the function\n",
        "    record$distn = record$time/clock\n",
        "    return (list(cust=customer,states=record))\n",
        "}\n",
        "Qstats = queue(2,4,1,5)\n",
        "print(Qstats)"
      ],
      "execution_count": 0,
      "outputs": [
        {
          "output_type": "stream",
          "text": [
            "Arrival  1  Clock: 0.007478203 State:  0 \n",
            "Departure  1  Clock: 0.1955179 State:  1 \n",
            "Arrival  2  Clock: 0.9830389 State:  0 \n",
            "Arrival  3  Clock: 1.098868 State:  1 \n",
            "Departure  2  Clock: 1.281149 State:  2 \n",
            "Departure  3  Clock: 1.449216 State:  1 \n",
            "Arrival  4  Clock: 1.662481 State:  0 \n",
            "Departure  4  Clock: 1.991618 State:  1 \n",
            "Arrival  5  Clock: 2.198265 State:  0 \n",
            "Arrival  6  Clock: 2.536552 State:  1 \n",
            "Arrival  7  Clock: 2.572149 State:  2 \n",
            "Departure  5  Clock: 2.645387 State:  3 \n",
            "Departure  6  Clock: 2.732118 State:  2 \n",
            "Departure  7  Clock: 3.081192 State:  1 \n",
            "Arrival  8  Clock: 3.780246 State:  0 \n",
            "Departure  8  Clock: 3.822852 State:  1 \n",
            "Arrival  9  Clock: 4.782242 State:  0 \n",
            "Arrival  10  Clock: 4.865464 State:  1 \n",
            "Arrival  11  Clock: 4.87075 State:  2 \n",
            "Departure  9  Clock: 5.037559 State:  3 \n",
            "$cust\n",
            "   custNo arrivalTime enterServiceTime departureTime stateAtDeparture\n",
            "1       1 0.007478203      0.007478203     0.1955179                1\n",
            "2       2 0.983038863      0.983038863     1.2811491                2\n",
            "3       3 1.098868170      1.281149126     1.4492162                1\n",
            "4       4 1.662481094      1.662481094     1.9916179                1\n",
            "5       5 2.198264775      2.198264775     2.6453870                3\n",
            "6       6 2.536552440      2.645386994     2.7321176                2\n",
            "7       7 2.572149478      2.732117595     3.0811924                1\n",
            "8       8 3.780246104      3.780246104     3.8228515                1\n",
            "9       9 4.782242168      4.782242168     5.0375593                3\n",
            "10     10 4.865464138      5.037559331    -1.0000000               -1\n",
            "11     11 4.870749734     -1.000000000    -1.0000000               -1\n",
            "\n",
            "$states\n",
            "  state      time      distn\n",
            "1     0 2.8733553 0.57038640\n",
            "2     1 1.6142627 0.32044540\n",
            "3     2 0.3098942 0.06151673\n",
            "4     3 0.2400471 0.04765147\n",
            "\n"
          ],
          "name": "stdout"
        }
      ]
    },
    {
      "cell_type": "markdown",
      "metadata": {
        "id": "o6gFsv0EOIFu",
        "colab_type": "text"
      },
      "source": [
        "## Validate the example\n",
        "Again, let's look at the output to make sure that it makes sense. Notice the relationship between the departure times of earlier customers to the enter service times of the later customers.\n",
        "<img alt=\"WhiteBoard\" height=\"\" src=\"https://sites.google.com/site/laportewebpics/home/queue_pic3.png \" width=\"2500\" style=\"border:5px solid orange\"/></p>\n",
        "<br><br>\n",
        "In class, we will use this code to assist us in answering questions. Be familiar with it and how it was developed so that you can follow along closely."
      ]
    },
    {
      "cell_type": "code",
      "metadata": {
        "id": "7NNun67KOIFu",
        "colab_type": "code",
        "colab": {}
      },
      "source": [
        ""
      ],
      "execution_count": 0,
      "outputs": []
    }
  ]
}