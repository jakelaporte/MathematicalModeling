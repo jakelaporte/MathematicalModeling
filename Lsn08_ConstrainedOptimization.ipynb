{
  "nbformat": 4,
  "nbformat_minor": 0,
  "metadata": {
    "kernelspec": {
      "display_name": "R",
      "language": "R",
      "name": "ir"
    },
    "language_info": {
      "codemirror_mode": "r",
      "file_extension": ".r",
      "mimetype": "text/x-r-source",
      "name": "R",
      "pygments_lexer": "r",
      "version": "3.6.1"
    },
    "colab": {
      "name": "Lsn08_ConstrainedOptimization.ipynb",
      "provenance": [],
      "include_colab_link": true
    }
  },
  "cells": [
    {
      "cell_type": "markdown",
      "metadata": {
        "id": "view-in-github",
        "colab_type": "text"
      },
      "source": [
        "<a href=\"https://colab.research.google.com/github/jakelaporte/MathematicalModeling/blob/master/Lsn08_ConstrainedOptimization.ipynb\" target=\"_parent\"><img src=\"https://colab.research.google.com/assets/colab-badge.svg\" alt=\"Open In Colab\"/></a>"
      ]
    },
    {
      "cell_type": "markdown",
      "metadata": {
        "id": "8rrG7P3Y9RQU",
        "colab_type": "text"
      },
      "source": [
        "## Constrained Optimization - Mathematics\n",
        "In this R notebook, we consider the mathematics behind the numerical methods that involve Lagrange multipliers using examples."
      ]
    },
    {
      "cell_type": "markdown",
      "metadata": {
        "id": "OFU8EUL09RQX",
        "colab_type": "text"
      },
      "source": [
        "#### Recall from Lsn 5, we solved this equation as an unconstrained optimization ####\n",
        "$$\\max_{x,y}{f(x,y)=xy-2x-2y-x^2-y^2 }$$ <br>"
      ]
    },
    {
      "cell_type": "code",
      "metadata": {
        "id": "Hrf14Xpi9RQa",
        "colab_type": "code",
        "colab": {},
        "outputId": "e1cfa2a5-08c1-48a7-e70a-f2233e170e91"
      },
      "source": [
        "# Unconstrained Optimization (from class)\n",
        "f = function(x){(x[1]*x[2]-2*x[1]-2*x[2]-x[1]^2-x[2]^2)*-1}\n",
        "x0 = c(1,1)\n",
        "optim(x0,f)"
      ],
      "execution_count": 0,
      "outputs": [
        {
          "output_type": "display_data",
          "data": {
            "text/html": [
              "<dl>\n",
              "\t<dt>$par</dt>\n",
              "\t\t<dd><ol class=list-inline>\n",
              "\t<li>-2.00003060365125</li>\n",
              "\t<li>-2.00012907759956</li>\n",
              "</ol>\n",
              "</dd>\n",
              "\t<dt>$value</dt>\n",
              "\t\t<dd>-3.99999998635264</dd>\n",
              "\t<dt>$counts</dt>\n",
              "\t\t<dd><dl class=dl-horizontal>\n",
              "\t<dt>function</dt>\n",
              "\t\t<dd>71</dd>\n",
              "\t<dt>gradient</dt>\n",
              "\t\t<dd>&lt;NA&gt;</dd>\n",
              "</dl>\n",
              "</dd>\n",
              "\t<dt>$convergence</dt>\n",
              "\t\t<dd>0</dd>\n",
              "\t<dt>$message</dt>\n",
              "\t\t<dd>NULL</dd>\n",
              "</dl>\n"
            ],
            "text/latex": "\\begin{description}\n\\item[\\$par] \\begin{enumerate*}\n\\item -2.00003060365125\n\\item -2.00012907759956\n\\end{enumerate*}\n\n\\item[\\$value] -3.99999998635264\n\\item[\\$counts] \\begin{description*}\n\\item[function] 71\n\\item[gradient] <NA>\n\\end{description*}\n\n\\item[\\$convergence] 0\n\\item[\\$message] NULL\n\\end{description}\n",
            "text/markdown": "$par\n:   1. -2.00003060365125\n2. -2.00012907759956\n\n\n\n$value\n:   -3.99999998635264\n$counts\n:   function\n:   71gradient\n:   &lt;NA&gt;\n\n\n$convergence\n:   0\n$message\n:   NULL\n\n\n",
            "text/plain": [
              "$par\n",
              "[1] -2.000031 -2.000129\n",
              "\n",
              "$value\n",
              "[1] -4\n",
              "\n",
              "$counts\n",
              "function gradient \n",
              "      71       NA \n",
              "\n",
              "$convergence\n",
              "[1] 0\n",
              "\n",
              "$message\n",
              "NULL\n"
            ]
          },
          "metadata": {
            "tags": []
          }
        }
      ]
    },
    {
      "cell_type": "markdown",
      "metadata": {
        "id": "rUN3BtRs9RQl",
        "colab_type": "text"
      },
      "source": [
        "Suppose that there are the two constraints that $x+y=7$ and $-2x+y=7$ so that the feasible solution must meet both of these two constraints. <br><br>\n",
        "$$\\max_{x,y}{f(x,y)=xy-2x-2y-x^2-y^2 }$$ <br>\n",
        "$$ \\text{s.t. }x+y=7$$\n",
        "$$-2x+y=7$$<br><br>\n",
        "Turning these constraints into matrix form and doing one step of row reduction, we see that the feasible solutions for $x,y$ are very limited.<br><br>\n",
        "$$\\begin{bmatrix}1&1&:&7\\\\-2&1&:&7\\end{bmatrix}\\begin{array}{c}2\\\\ \\hspace{1pt}\\end{array}\\Longrightarrow \\begin{bmatrix}1&1&:&7\\\\0&3&:&21\\end{bmatrix}\\Longrightarrow \\begin{array}{c}x_1=7\\\\x_2=7\\end{array}$$\n",
        "<br> Notice that there is only one solution and it was rather trivial to find. Do we need to consider the objective function? What if we added another constraint to the problem? We could possibly over constrain the problem and not have a solution. Think back to your linear algerbra class when the matrix was **Full Column Rank**. The solution to those types of matrices (and thus, constraints here) is either one solution or no solution. Therefore, the objective function is not considered because there is only one feasible solution which turns this into a Linear Algebra problem instead of a Constrained Optimization one."
      ]
    },
    {
      "cell_type": "markdown",
      "metadata": {
        "id": "B5t5fCOd9RQn",
        "colab_type": "text"
      },
      "source": [
        "#### Change the problem so that we need the objective function\n",
        "Instead of those two functions above, let's use the first one only so that the problem is not over-constrained.\n",
        "$$\\max_{x,y}{f(x,y)=xy-2x-2y-x^2-y^2 }$$ <br>\n",
        "$$ \\text{s.t. }x+y=7$$<br><br>\n",
        "Let's look at the objective function and the constraint on the same contour plot."
      ]
    },
    {
      "cell_type": "code",
      "metadata": {
        "id": "bg5hhYK-9RQp",
        "colab_type": "code",
        "colab": {},
        "outputId": "6a973d96-bb0a-43e6-a6cf-86ae60137459"
      },
      "source": [
        "library(ma391laporte)\n",
        "#help(Outer) - I put an example in my documentation to get out a contour plot\n",
        "X = list(x=seq(-10,10),y=seq(-10,10))\n",
        "Z = Outer(f,X)\n",
        "contour(x=X$x,y=X$y,z=-Z,lwd=3)\n",
        "abline(a=7,b=-1,col=\"red\",lwd=2)"
      ],
      "execution_count": 0,
      "outputs": [
        {
          "output_type": "display_data",
          "data": {
            "image/png": "[encoded data removed]",
            "text/plain": [
              "plot without title"
            ]
          },
          "metadata": {
            "tags": []
          }
        }
      ]
    },
    {
      "cell_type": "markdown",
      "metadata": {
        "id": "YlY5ANQu9RQv",
        "colab_type": "text"
      },
      "source": [
        "From yesterday, we know how to find the solution to this problem using R. \n",
        "```R\n",
        "library(MASS);library(NlcOptim)\n",
        "Aeq = matrix(c(1,1),nrow=1)\n",
        "Beq = matrix(7)\n",
        "solnl(x0,f,Aeq=Aeq,Beq=Beq)\n",
        "```\n",
        "Using Lagrange Multipliers, we get the following:<br><br>\n",
        "$$\\vec{\\triangledown}f = \\lambda \\vec{\\triangledown}g$$<br>\n",
        "$$\\begin{bmatrix}y-2-2x\\\\x-2-2y\\end{bmatrix} = \\lambda \\begin{bmatrix}1\\\\1\\end{bmatrix} $$<br>\n",
        "$$g(x,y)=x+y=7$$<br>\n",
        "Solving these three equations for $(x,y,\\lambda)$, we get the same solution as the R code renders. $(x,y,\\lambda)=(3.5,3.5,-5.5)$."
      ]
    },
    {
      "cell_type": "markdown",
      "metadata": {
        "id": "5SsHJ3m19RQx",
        "colab_type": "text"
      },
      "source": [
        "## Linear Algebra approach\n",
        "Let's use the idea of the nullspace of the constraint matrix from Linear Algebra.  The complete solution to $A\\vec{x}=\\vec{b}$ can be found by finding the nullspace of the one constraint (a much simpler problem than you are used to, but it will hopefully make the point here). Understand that there can be numerous constraints on the problem with numerous decision variables and that this is a simple example to show how to use the constraint matrix. Here, there is $m=1$ constraint and $n=2$ decision variables. Our matrix will always be an $A_{m\\text{x}n}$ and will hopefully have a nullspace larger than the zero vector. For the problems where the nullspace is only the zero vector (see the one with two constraints above), there is either one or no solution and the problem is not really an optimization problem because the objective function is not considered. In this problem, we have **Full Row Rank** (although it is only one row) with $n-r=2-1=1$ dimensions in the nullspace. This means that the answer lies somewhere on the line (see the contour plot) and this constitutes our **feasible region**. Solving this problem from this approach allows us to use numerical methods to step towards the answer because we are able to stay in the nullspace of the constraint matrix with our steps. Let's solve this problem in order to gain insight into what is going on.<br><br>\n",
        "$$ \\begin{bmatrix}1&1&:&0\\end{bmatrix}\\Longrightarrow \\text{ special soln }\\Longrightarrow x_{null}= \\begin{bmatrix}-1\\\\1\\end{bmatrix}$$<br><br>\n",
        "Use the nullspace to turn the problem into an unconstrained optimization.\n",
        "$$x_{\\text{complete}} = x_{\\text{particular}}+x_{\\text{null}}=\\begin{bmatrix}0\\\\7\\end{bmatrix}+\\lambda \\begin{bmatrix}-1\\\\1\\end{bmatrix}\\Longrightarrow \\begin{array}{c}x = -\\lambda\\\\y = 7+\\lambda \\end{array}$$<br><br>\n",
        "Since the dimension of the nullspace is only one, there is only one variable in the new objective function. Had the dimension been 2, then there would have been two variables and so on. The new unconstrained objective function is found by substitution of $x,y$ into the original objective function:<br><br>\n",
        "$$f(\\lambda)=(-\\lambda (7+\\lambda)-2(-\\lambda)-2(7+\\lambda)-(-\\lambda)^2-(7+\\lambda)^2 $$<br>\n",
        "Go back and look at the red line on the contour plot that represented the constraint. Notice how it is impossible to select a $\\lambda$ which will not be on that line!!! Therefore, we can simple solve this problem by optimizing $\\max_{\\lambda}{f(\\lambda)}$.The R code below will finish this optimization using Newton's method and the derivative."
      ]
    },
    {
      "cell_type": "code",
      "metadata": {
        "id": "NOg3p1i49RQy",
        "colab_type": "code",
        "colab": {},
        "outputId": "0c695a70-4e73-42b5-c0b5-65a91c1320aa"
      },
      "source": [
        "library(ma391laporte)\n",
        "f = function(x){-x*(7+x)-2*(-x)-2*(7+x)-(-x)^2-(7+x)^2}\n",
        "#help(fprime) # used the fprime newton's method to solve this function numberically\n",
        "dF = function(x){fprime(f,x)}\n",
        "ans = newton(dF,10)\n",
        "print(ans)\n",
        "#this is not the same lambda (I should have used another variable)"
      ],
      "execution_count": 0,
      "outputs": [
        {
          "output_type": "stream",
          "text": [
            "[1] -3.500002\n"
          ],
          "name": "stdout"
        }
      ]
    },
    {
      "cell_type": "markdown",
      "metadata": {
        "id": "xRuMG5YR9RQ4",
        "colab_type": "text"
      },
      "source": [
        "#### How do we use this answer $\\lambda$ to find $x,y$?\n",
        "Our optimal $\\lambda$ is -3.5 and we remember the relationship between $x,y$ and $\\lambda$.\n",
        "$$\\begin{array}{c}x = -\\lambda\\\\y = 7+\\lambda \\end{array}$$\n",
        "So $x = -(-3.5)=3.5$ and $y = 7+(-3.5)=3.5$ and we get the same answer as the analytic solution of Lagrange multipliers, which should not surprise you. This leads to a numerical algorithm which can solve all of our problems and not just the ones that have an analytic solution. "
      ]
    },
    {
      "cell_type": "markdown",
      "metadata": {
        "id": "qct1f0e49RQ5",
        "colab_type": "text"
      },
      "source": [
        "## Linear Optimization\n",
        "Linear Optimization is special. The gradient will never be equal to zero (just like the derivative of a 1D linear function ever be zero), therefore we should understand that the optimal lies on the boundary in the form of the corner points of the feasible region. The method of optimizing a linear \"program\" is known as the Simplex Method (developed by George Dantzig during WWII to assist in logisitics operations) which can be used to solve problems with thousands of variables and constraints.<br> <br>\n",
        "We will use the lpSolve package in R to solve linear optimization problems.\n",
        "```R\n",
        "install.packages(\"lpSolve\") # use this inside R Studio\n",
        "lp (direction = \"min\", objective.in, const.mat, const.dir, const.rhs,transpose.constraints = TRUE, int.vec, presolve=0, compute.sens=0,binary.vec, all.int=FALSE, all.bin=FALSE, scale = 196, dense.const,num.bin.solns=1, use.rw=FALSE)\n",
        "```\n",
        "where <br><br>\n",
        "- ```direction```: Character string giving direction of optimization: \"min\" (default) or \"max.\"\n",
        "- ```objective.in```: Numeric vector of coefficients of objective function\n",
        "- ```const.mat```: Matrix of numeric constraint coefficients, one row per constraint, one columnper variable (unless transpose.constraints = FALSE; see below).\n",
        "- ```const.dir```: Vector  of  character  strings  giving  the  direction  of  the  constraint:  each  valueshould be one of \"<,\" \"<=,\" \"=,\" \"==,\" \">,\" or \">=\". (In each pair the two valuesare identical.)\n",
        "- ```const.rhs```: Vector of numeric values for the right-hand sides of the \n",
        "- ```constraints.transpose.constraints```: By default each constraint occupies a row of const.mat, and that matrix needs tobe transposed before being passed to the optimizing code.  For very large con-straint matrices it may be wiser to construct the constraints in a matrix column-by-column. In that case set transpose.constraints to FALSE.\n",
        "- ```int.vec```: Numeric vector giving the indices of variables that are required to be integer.The length of this vector will therefore be the number of integer variables.\n",
        "- ```presolve```: Numeric: presolve? Default 0 (no); any non-zero value means \"yes.\" Currentlyignored.\n",
        "- ```compute.sens```: Numeric: compute sensitivity? Default 0 (no); any non-zero value means \"yes.\"; Gives shadow prices. Inside ```ans$duals```\n",
        "- ```all.int```: Logical: should all variables be integer? Default: FALSE. \n",
        "- ```all.bin```: Logical: should all variables be binary? Default: FALSE.\n",
        "\n",
        "<br>\n",
        "Let's solve a simple problem using this library and function.\n",
        "$$ \\min_{x_1,x_2,x_3,x_4}{50x_1+20x_2+30x_3+80x_4}$$ <br>\n",
        "$$\\text{s.t. }400x_1+200x_2+150x_3+500x_4 \\ge 500 $$\n",
        "$$3x_1+2x_2 \\ge 6$$\n",
        "$$2x_1+2x_2+4x_3+4x_4 \\ge 10$$\n",
        "$$2x_1+4x_2+x_3+5x_4 \\ge 8$$"
      ]
    },
    {
      "cell_type": "code",
      "metadata": {
        "id": "wo_iXZZi9RQ7",
        "colab_type": "code",
        "colab": {},
        "outputId": "14797038-70e6-4b93-dfb3-5786bd095323"
      },
      "source": [
        "library(lpSolve)\n",
        "f.obj = c(50,20,30,80)\n",
        "f.con = matrix(c(400,200,150,500,3,2,0,0,2,2,4,4,2,4,1,5),nrow=4,byrow=T) \n",
        "f.dir = c(\">=\",\">=\",\">=\",\">=\")\n",
        "f.rhs = c(500,6,10,8)\n",
        "ans = lp(\"min\",f.obj,f.con,f.dir,f.rhs,compute.sens = T)\n",
        "print(ans$solution)\n",
        "print(ans$objval)\n",
        "print(ans$duals)"
      ],
      "execution_count": 0,
      "outputs": [
        {
          "output_type": "stream",
          "text": [
            "[1] 0 3 1 0\n",
            "[1] 90\n",
            "[1]  0.0  2.5  7.5  0.0 27.5  0.0  0.0 50.0\n"
          ],
          "name": "stdout"
        }
      ]
    },
    {
      "cell_type": "markdown",
      "metadata": {
        "id": "VbxXl-pB9RQ_",
        "colab_type": "text"
      },
      "source": [
        "Note that the solution to this problem is $x_1=0, x_2=3, x_3=1, x_4=0$ with an objective value of 90. The \"duals\" or \"lambdas\" in the problem are 0 for the non-binding constraints (1st and 4th). The last 4 constraints are ones that we do not have to put into the problem and are assumed $x_1,x_2,x_3,x_4 \\ge 0$. From the solution, we note that the $x_1=0$ and $x_4=0$ are also binding constraints. There should be a positive lambda for each binding constraint.\n",
        "\n",
        "## Summary of R commands used in Optimization when to use them:\n",
        "\n",
        "| R command | Library | Circumstance   |\n",
        "|--------|------------|-----------|\n",
        "| optim() | base R |unconstrained optimization  | \n",
        "| solnl() | MASS, NlcOptim |constrained nonlinear optimization |\n",
        "| lp() | lpSolve | linear optimization (sometime called linear programming|"
      ]
    }
  ]
}