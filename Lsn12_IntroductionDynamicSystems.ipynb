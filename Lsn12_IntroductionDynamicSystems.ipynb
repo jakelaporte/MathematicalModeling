{
  "nbformat": 4,
  "nbformat_minor": 0,
  "metadata": {
    "kernelspec": {
      "display_name": "R",
      "language": "R",
      "name": "ir"
    },
    "language_info": {
      "codemirror_mode": "r",
      "file_extension": ".r",
      "mimetype": "text/x-r-source",
      "name": "R",
      "pygments_lexer": "r",
      "version": "3.6.1"
    },
    "colab": {
      "name": "Lsn12_IntroductionDynamicSystems.ipynb",
      "provenance": [],
      "include_colab_link": true
    }
  },
  "cells": [
    {
      "cell_type": "markdown",
      "metadata": {
        "id": "view-in-github",
        "colab_type": "text"
      },
      "source": [
        "<a href=\"https://colab.research.google.com/github/jakelaporte/MathematicalModeling/blob/master/Lsn12_IntroductionDynamicSystems.ipynb\" target=\"_parent\"><img src=\"https://colab.research.google.com/assets/colab-badge.svg\" alt=\"Open In Colab\"/></a>"
      ]
    },
    {
      "cell_type": "markdown",
      "metadata": {
        "id": "32BCH8SBExvQ",
        "colab_type": "text"
      },
      "source": [
        "# Dynamic Systems\n",
        "In order to understand dynamic systems, it is imperative that you remember some of your differential equations class. For example, population growth is discussed in the book as the example used so let's discuss some **autonomous** differential equations.<br><br>\n",
        "$$\\frac{dP}{dt}\\propto P \\longrightarrow \\frac{dP}{dt}=rP \\longrightarrow \\int \\frac{dP}{P}=\\int rdt\\longrightarrow P(t) = P_0e^{rt}$$ <br>\n",
        "The question is how could we have figured out that the long term behavior without all of the integration for this simple problem. Let the function $f(P)=\\frac{dP}{dt}=rP$ regardless of what the value is for $r$, it will never cross the $x$ axis (except when $P=0$), so it only has one equilibrium at $P=0$."
      ]
    },
    {
      "cell_type": "code",
      "metadata": {
        "id": "SXELPJbpExvT",
        "colab_type": "code",
        "colab": {},
        "outputId": "5dc4c550-e203-4eb0-92b9-6c5faeb6ab1c"
      },
      "source": [
        "p = seq(0,100)\n",
        "r=0.5\n",
        "f = function(p){r*p}\n",
        "plot(p,f(p),type=\"l\") #pop growth plot"
      ],
      "execution_count": 0,
      "outputs": [
        {
          "output_type": "display_data",
          "data": {
            "image/png": "[encoded data removed]",
            "text/plain": [
              "plot without title"
            ]
          },
          "metadata": {
            "tags": []
          }
        }
      ]
    },
    {
      "cell_type": "markdown",
      "metadata": {
        "id": "X1pMo0ZdExvf",
        "colab_type": "text"
      },
      "source": [
        "## Population Growth\n",
        "Use the computational aspects of ```R``` to note the growth over a specific number of steps."
      ]
    },
    {
      "cell_type": "code",
      "metadata": {
        "id": "lJswHGT7Exvh",
        "colab_type": "code",
        "colab": {},
        "outputId": "a9077759-5660-4a2c-a848-9cb60765e528"
      },
      "source": [
        "growth=0\n",
        "pop=1\n",
        "p=1\n",
        "N = 100\n",
        "for (i in 1:N){\n",
        "  pop[i]=p\n",
        "  growth[i]=f(p)\n",
        "  p = p+f(p) #population (p) = population(p)+growth(f(p))\n",
        "}\n",
        "result = data.frame(Population=pop,growth=growth)\n",
        "print(result[N:N-15:-1,])\n",
        "plot(result$Population,type=\"l\")"
      ],
      "execution_count": 0,
      "outputs": [
        {
          "output_type": "stream",
          "text": [
            "      Population       growth\n",
            "85  6.189645e+14 3.094823e+14\n",
            "86  9.284468e+14 4.642234e+14\n",
            "87  1.392670e+15 6.963351e+14\n",
            "88  2.089005e+15 1.044503e+15\n",
            "89  3.133508e+15 1.566754e+15\n",
            "90  4.700262e+15 2.350131e+15\n",
            "91  7.050393e+15 3.525196e+15\n",
            "92  1.057559e+16 5.287795e+15\n",
            "93  1.586338e+16 7.931692e+15\n",
            "94  2.379508e+16 1.189754e+16\n",
            "95  3.569261e+16 1.784631e+16\n",
            "96  5.353892e+16 2.676946e+16\n",
            "97  8.030838e+16 4.015419e+16\n",
            "98  1.204626e+17 6.023129e+16\n",
            "99  1.806939e+17 9.034693e+16\n",
            "100 2.710408e+17 1.355204e+17\n",
            "NA            NA           NA\n"
          ],
          "name": "stdout"
        },
        {
          "output_type": "display_data",
          "data": {
            "image/png": "[encoded data removed]",
            "text/plain": [
              "plot without title"
            ]
          },
          "metadata": {
            "tags": []
          }
        }
      ]
    },
    {
      "cell_type": "markdown",
      "metadata": {
        "id": "2dB5TS_cExvn",
        "colab_type": "text"
      },
      "source": [
        "## Fin Whale Population\n",
        "Use the idea above and graph the Fin Whale population from chapter 2 of the book. Graph the equilibrium points and classify them as stable or not.<br><br>\n",
        "$$\\frac{dP}{dt}=0.08P(1-P/400,000) $$<br><br>\n",
        "Think about how graphing can be used for a state space of two variables."
      ]
    },
    {
      "cell_type": "code",
      "metadata": {
        "id": "Fdvh0s4TExvo",
        "colab_type": "code",
        "colab": {}
      },
      "source": [
        ""
      ],
      "execution_count": 0,
      "outputs": []
    }
  ]
}