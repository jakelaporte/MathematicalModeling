{
  "nbformat": 4,
  "nbformat_minor": 0,
  "metadata": {
    "kernelspec": {
      "display_name": "R",
      "language": "R",
      "name": "ir"
    },
    "language_info": {
      "codemirror_mode": "r",
      "file_extension": ".r",
      "mimetype": "text/x-r-source",
      "name": "R",
      "pygments_lexer": "r",
      "version": "3.6.1"
    },
    "colab": {
      "name": "Lsn03_StepFunction_Plotting.ipynb",
      "provenance": [],
      "include_colab_link": true
    }
  },
  "cells": [
    {
      "cell_type": "markdown",
      "metadata": {
        "id": "view-in-github",
        "colab_type": "text"
      },
      "source": [
        "<a href=\"https://colab.research.google.com/github/jakelaporte/MathematicalModeling/blob/master/Lsn03_StepFunction_Plotting.ipynb\" target=\"_parent\"><img src=\"https://colab.research.google.com/assets/colab-badge.svg\" alt=\"Open In Colab\"/></a>"
      ]
    },
    {
      "cell_type": "markdown",
      "metadata": {
        "id": "-8JimXkx_c0x",
        "colab_type": "text"
      },
      "source": [
        "## Lesson 3 - Optimization / Step Function\n",
        "Let's build the optimization function for problem 4 in the book. We will put everything in this problem in terms of days (time), miles (distance), and dollars (currency).<br><br>\n",
        "Variables/Facts: <ol>\n",
        "- 200 miles of coast to clean\n",
        "- $x$ = additional crews to hire<br> \n",
        "- $d$ = time it takes to clean <br>    \n",
        "- $r$ = clean-up rate for a crew (miles/day)<br>\n",
        "- $C_1$ = cost of local cleanup crew (dollars) = $500d$<br>\n",
        "- $C_2$ = cost of $x$ additional crews (dollars) = $\\left(18000+800d\\right)x$ <br>\n",
        "- $C_{\\text{fine}}$ = cost of fines after 14 days<br>\n",
        "- $C$ = total cost of clean-up = $C_1+C_2+C_{\\text{fine}}$\n",
        "</ol>\n",
        "\n",
        "Assumptions: <ol>\n",
        "- days to complete clean-up are not affected by anything other than the number of crews (weather, etc): $d = \\frac{200}{r(x+1)}$\n",
        "- cost for fines are only levied after 14 days - becomes a step function and is implemented below: <br><br>\n",
        "    $$C_\\text{fine}\\begin{align}\\left\\{ \\begin{array}{cc} \n",
        "                10000(d-14) & \\hspace{5mm} d>14 \\\\\n",
        "                0 & \\hspace{5mm} d \\le 14 \\\\\n",
        "                \\end{array} \\right.\n",
        "\\end{align}$$<br>\n",
        "- all of the crews clean-up the spill at the same rate as the local crew $r=5/7$ (miles/day)\n",
        "\n",
        "</ol>\n",
        "\n",
        "The objective function is as follows:\n",
        "$$ f(x) = 500\\frac{200}{r(x+1)}+\\left(18000+800\\frac{200}{r(x+1)}\\right)x+ \n",
        "\\begin{align}\n",
        "\\left\\{ \\begin{array}{cc} \n",
        "                10000\\left(\\frac{200}{r(x+1)}-14\\right) & \\hspace{5mm} \\frac{200}{r(x+1)}>14 \\\\\n",
        "                0 & \\hspace{5mm} \\frac{200}{r(x+1)} \\le 14 \\\\\n",
        "                \\end{array} \\right.\n",
        "\\end{align}\n",
        "$$\n",
        "\n",
        "Let's discuss how to define a step function in R. Use the boolean operators which return 1 or 0 if the operation is True or False respectively."
      ]
    },
    {
      "cell_type": "code",
      "metadata": {
        "id": "h2zIvkHl_c00",
        "colab_type": "code",
        "colab": {}
      },
      "source": [
        "## Define the function using boolean statements such as >, <=, == \n",
        "r = 5/7\n",
        "fT = function(x){500*(200/(r*(x+1)))+(18000+800*200/(r*(x+1)))*x+(200/(r*(x+1))>14)*(10000*(200/(r*(x+1))-14))}"
      ],
      "execution_count": 0,
      "outputs": []
    },
    {
      "cell_type": "markdown",
      "metadata": {
        "id": "ZlnYR3Kl_c0-",
        "colab_type": "text"
      },
      "source": [
        "Notice how the statement in the step function that requires a True or False term is used in the creation of the R function. Suppose we had the following function and wanted to define and then plot it:\n",
        "$$f(x) =  \\begin{align}\n",
        "\\left\\{ \\begin{array}{cc} \n",
        "                1 & \\hspace{5mm} x\\le-2 \\\\\n",
        "                x & \\hspace{5mm} -2<x<3 \\\\\n",
        "                -x & \\hspace{5mm} x \\ge 3\n",
        "                \\end{array} \\right.\n",
        "\\end{align} \n",
        "$$\n",
        "```R\n",
        "x = seq(-5,5,0.01)\n",
        "f = function(x)(x<=-2)*1+(x>-2)*(x<3)*(x)+(x>=3)*(-x) \n",
        "f = Vectorize(f)\n",
        "plot(x,f(x),type=\"l\")\n",
        "```\n"
      ]
    },
    {
      "cell_type": "markdown",
      "metadata": {
        "id": "_x4Gn8Rj_c1A",
        "colab_type": "text"
      },
      "source": [
        "#### Use this function and what we have already done in class to find the answers to problem 4.\n"
      ]
    },
    {
      "cell_type": "markdown",
      "metadata": {
        "id": "cCxvLSDy_c1B",
        "colab_type": "text"
      },
      "source": [
        "## Section 3.1 Plotting Fundamentals in R\n",
        "R has a rich library of procedures for transforming data and producing graphics. This assignment focuses on basic graphics functions that are the building blocks for many plots. The building blocks provide control of basic graphic entities such as\n",
        "layout, axes, points, lines and polygons.  I have such building blocks to create templates for higher level graphics such as linked micromaps, conditioned choropleth maps, and time series maps.  You can create your own templates to. The inclusion of statistics in my graphics helps to distinguish my templates from somewhat similiar work of others. This is where languages such as R and Splus are really helpful. Another distinguishing feature in my work is the migration to of static templates to interactive and dynamic implementions most commonly in Java.  The statistical languages really helped in testing ideas for faster calculations and testing the Java implementation results."
      ]
    },
    {
      "cell_type": "markdown",
      "metadata": {
        "id": "Wp4SqljF_c1E",
        "colab_type": "text"
      },
      "source": [
        "## Graphics Functions - High and Low level functions\n",
        "It is important to understand the distinction between high-level and low-level graphics functions. High-level graphics functions start a new graph by initializing the window and creating it if necessary, sets the scale and draws all of the titles and labels. A low-level graphic function cannot start a new graph; rather, it adds something to an existing one.\n",
        "#### High-Level Graphics commands\n",
        "```R\n",
        "plot() #Generic plotting function\n",
        "boxplot() #Create a box plot\n",
        "hist() #Create a histogram\n",
        "qqnorm() #Create a quantile-quantile plot\n",
        "curve() #Graph a function\n",
        "```\n",
        "\n",
        "#### Low-Level Graphics commands\n",
        "```R\n",
        "points() #Add points\n",
        "lines() #Add lines\n",
        "abline() #Add a straight line\n",
        "segments() #Add line segments\n",
        "polygon() #Add a closed polygon\n",
        "text() #Add text\n",
        "```\n",
        "The *plot* functions is a polymorphic function meaning that it changes its behavior depending on the type of input argument.\n",
        "As you notice a ```plot``` command in the following examples, notice the type of input to the function which will help you understand what the plot function is doing.\n"
      ]
    },
    {
      "cell_type": "markdown",
      "metadata": {
        "id": "8EtblCij_c1G",
        "colab_type": "text"
      },
      "source": [
        "#### Plot, type, xlab, ylab, xlim, ylim\n",
        "type = <br>\n",
        "\"n\" means scale but do not plot<br>\n",
        "\"p\" means points<br>\n",
        "\"l\" means lines, (this the letter lower case L not the number 1)<br>\n",
        "\n",
        "\"b\" means both points and lines<br>\n",
        "\"c\" means the line part of \"b\"<br>\n",
        "\"o\" means overplot points on lines, and is similar to \"b\"<br>\n",
        "\"h\" means histogram or high-density vertical lines<br>\n",
        "\"s\" means stair steps. when x1 < x2 it draws horizonally first<br>\n",
        "\"S\" like \"s\" but draws vertically first"
      ]
    },
    {
      "cell_type": "code",
      "metadata": {
        "id": "sT1v-_pS_c1G",
        "colab_type": "code",
        "colab": {},
        "outputId": "a92f80d1-1461-42c7-8b3b-94be73835245"
      },
      "source": [
        "## Plot, type, xlab, ylab, xlim, ylim ##\n",
        "x = seq(1,10,.01)\n",
        "f = function(x) x^2\n",
        "y=f(x)\n",
        "plot(x,y,\n",
        "    type=\"l\",\n",
        "    xlab=\"x title\",\n",
        "    ylab=\"y title\",\n",
        "    main = \"The Title\",\n",
        "    xlim = c(0,5),\n",
        "    ylim = c(-5,50))"
      ],
      "execution_count": 0,
      "outputs": [
        {
          "output_type": "display_data",
          "data": {
            "image/png": "[encoded data removed]",
            "text/plain": [
              "Plot with title \"The Title\""
            ]
          },
          "metadata": {
            "tags": []
          }
        }
      ]
    },
    {
      "cell_type": "code",
      "metadata": {
        "id": "kGBBPkgD_c1N",
        "colab_type": "code",
        "colab": {},
        "outputId": "08d09486-b48f-42bb-f337-a1410f3e4a67"
      },
      "source": [
        "## Run\n",
        "x = rnorm(100)\n",
        "y = 2*x+3 + rnorm(100,sd=.4)\n",
        "plot(x,y)\n",
        "##\n",
        "ord = order(x)\n",
        "plot(x[ord],y[ord],type=\"l\", main=\"xaxs='i' avoids adding 4% more white space\",xlab=\"X\", ylab=\"Y\",xlim= c(-4,4),xaxs='i')"
      ],
      "execution_count": 0,
      "outputs": [
        {
          "output_type": "display_data",
          "data": {
            "image/png": "[encoded data removed]",
            "text/plain": [
              "plot without title"
            ]
          },
          "metadata": {
            "tags": []
          }
        },
        {
          "output_type": "display_data",
          "data": {
            "image/png": "[encoded data removed]",
            "text/plain": [
              "Plot with title \"xaxs='i' avoids adding 4% more white space\""
            ]
          },
          "metadata": {
            "tags": []
          }
        }
      ]
    },
    {
      "cell_type": "markdown",
      "metadata": {
        "id": "db2B-YWw_c1S",
        "colab_type": "text"
      },
      "source": [
        "#### Argument\n",
        "<ol>\n",
        "- pch= specifies the plotting symbol by character or number.<br>\n",
        "Often plotting symbol can be given as a single chararcter in quotes as above<br>\n",
        "- cex = specifies a multiple of the default character size<br>\n",
        "- col = specifies the color in hexadecimal format\n",
        "</ol>\n",
        "The argument vectors cycle to match the number of needed values for the number of points."
      ]
    },
    {
      "cell_type": "code",
      "metadata": {
        "id": "_0PdvhnS_c1U",
        "colab_type": "code",
        "colab": {},
        "outputId": "bc8d1d19-331b-4e4a-ff80-979bf2222d30"
      },
      "source": [
        "num = 1:25\n",
        "plot(num,num,pch=num,cex=c(.5,2),col=c(\"red\",\"green\",\"blue\"),\n",
        "xlim=c(-1,26),\n",
        "main=\"Cycling 2 symbol sizes and 3 colors\")\n",
        "text(num-.5,num,num,adj=1,cex=1.1,col=\"#707070\")\n"
      ],
      "execution_count": 0,
      "outputs": [
        {
          "output_type": "display_data",
          "data": {
            "image/png": "[encoded data removed]",
            "text/plain": [
              "Plot with title \"Cycling 2 symbol sizes and 3 colors\""
            ]
          },
          "metadata": {
            "tags": []
          }
        }
      ]
    },
    {
      "cell_type": "markdown",
      "metadata": {
        "id": "rum9zUjy_c1Z",
        "colab_type": "text"
      },
      "source": [
        "The main color setting for basic graphics are col, fg, and bg.<br>\n",
        "<ol>\n",
        "- col: This keywork is typically for the color of points, lines, and polygons drawn in the plot.\n",
        "fg: This keywork roughly stands for foreground. This typically controls the plot outline, axes,\n",
        "ticks, tick labels and text.<br>\n",
        "- bg: This keywork stands for background and typically indicates the window fill color.\n",
        "</ol>\n",
        "The values for col, fg, and bg can be strings giving color names. R recognizes 657 color names such a \"red\", \"blue\", \"skyblue\" and \"yellowgreen\". R will also recognize strings that starts with a \"#\" are followed by a hexadecimal code for red, green, blue and alpha intensities. The default for alpha transparency is opaque (FF) and is often omitted. For example \"#FF000000\" will produce red. More about this coding appears below.<br>\n",
        "\n",
        "R uses a string starting with a \"#\" to represent color. This is following by a hexadecimal representation for red, green, blue and alpha, respectively. In \"#FFACBB80\", FF encodes the red intensity, AC encodes the green intensity, BB encodes the blue intensity, 80 encodes the transparency larger values being more opaque. Hexadecimal provides a way to represent four bit binary numbers with a single character. As examples, 0 means 0000 in binary, 1 means 0001, 2 means 0010, 9 means 1001, A means, 1010, and F means 1111. <br>\n",
        "The pair 00 represents an 8 bit binary number 00000000<br>\n",
        "The pair FF represents an 8 bit binary number 11111111<br>\n",
        "The 00 and FF are the values are 0 and 255 in decimal. These used to be the range of color intensities for red, green or blue on many graphics devices. (The trend is toward floating point intensities for red green and blue)."
      ]
    },
    {
      "cell_type": "code",
      "metadata": {
        "id": "zvCnzy87_c1a",
        "colab_type": "code",
        "colab": {},
        "outputId": "b1989b28-3c0c-432d-f89b-ca390b227c11"
      },
      "source": [
        "palette()\n",
        "## col = 1 would refer to black, col=2 refers to red, etc"
      ],
      "execution_count": 0,
      "outputs": [
        {
          "output_type": "display_data",
          "data": {
            "text/html": [
              "<ol class=list-inline>\n",
              "\t<li>'black'</li>\n",
              "\t<li>'red'</li>\n",
              "\t<li>'green3'</li>\n",
              "\t<li>'blue'</li>\n",
              "\t<li>'cyan'</li>\n",
              "\t<li>'magenta'</li>\n",
              "\t<li>'yellow'</li>\n",
              "\t<li>'gray'</li>\n",
              "</ol>\n"
            ],
            "text/latex": "\\begin{enumerate*}\n\\item 'black'\n\\item 'red'\n\\item 'green3'\n\\item 'blue'\n\\item 'cyan'\n\\item 'magenta'\n\\item 'yellow'\n\\item 'gray'\n\\end{enumerate*}\n",
            "text/markdown": "1. 'black'\n2. 'red'\n3. 'green3'\n4. 'blue'\n5. 'cyan'\n6. 'magenta'\n7. 'yellow'\n8. 'gray'\n\n\n",
            "text/plain": [
              "[1] \"black\"   \"red\"     \"green3\"  \"blue\"    \"cyan\"    \"magenta\" \"yellow\" \n",
              "[8] \"gray\"   "
            ]
          },
          "metadata": {
            "tags": []
          }
        }
      ]
    },
    {
      "cell_type": "code",
      "metadata": {
        "id": "riNlkN4R_c1f",
        "colab_type": "code",
        "colab": {},
        "outputId": "c68afff2-0aa0-478c-d581-c24e0bc1e457"
      },
      "source": [
        "## Illustrates the rainbox color function\n",
        "angle = seq(0,pi,length=20)\n",
        "x = cos(angle)\n",
        "y = sin(angle)\n",
        "myColors = rainbow(25) # made purposely longer than 20\n",
        "plot(x,y,pch=16,cex=3,col=myColors)\n",
        "myColors[1:3] # by default print the object value\n",
        "##"
      ],
      "execution_count": 0,
      "outputs": [
        {
          "output_type": "display_data",
          "data": {
            "text/html": [
              "<ol class=list-inline>\n",
              "\t<li>'#FF0000FF'</li>\n",
              "\t<li>'#FF3D00FF'</li>\n",
              "\t<li>'#FF7A00FF'</li>\n",
              "</ol>\n"
            ],
            "text/latex": "\\begin{enumerate*}\n\\item '\\#FF0000FF'\n\\item '\\#FF3D00FF'\n\\item '\\#FF7A00FF'\n\\end{enumerate*}\n",
            "text/markdown": "1. '#FF0000FF'\n2. '#FF3D00FF'\n3. '#FF7A00FF'\n\n\n",
            "text/plain": [
              "[1] \"#FF0000FF\" \"#FF3D00FF\" \"#FF7A00FF\""
            ]
          },
          "metadata": {
            "tags": []
          }
        },
        {
          "output_type": "display_data",
          "data": {
            "image/png": "[encoded data removed]",
            "text/plain": [
              "plot without title"
            ]
          },
          "metadata": {
            "tags": []
          }
        }
      ]
    },
    {
      "cell_type": "code",
      "metadata": {
        "id": "z0wIgNBi_c1k",
        "colab_type": "code",
        "colab": {},
        "outputId": "ff495a9b-09a1-4464-d7b5-b454a3d758a0"
      },
      "source": [
        "## Run Used in LM Plots presented later in class\n",
        "rgbMat = matrix(c(\n",
        ".00, .00, .00, #1 text, lines: black\n",
        "1.00,1.00,1.00, #2 lines: white\n",
        ".90, .90, .90, #3 panel fill: light gray\n",
        "1.00, .15, .15, #4 region 1: red\n",
        "1.00, .70, .31, #5 region 2: orange from Atlas\n",
        ".00, .90, .00, #6 region 3: green3\n",
        ".20, .50,1.00, #7 region 4: greenish blue\n",
        ".70, .40,1.00, #8 region 5: lavendar\n",
        ".50, .50, .50, #9 region 6, lines: middle gray\n",
        ".30, .30, .30, #10 dark gray\n",
        ".93,1.00, .93, #11 reference interval fill, light green\n",
        ".90, .80,1.00, #12 dark yellow foreground\n",
        "1.00,1.00, .88, #13 light yellow foreground\n",
        ".90, .90, .90, #14 another light gray\n",
        ".00, .50, .00), #15 mid green\n",
        "ncol=3,byrow=T)\n",
        "rgbHex = rgb(rgbMat[,1],rgbMat[,2],rgbMat[,3])\n",
        "rgbHex\n",
        "##\n",
        "palette(rgbHex) # Running this would change the palette\n",
        "palette(\"default\") #Brings it back to the default"
      ],
      "execution_count": 0,
      "outputs": [
        {
          "output_type": "display_data",
          "data": {
            "text/html": [
              "<ol class=list-inline>\n",
              "\t<li>'#000000'</li>\n",
              "\t<li>'#FFFFFF'</li>\n",
              "\t<li>'#E6E6E6'</li>\n",
              "\t<li>'#FF2626'</li>\n",
              "\t<li>'#FFB34F'</li>\n",
              "\t<li>'#00E600'</li>\n",
              "\t<li>'#3380FF'</li>\n",
              "\t<li>'#B366FF'</li>\n",
              "\t<li>'#808080'</li>\n",
              "\t<li>'#4D4D4D'</li>\n",
              "\t<li>'#EDFFED'</li>\n",
              "\t<li>'#E6CCFF'</li>\n",
              "\t<li>'#FFFFE0'</li>\n",
              "\t<li>'#E6E6E6'</li>\n",
              "\t<li>'#008000'</li>\n",
              "</ol>\n"
            ],
            "text/latex": "\\begin{enumerate*}\n\\item '\\#000000'\n\\item '\\#FFFFFF'\n\\item '\\#E6E6E6'\n\\item '\\#FF2626'\n\\item '\\#FFB34F'\n\\item '\\#00E600'\n\\item '\\#3380FF'\n\\item '\\#B366FF'\n\\item '\\#808080'\n\\item '\\#4D4D4D'\n\\item '\\#EDFFED'\n\\item '\\#E6CCFF'\n\\item '\\#FFFFE0'\n\\item '\\#E6E6E6'\n\\item '\\#008000'\n\\end{enumerate*}\n",
            "text/markdown": "1. '#000000'\n2. '#FFFFFF'\n3. '#E6E6E6'\n4. '#FF2626'\n5. '#FFB34F'\n6. '#00E600'\n7. '#3380FF'\n8. '#B366FF'\n9. '#808080'\n10. '#4D4D4D'\n11. '#EDFFED'\n12. '#E6CCFF'\n13. '#FFFFE0'\n14. '#E6E6E6'\n15. '#008000'\n\n\n",
            "text/plain": [
              " [1] \"#000000\" \"#FFFFFF\" \"#E6E6E6\" \"#FF2626\" \"#FFB34F\" \"#00E600\" \"#3380FF\"\n",
              " [8] \"#B366FF\" \"#808080\" \"#4D4D4D\" \"#EDFFED\" \"#E6CCFF\" \"#FFFFE0\" \"#E6E6E6\"\n",
              "[15] \"#008000\""
            ]
          },
          "metadata": {
            "tags": []
          }
        }
      ]
    },
    {
      "cell_type": "markdown",
      "metadata": {
        "id": "dpDBu_Hw_c1n",
        "colab_type": "text"
      },
      "source": [
        "## Section 3.3: Lines, Segments, and Arrows\n",
        "lines(x, y = NULL, type = \"l\", col = par(\"col\"),\n",
        "        lty = par(\"lty\"), ...)\n",
        "The main arguments are<br>\n",
        "<ol>\n",
        "<li>col: color as described before\n",
        "<li>lty: line type, default \"solid\", options: \"solid\",\"dashed\",\"dotted\", ...\n",
        "<li>lwd: line width, default usually means 1 pixel or .75 points (font size)\n",
        "</ol>"
      ]
    },
    {
      "cell_type": "code",
      "metadata": {
        "id": "_vf764jS_c1p",
        "colab_type": "code",
        "colab": {},
        "outputId": "0a4f9ebe-663b-4ad2-9f95-2a29152a7976"
      },
      "source": [
        "## lines, lwd (line width), lty (line type)\n",
        "x = c(0,1)\n",
        "y1 = c(1,1)\n",
        "y2 = c(2,2)\n",
        "y3 = c(3,3)\n",
        "x4 = seq(0,1,length=6)\n",
        "y4 = rep(4,6)\n",
        "x4[4]= NA # insert a missing data code. This forces the pen to lift\n",
        "xRange = range(x,na.rm=T) # remove missing data then compute\n",
        "yRange = range(y)\n",
        "plot(c(0,1),c(0,4),type='n')\n",
        "lines(x,y1,col=\"red\",lty=\"solid\",lwd=1)\n",
        "lines(x,y2,col=\"purple\",lty=\"dashed\",lwd=2)\n",
        "lines(x,y3,col=\"orange\",lty=\"dotted\",lwd=2)\n",
        "lines(x4,y4,col=\"black\",lty=\"dashed\",lwd=4)\n",
        "##"
      ],
      "execution_count": 0,
      "outputs": [
        {
          "output_type": "display_data",
          "data": {
            "image/png": "[encoded data removed]",
            "text/plain": [
              "plot without title"
            ]
          },
          "metadata": {
            "tags": []
          }
        }
      ]
    },
    {
      "cell_type": "code",
      "metadata": {
        "id": "84k9BiR-_c1x",
        "colab_type": "code",
        "colab": {},
        "outputId": "99c78d84-7c52-4f72-9a95-41d6758e2a21"
      },
      "source": [
        "w0 = rep(0,4)\n",
        "w1 = 1:4\n",
        "z0 = 1:4\n",
        "z1 = 1:4\n",
        "plot(c(0,4),c(1,4),type='n')\n",
        "segments(w0,z0,w1,z1,lty=c(\"solid\",\"dotted\",\"dotted\",\"dashed\"),\n",
        "    col=c(\"red\",\"blue\",\"Purple\",\"#0088FF\"),lwd=2)"
      ],
      "execution_count": 0,
      "outputs": [
        {
          "output_type": "display_data",
          "data": {
            "image/png": "[encoded data removed]",
            "text/plain": [
              "plot without title"
            ]
          },
          "metadata": {
            "tags": []
          }
        }
      ]
    },
    {
      "cell_type": "markdown",
      "metadata": {
        "id": "D8yFfrc5_c11",
        "colab_type": "text"
      },
      "source": [
        "## Section 3.4: Plotting Vectors - use the arrow command\n",
        "Arrows have additional arguments the use only first value if a vector is given.<br>\n",
        "<ol>\n",
        "<li>length: of the arrow in inches\n",
        "<li>angle: the angle of the arrow tip in degrees\n",
        "<li>code: 1=arrow tip a the first point of the pair, 2= second point, 3 = both points\n",
        "</ol>"
      ]
    },
    {
      "cell_type": "code",
      "metadata": {
        "id": "RIDaQxN1_c12",
        "colab_type": "code",
        "colab": {},
        "outputId": "19d4a6a3-f106-491c-b6ed-20c329b78b5a"
      },
      "source": [
        "x0=0;y0=0;x1=-5;y1=10\n",
        "plot(0,0,xlim=c(-20,20),ylim=c(-20,20),type='n')\n",
        "segments(x0, y0, x1, y1, col = par(\"fg\"), lty = par(\"lty\"), lwd = par(\"lwd\"))\n",
        "arrows(x0, y0, x1, y1, length = 0.25, angle = 30, code = 2,\n",
        "    col = par(\"fg\"), lty = NULL, lwd = par(\"lwd\"), xpd = NULL)"
      ],
      "execution_count": 0,
      "outputs": [
        {
          "output_type": "display_data",
          "data": {
            "image/png": "[encoded data removed]",
            "text/plain": [
              "plot without title"
            ]
          },
          "metadata": {
            "tags": []
          }
        }
      ]
    },
    {
      "cell_type": "code",
      "metadata": {
        "id": "NgRvTxe2_c16",
        "colab_type": "code",
        "colab": {},
        "outputId": "e074ba08-76f4-4231-c838-7a98ff72d213"
      },
      "source": [
        "w0 = rep(0,4)\n",
        "w1 = 1:4\n",
        "z0 = 1:4\n",
        "z1 = 1:4\n",
        "plot(c(0,4),c(1,4),type='n')\n",
        "arrows(w0,z0,w1,z1,lty=c(\"solid\",\"dotted\",\"dotted\",\"dashed\"),\n",
        "col=c(\"red\",\"blue\",\"Purple\",\"#0088FF\"),length=.2,code=3,lwd=2)"
      ],
      "execution_count": 0,
      "outputs": [
        {
          "output_type": "display_data",
          "data": {
            "image/png": "[encoded data removed]",
            "text/plain": [
              "plot without title"
            ]
          },
          "metadata": {
            "tags": []
          }
        }
      ]
    },
    {
      "cell_type": "markdown",
      "metadata": {
        "id": "0bM_tare_c1_",
        "colab_type": "text"
      },
      "source": [
        "## Section 3.5: Polygons \n",
        "polygon(x, y = NULL, density = NULL, angle = 45, border = NULL, col = NA, lty = NULL, xpd = NULL, ...)<br>\n",
        "polygons(x,y,col=1,density=-1,border=F)<br>\n",
        "For a simple sequence of x and y values polygon(x,y) constructs and fills a polygon. R automatically connects the last point in the sequence to the first point. The first point does not need to be duplicated, but this doesn't hurt.<br><br>\n",
        "Stacking Polygons: Separate polygons composed of simple x and y sequences, can be separated by NA's and stacked in two big x and y vectors. This renders faster than using multiple calls to polygon(). A whole map can be constructed with two\n",
        "calls to polygon(). One call to fill the regions with different colors and one call to redraw the region outlines in gray.\n",
        "\n",
        "Multiple colors:\n",
        "The col argument can be vector and the subscript advances 1 after each polygon is closed due to encountering NA in x or y or both. The vector is repeated as necessary to make a long vector if the subscripts to beyond the length. In particular a single vlue argument will be used for all of the polygons drawn. \n",
        "<ol>\n",
        "<li>density= The value 0 prevents filling of the polygon. -1 allows color fill\n",
        "<li> border= The color to draw the border. NA or F means don't draw it.NULL or T means used the default, the \"fg\" color. The value T causes the border to be drawn."
      ]
    },
    {
      "cell_type": "code",
      "metadata": {
        "id": "_Rtxulvk_c2A",
        "colab_type": "code",
        "colab": {},
        "outputId": "febb4a75-6bab-435f-8e76-97703c3980ea"
      },
      "source": [
        "## Polygon ##\n",
        "x = rnorm(200)\n",
        "y = rnorm(200)\n",
        "hull = chull(x,y) # find the convex hull\n",
        "plot(x,y,col=\"red\")\n",
        "polygon(x[hull],y[hull],density=0,col=\"blue\",lwd=2) # draw hull\n",
        "points(x[hull],y[hull],col=\"orange\",cex=1,pch=16)\n"
      ],
      "execution_count": 0,
      "outputs": [
        {
          "output_type": "display_data",
          "data": {
            "image/png": "[encoded data removed]",
            "text/plain": [
              "plot without title"
            ]
          },
          "metadata": {
            "tags": []
          }
        }
      ]
    },
    {
      "cell_type": "markdown",
      "metadata": {
        "id": "zrOItE1G_c2E",
        "colab_type": "text"
      },
      "source": [
        ""
      ]
    }
  ]
}