{
  "nbformat": 4,
  "nbformat_minor": 0,
  "metadata": {
    "kernelspec": {
      "display_name": "R",
      "language": "R",
      "name": "ir"
    },
    "language_info": {
      "codemirror_mode": "r",
      "file_extension": ".r",
      "mimetype": "text/x-r-source",
      "name": "R",
      "pygments_lexer": "r",
      "version": "3.6.1"
    },
    "colab": {
      "name": "Lsn05_MVOptimization.ipynb",
      "provenance": [],
      "include_colab_link": true
    }
  },
  "cells": [
    {
      "cell_type": "markdown",
      "metadata": {
        "id": "view-in-github",
        "colab_type": "text"
      },
      "source": [
        "<a href=\"https://colab.research.google.com/github/jakelaporte/MathematicalModeling/blob/master/Lsn05_MVOptimization.ipynb\" target=\"_parent\"><img src=\"https://colab.research.google.com/assets/colab-badge.svg\" alt=\"Open In Colab\"/></a>"
      ]
    },
    {
      "cell_type": "markdown",
      "metadata": {
        "id": "v7qmgwPm-D6M",
        "colab_type": "text"
      },
      "source": [
        "## Lesson 5 Multivariable Optimization (pages 21-31)\n",
        "Example 2.1 Color TV Sales\n",
        "\n",
        "**Facts/Variables:**<ol>\n",
        "- $s$ = number of 19-inch TVs sold (per year)<br>\n",
        "- $t$ = number of 21-inch TVs sold (per year)<br>\n",
        "- $p$ = selling price of a 19 in set (\\$)<br>\n",
        "- $q$ = selling price of a 21 in set (\\$)<br>\n",
        "- $C$ = cost of manufacturing sets (\\$/yr)<br>\n",
        "- $R$ = revenue from sale of sets (\\$/yr)<br>\n",
        "- $P$ = profit from the sale of sets (\\$/yr)<br>\n",
        "</ol>\n",
        "\n",
        "**Assumptions** <ol>\n",
        "- $p$ - selling price of 19in set is affected by the number of 19in & 21in TV sets sold: $p=339-0.01s-0.003t$\n",
        "- $q$ - selling price of 21in set is affected by the number of 19in & 21in TV sets sold: $q=339-0.004s-0.01t$\n",
        "- $R$ - revenue is made only from selling these two TV sets: $R = ps+qt$\n",
        "- $C$ - there is a fixed cost and enough of other materials not to cause any additional cost for making more sets: $C = 400000+195s+225t$\n",
        "- $P = R-C$\n",
        "- $s\\ge0$\n",
        "- $t\\ge0$\n",
        "</ol>\n",
        "\n",
        "**Objective:** Maximixe $P$"
      ]
    },
    {
      "cell_type": "markdown",
      "metadata": {
        "id": "DWqRmEpN-D6R",
        "colab_type": "text"
      },
      "source": [
        "#### Numerical Calculation using a form of Newton's Method ####\n",
        "Let's start by recalling single variable newton's method and using that to understand multi-variable version.<br>\n",
        "The general form of a numerical method lies in using the previous value and adding some step that makes the next value better: $x_{n+1} = x_n+p$ the step in this equation is the step $p$. Newton's method (as we derived in class) uses the derivatives to find the best step.<br><br>\n",
        "$x_{n+1} = x_n-\\frac{f(x_n)}{f'(x_n)}$ solves for the root of $f(x)$ <br><br>\n",
        "When trying to find an optimal point, we substitute the derivative in for the function to find the root of the derivative.<br> <br>\n",
        "$x_{n+1} = x_n-\\frac{f'(x_n)}{f''(x_n)}$ solves for the root of $f'(x)$. <br><br>\n",
        "This numerical method allows us to take steps toward optimal point. Here, let's take $x_n$ to the left side and isolate the step so that we can use this same process for multivariable. $x_{n+1}-x{n} = p = -\\frac{f'(x_n)}{f''(x_n)}$ which turns into $\\boxed{f''(x_n)p=-f'(x_n)}$. This is the same formula that we will use for the multivariable newton's method to find the direction of the next step."
      ]
    },
    {
      "cell_type": "markdown",
      "metadata": {
        "id": "FTSXbMvx-D6U",
        "colab_type": "text"
      },
      "source": [
        "#### Multivariable Newton's Method ####\n",
        "Starting the same as above except with vectors this time, we see that $\\vec{x}_{n+1}=\\vec{x}_n+\\vec{p}$. All we need to do is find the direction $\\vec{p}$. Using the boxed equation and Linear Algebra instead of simple algebra, we need to solve the following equation at each step of process:<br><br>\n",
        "$$ \\vec{\\triangledown}^2 f(x_n)\\vec{p} =  -\\vec{\\triangledown} f(x_n)$$ <br>\n",
        "where $\\vec{\\triangledown}^2 f(x_n)$ is the Hessian Matrix and $\\vec{\\triangledown} f(x_n)$ is the gradient.<br><br>\n",
        "If we perform this method for large problems, then it would cost a lot of calculations to find the Hessian matrix at each step. This computationally expensive requirement is usually relaxed in the non-linear optimization by finding and updating an approximation to the Hessian at each step. The method used by many was developed by Broyden, Fletcher, Goldfarb, and Shanno and is known by their initials (BFGS). The idea behind their method is to use the difference between the gradients and previous locations to create a rank 2 update to the previous Hessian that preserves both symmetry and positive definiteness of the Hessian matrix. We will not use our own code to find the optimal point, so it is not helpful to review their method. This is a topic for our non-linear optimization course, but it is not difficult and you are only asked to understand that it is simply updating the Hessian matrix using the gradient at each step. This relaxation of calculating the Hessian makes this method known as a Quasi-Newton method.\n",
        "\n",
        "#### Use the Quasi-Newton BFGS method ####\n",
        "The last idea that you need to understand before using the method in practice is that it is for a minimization. As described in lesson 1, positive definiteness relates back to finding minimums. So, what do we do we are maximizing a function? Do we take all of these ideas and reverse them or is there another way?? We can turn any maximization into a minimization by simply multiplying the objective function by a -1 which is much easier than having two different systems for min and max. So that is what we will do in practice. The Transform step above got us to maximizing a profit - we will minimize the negative of this function (see below)."
      ]
    },
    {
      "cell_type": "code",
      "metadata": {
        "id": "T7O-_XRE-D6X",
        "colab_type": "code",
        "colab": {},
        "outputId": "f02fc8cf-2a5f-45a4-83d7-3be4a9291d8d"
      },
      "source": [
        "P = function(x){\n",
        "    return(((339-0.01*x[1]-0.003*x[2])*x[1]\n",
        "           +(399-0.004*x[1]-0.01*x[2])*x[2]\n",
        "           -(400000+195*x[1]+225*x[2]))*-1)\n",
        "}\n",
        "x=c(500,500) #starting point for optimization\n",
        "ans = optim(x,P,method=\"BFGS\") #BFGS is a numerical technique used to incrementally calculate the Hessian for Newton\n",
        "print(ans)\n",
        "paste(c(\"Profits are maximized by selling:\",round(ans$par[1]),\" 19 in TVs and \",\n",
        "        round(ans$par[2]),\" 21 in TVs. Resulting in a profit of: $\",\n",
        "        format(round(-P(ans$par)),big.mark=\",\")),collapse=\"\")\n",
        "paste(c(\"Average Selling Price of 19 in set is: $\",round(339-0.01*ans$par[1]-0.003*ans$par[2],2)),collapse=\"\")\n",
        "paste(c(\"Average Selling Price of 21 in set is: $\",round(399-0.004*ans$par[1]-0.01*ans$par[2],2)),collapse=\"\")"
      ],
      "execution_count": 0,
      "outputs": [
        {
          "output_type": "stream",
          "text": [
            "$par\n",
            "[1] 4735.043 7042.735\n",
            "\n",
            "$value\n",
            "[1] -553641\n",
            "\n",
            "$counts\n",
            "function gradient \n",
            "       8        5 \n",
            "\n",
            "$convergence\n",
            "[1] 0\n",
            "\n",
            "$message\n",
            "NULL\n",
            "\n"
          ],
          "name": "stdout"
        },
        {
          "output_type": "display_data",
          "data": {
            "text/html": [
              "'Profits are maximized by selling:4735 19 in TVs and 7043 21 in TVs. Resulting in a profit of: $553,641'"
            ],
            "text/latex": "'Profits are maximized by selling:4735 19 in TVs and 7043 21 in TVs. Resulting in a profit of: \\$553,641'",
            "text/markdown": "'Profits are maximized by selling:4735 19 in TVs and 7043 21 in TVs. Resulting in a profit of: $553,641'",
            "text/plain": [
              "[1] \"Profits are maximized by selling:4735 19 in TVs and 7043 21 in TVs. Resulting in a profit of: $553,641\""
            ]
          },
          "metadata": {
            "tags": []
          }
        },
        {
          "output_type": "display_data",
          "data": {
            "text/html": [
              "'Average Selling Price of 19 in set is: $270.52'"
            ],
            "text/latex": "'Average Selling Price of 19 in set is: \\$270.52'",
            "text/markdown": "'Average Selling Price of 19 in set is: $270.52'",
            "text/plain": [
              "[1] \"Average Selling Price of 19 in set is: $270.52\""
            ]
          },
          "metadata": {
            "tags": []
          }
        },
        {
          "output_type": "display_data",
          "data": {
            "text/html": [
              "'Average Selling Price of 21 in set is: $309.63'"
            ],
            "text/latex": "'Average Selling Price of 21 in set is: \\$309.63'",
            "text/markdown": "'Average Selling Price of 21 in set is: $309.63'",
            "text/plain": [
              "[1] \"Average Selling Price of 21 in set is: $309.63\""
            ]
          },
          "metadata": {
            "tags": []
          }
        }
      ]
    },
    {
      "cell_type": "markdown",
      "metadata": {
        "id": "lmUN2c7f-D6g",
        "colab_type": "text"
      },
      "source": [
        "## Sensitivity Analysis\n",
        "Choose an assumption and let's analyze how changing that assumption will affect our result. The book chooses price elasticity of 19 inch sets. Let's do the same thing in R to see how we can use R to analyze this assumption and see what happens to the answer as we change this assumption. Let's start by changing our function from above into one that only considers the value of a and calculates the new optimal, since we might need the optimal value or the parameters, let's print out and later return both in a list. Since we know the values (from above) for 0.01, use it as validating our function."
      ]
    },
    {
      "cell_type": "code",
      "metadata": {
        "id": "XOaGCr9m-D6j",
        "colab_type": "code",
        "colab": {},
        "outputId": "6b5f9cde-7e74-4429-ae3b-89bca17dc786"
      },
      "source": [
        "P = function(a){\n",
        "    f = function(x){((339-a*x[1]-0.003*x[2])*x[1]\n",
        "           +(399-0.004*x[1]-0.01*x[2])*x[2]\n",
        "           -(400000+195*x[1]+225*x[2]))*-1\n",
        "    }\n",
        "    x = c(4700,7042)\n",
        "    ans = optim(x,f,method=\"BFGS\")\n",
        "    ## Choose which of these that we will return ##\n",
        "    print(ans$par)\n",
        "    print(ans$value)   \n",
        "}\n",
        "P(0.01)"
      ],
      "execution_count": 0,
      "outputs": [
        {
          "output_type": "stream",
          "text": [
            "[1] 4735.051 7042.736\n",
            "[1] -553641\n"
          ],
          "name": "stdout"
        }
      ]
    },
    {
      "cell_type": "markdown",
      "metadata": {
        "id": "BEIDdEjO-D6q",
        "colab_type": "text"
      },
      "source": [
        "#### Figure 2.5 from the book \n",
        "Let's use the function above and a sequence of a values (looks like the book goes from 0 through 0.02. Since the optimum production value for 19 inch sets is plotted, then that is what we will choose to return in our function (and we will take out the print statements)."
      ]
    },
    {
      "cell_type": "code",
      "metadata": {
        "id": "2cSLxUTy-D6r",
        "colab_type": "code",
        "colab": {},
        "outputId": "064bc134-dd92-41f6-f0e8-43ebd8b93398"
      },
      "source": [
        "P = function(a){\n",
        "    f = function(x){((339-a*x[1]-0.003*x[2])*x[1]\n",
        "           +(399-0.004*x[1]-0.01*x[2])*x[2]\n",
        "           -(400000+195*x[1]+225*x[2]))*-1\n",
        "    }\n",
        "    x = c(4700,7042)\n",
        "    ans = optim(x,f,method=\"BFGS\")\n",
        "    ## Choose which of these that we will return ##\n",
        "    #print(ans$par)\n",
        "    #print(ans$value)   \n",
        "    return(ans)\n",
        "}\n",
        "a = seq(0.002,0.02,0.001)\n",
        "ans.x1=0\n",
        "ans.x2=0\n",
        "ans.profit=0\n",
        "for(i in 1:length(a)){\n",
        "    ans = P(a[i])\n",
        "    ans.x1[i]=ans$par[1]\n",
        "    ans.x2[i]=ans$par[2]\n",
        "    ans.profit[i] = -ans$value\n",
        "}\n",
        "result = data.frame(a=a,x1=ans.x1,x2=ans.x2,profit=format(ans.profit,big.mark=\",\"))\n",
        "print(result)\n",
        "plot(a,ans.x1,xlim=c(0,0.02),ylim=c(0,10000),type=\"l\",ylab=\"optimum x1/x2\",main=\"Figure 2.5/2.6 Book\",\n",
        "     xaxs=\"i\", yaxs=\"i\",col=\"blue\")\n",
        "lines(a,ans.x2,col=\"red\")\n",
        "legend(\"topleft\",legend=c(\"x1\",\"x2\"),lty=1,col=c(\"blue\",\"red\"))\n",
        "grid(lwd=2, nx=4, ny=10)"
      ],
      "execution_count": 0,
      "outputs": [
        {
          "output_type": "stream",
          "text": [
            "       a        x1          x2      profit\n",
            "1  0.002 53612.900 -10064.5124 2,584,516.1\n",
            "2  0.003 23407.877    505.7253 1,329,521.1\n",
            "3  0.004 14972.535   3458.7579   979,027.0\n",
            "4  0.005 11006.446   4847.4863   814,225.2\n",
            "5  0.006  8710.635   5647.0907   718,449.7\n",
            "6  0.007  7197.875   6178.8347   655,844.1\n",
            "7  0.008  6136.679   6553.7258   611,719.4\n",
            "8  0.009  5345.303   6829.6616   578,945.3\n",
            "9  0.010  4735.051   7042.7364   553,641.0\n",
            "10 0.011  4250.122   7212.2779   533,514.1\n",
            "11 0.012  3855.381   7350.3407   517,123.0\n",
            "12 0.013  3527.805   7464.9580   503,515.9\n",
            "13 0.014  3251.579   7561.6335   492,039.1\n",
            "14 0.015  3015.498   7644.2737   482,228.7\n",
            "15 0.016  2811.397   7715.7278   473,746.2\n",
            "16 0.017  2633.185   7778.1230   466,339.1\n",
            "17 0.018  2476.229   7833.0791   459,815.2\n",
            "18 0.019  2336.937   7881.8518   454,025.3\n",
            "19 0.020  2212.485   7925.4288   448,852.2\n"
          ],
          "name": "stdout"
        },
        {
          "output_type": "display_data",
          "data": {
            "image/png": "[encoded data removed]",
            "text/plain": [
              "Plot with title \"Figure 2.5/2.6 Book\""
            ]
          },
          "metadata": {
            "tags": []
          }
        }
      ]
    },
    {
      "cell_type": "markdown",
      "metadata": {
        "id": "2RK3ByFq-D6x",
        "colab_type": "text"
      },
      "source": [
        "The book uses the derivative to estimate what would happen, our results are what actually happens when you change the result by 10%. Understanding what the book is doing and how it is using the derivative to get the estimate is fine and will definitely help you understand what we actually need to do with the computing power that we have in R.\n",
        "\n",
        "Each one of the function calls below is an optimization of the parameters with a different value for elasticity. We built a table with all of the values that you need above, but below is how you would use those values in the table."
      ]
    },
    {
      "cell_type": "code",
      "metadata": {
        "id": "XYMUOY0O-D6z",
        "colab_type": "code",
        "colab": {},
        "outputId": "6801410a-f9ca-435f-b9d8-3dad244b7eb9"
      },
      "source": [
        "## If we are only interested in what happens at a 10% increase in elasticity\n",
        "(P(0.011)$par[1]-P(0.01)$par[1])/P(0.01)$par[1]\n",
        "(P(0.011)$par[2]-P(0.01)$par[2])/P(0.01)$par[2]\n",
        "paste(c(\"Here are the numbers from the table that were used in the first calculation:\",\n",
        "        P(0.011)$par[1],P(0.01)$par[1]),collapse=\" \")"
      ],
      "execution_count": 0,
      "outputs": [
        {
          "output_type": "display_data",
          "data": {
            "text/html": [
              "-0.102412735499731"
            ],
            "text/latex": "-0.102412735499731",
            "text/markdown": "-0.102412735499731",
            "text/plain": [
              "[1] -0.1024127"
            ]
          },
          "metadata": {
            "tags": []
          }
        },
        {
          "output_type": "display_data",
          "data": {
            "text/html": [
              "0.0240732352178718"
            ],
            "text/latex": "0.0240732352178718",
            "text/markdown": "0.0240732352178718",
            "text/plain": [
              "[1] 0.02407324"
            ]
          },
          "metadata": {
            "tags": []
          }
        },
        {
          "output_type": "display_data",
          "data": {
            "text/html": [
              "'Here are the numbers from the table that were used in the first calculation: 4250.12157764057 4735.05111506547'"
            ],
            "text/latex": "'Here are the numbers from the table that were used in the first calculation: 4250.12157764057 4735.05111506547'",
            "text/markdown": "'Here are the numbers from the table that were used in the first calculation: 4250.12157764057 4735.05111506547'",
            "text/plain": [
              "[1] \"Here are the numbers from the table that were used in the first calculation: 4250.12157764057 4735.05111506547\""
            ]
          },
          "metadata": {
            "tags": []
          }
        }
      ]
    },
    {
      "cell_type": "code",
      "metadata": {
        "id": "FS_IxaC0-D64",
        "colab_type": "code",
        "colab": {},
        "outputId": "36badddc-e79d-46c2-e45f-160aa767e4ad"
      },
      "source": [
        "## Use the data frame to produce Figure 2.7 ##\n",
        "## Note the very strange way of slicing the data ##\n",
        "print(ans.profit[3:length(ans.profit)])\n",
        "plot(result$a[3:length(result$a)],ans.profit[3:length(ans.profit)]/1000,xlab=\"a\",ylab=\"Profit(in 1000s)\",\n",
        "     type=\"l\",col=\"blue\",lwd=3,main=\"Figure 2.7\")\n",
        "grid(lwd=2, nx=4, ny=10)"
      ],
      "execution_count": 0,
      "outputs": [
        {
          "output_type": "stream",
          "text": [
            " [1] 979027.0 814225.2 718449.7 655844.1 611719.4 578945.3 553641.0 533514.1\n",
            " [9] 517123.0 503515.9 492039.1 482228.7 473746.2 466339.1 459815.2 454025.3\n",
            "[17] 448852.2\n"
          ],
          "name": "stdout"
        },
        {
          "output_type": "display_data",
          "data": {
            "image/png": "[encoded data removed]",
            "text/plain": [
              "Plot with title \"Figure 2.7\""
            ]
          },
          "metadata": {
            "tags": []
          }
        }
      ]
    },
    {
      "cell_type": "markdown",
      "metadata": {
        "id": "GIvFgTDH-D68",
        "colab_type": "text"
      },
      "source": [
        "From page 29, the author is interested in a 10% increase in price elasticity and the effects on the profit level. Our calculations are that a 10% increase in price level will result in a 3.6% decrease in profits (see next R calc). You can also use the table above to get the same calculations."
      ]
    },
    {
      "cell_type": "code",
      "metadata": {
        "id": "omF8ouB5-D6-",
        "colab_type": "code",
        "colab": {},
        "outputId": "e9c12874-6823-451c-dc3f-c32f6e723aff"
      },
      "source": [
        "(P(0.011)$value-P(0.01)$value)/P(0.01)$value\n",
        "\n",
        "## Table values ##\n",
        "a[10]\n",
        "ans.profit[10]\n",
        "a[9]\n",
        "ans.profit[9]"
      ],
      "execution_count": 0,
      "outputs": [
        {
          "output_type": "display_data",
          "data": {
            "text/html": [
              "-0.0363538125884563"
            ],
            "text/latex": "-0.0363538125884563",
            "text/markdown": "-0.0363538125884563",
            "text/plain": [
              "[1] -0.03635381"
            ]
          },
          "metadata": {
            "tags": []
          }
        },
        {
          "output_type": "display_data",
          "data": {
            "text/html": [
              "0.011"
            ],
            "text/latex": "0.011",
            "text/markdown": "0.011",
            "text/plain": [
              "[1] 0.011"
            ]
          },
          "metadata": {
            "tags": []
          }
        },
        {
          "output_type": "display_data",
          "data": {
            "text/html": [
              "533514.063552283"
            ],
            "text/latex": "533514.063552283",
            "text/markdown": "533514.063552283",
            "text/plain": [
              "[1] 533514.1"
            ]
          },
          "metadata": {
            "tags": []
          }
        },
        {
          "output_type": "display_data",
          "data": {
            "text/html": [
              "0.01"
            ],
            "text/latex": "0.01",
            "text/markdown": "0.01",
            "text/plain": [
              "[1] 0.01"
            ]
          },
          "metadata": {
            "tags": []
          }
        },
        {
          "output_type": "display_data",
          "data": {
            "text/html": [
              "553641.025640222"
            ],
            "text/latex": "553641.025640222",
            "text/markdown": "553641.025640222",
            "text/plain": [
              "[1] 553641"
            ]
          },
          "metadata": {
            "tags": []
          }
        }
      ]
    },
    {
      "cell_type": "markdown",
      "metadata": {
        "id": "kVlI7oBv-D7C",
        "colab_type": "text"
      },
      "source": [
        "## Sensitivity - what do we really lose if a = 0.011 instead of a=0.01\n",
        "In the book on page 30-31, the author tries to convince you that the answer is quite robust. Let's actually do the calculations to confirm or deny that. Assume that we solve the model using a = 0.01, and let a actually fluctuate (he used 10%, but we can test a lot using R.<br>\n",
        "#### Recall the solution, x1=4735 and x2=7042 ####\n",
        "Now let's see what happens to our profit as a goes from 0.01 through 0.02 by 0.001. We will compare the profit made by producing (4735,7042) with the optimal solution for each scenario (a)."
      ]
    },
    {
      "cell_type": "code",
      "metadata": {
        "id": "9QPpxhJu-D7D",
        "colab_type": "code",
        "colab": {},
        "outputId": "bb63f2df-05b7-4bbe-c854-78ec6e1434b0"
      },
      "source": [
        "P1 = function(a){\n",
        "    f = function(x){((339-a*x[1]-0.003*x[2])*x[1]\n",
        "           +(399-0.004*x[1]-0.01*x[2])*x[2]\n",
        "           -(400000+195*x[1]+225*x[2]))*-1\n",
        "    }\n",
        "    x = c(4735,7042) \n",
        "    return(f(x))\n",
        "}\n",
        "a = seq(0.01,0.02,0.0005)\n",
        "ans.profit = 0\n",
        "ans.maxProfit=0\n",
        "for (i in 1:length(a)){\n",
        "    ans.profit[i]=-P1(a[i])\n",
        "    ans.maxProfit[i] = -P(a[i])$value\n",
        "}\n",
        "result = data.frame(a=a,change=(a-0.01)/0.01,profit=ans.profit,max_profit=ans.maxProfit,\n",
        "                    diff=round((ans.maxProfit-ans.profit)/ans.maxProfit,4))\n",
        "print(result)"
      ],
      "execution_count": 0,
      "outputs": [
        {
          "output_type": "stream",
          "text": [
            "        a change   profit max_profit   diff\n",
            "1  0.0100   0.00 553641.0   553641.0 0.0000\n",
            "2  0.0105   0.05 542430.9   543035.0 0.0011\n",
            "3  0.0110   0.10 531220.8   533514.1 0.0043\n",
            "4  0.0115   0.15 520010.7   524919.7 0.0094\n",
            "5  0.0120   0.20 508800.6   517123.0 0.0161\n",
            "6  0.0125   0.25 497590.5   510017.7 0.0244\n",
            "7  0.0130   0.30 486380.3   503515.9 0.0340\n",
            "8  0.0135   0.35 475170.2   497543.8 0.0450\n",
            "9  0.0140   0.40 463960.1   492039.1 0.0571\n",
            "10 0.0145   0.45 452750.0   486949.1 0.0702\n",
            "11 0.0150   0.50 441539.9   482228.7 0.0844\n",
            "12 0.0155   0.55 430329.8   477838.9 0.0994\n",
            "13 0.0160   0.60 419119.7   473746.2 0.1153\n",
            "14 0.0165   0.65 407909.6   469921.4 0.1320\n",
            "15 0.0170   0.70 396699.4   466339.1 0.1493\n",
            "16 0.0175   0.75 385489.3   462976.9 0.1674\n",
            "17 0.0180   0.80 374279.2   459815.2 0.1860\n",
            "18 0.0185   0.85 363069.1   456836.5 0.2053\n",
            "19 0.0190   0.90 351859.0   454025.3 0.2250\n",
            "20 0.0195   0.95 340648.9   451368.0 0.2453\n",
            "21 0.0200   1.00 329438.8   448852.2 0.2660\n"
          ],
          "name": "stdout"
        }
      ]
    }
  ]
}