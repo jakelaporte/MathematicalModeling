{
  "nbformat": 4,
  "nbformat_minor": 0,
  "metadata": {
    "kernelspec": {
      "display_name": "R",
      "language": "R",
      "name": "ir"
    },
    "language_info": {
      "codemirror_mode": "r",
      "file_extension": ".r",
      "mimetype": "text/x-r-source",
      "name": "R",
      "pygments_lexer": "r",
      "version": "3.6.1"
    },
    "colab": {
      "name": "Lsn07_ConstrainedOptimization.ipynb",
      "provenance": [],
      "include_colab_link": true
    }
  },
  "cells": [
    {
      "cell_type": "markdown",
      "metadata": {
        "id": "view-in-github",
        "colab_type": "text"
      },
      "source": [
        "<a href=\"https://colab.research.google.com/github/jakelaporte/MathematicalModeling/blob/master/Lsn07_ConstrainedOptimization.ipynb\" target=\"_parent\"><img src=\"https://colab.research.google.com/assets/colab-badge.svg\" alt=\"Open In Colab\"/></a>"
      ]
    },
    {
      "cell_type": "code",
      "metadata": {
        "id": "J3AfIwob9gGX",
        "colab_type": "code",
        "colab": {}
      },
      "source": [
        "library(MASS);library(NlcOptim)"
      ],
      "execution_count": 0,
      "outputs": []
    },
    {
      "cell_type": "markdown",
      "metadata": {
        "id": "q2JGaHLD9gGg",
        "colab_type": "text"
      },
      "source": [
        "## Constrained Optimization ##\n",
        "The following code illustrates how we will find optimal points using Lagrange Multipliers. We will review the mathematics of Lagrange in class. Load the libraries and use the solnl command along with the necessary constraints depending on the problem.\n",
        "\n",
        "### Solution to a generalized nonlinear optimization problem\n",
        "$$ \\min_{\\vec{x}}{f(\\vec{x})}$$\n",
        "$$ \\text{subject to } ceq(\\vec{x})=0 $$\n",
        "$$ Aeq\\hspace{2pt}\\vec{x}=Beq$$\n",
        "$$ A\\hspace{2pt}\\vec{x}\\le B$$\n",
        "$$ lb \\le \\vec{x} \\le ub $$\n",
        "\n",
        "\n",
        "#### Usage\n",
        "``` \n",
        "library(MASS);library(NlcOptim)\n",
        "solnl(X = NULL, objfun = NULL, confun = NULL, A = NULL, B = NULL,\n",
        "  Aeq = NULL, Beq = NULL, lb = NULL, ub = NULL, tolX = 1e-05,\n",
        "  tolFun = 1e-06, tolCon = 1e-06, maxnFun = 1e+07, maxIter = 4000)\n",
        "```\n",
        "\n",
        "#### Arguments<br>\n",
        "- ```X``` Starting vector of parameter values.<br>\n",
        "- ```objfun``` Nonlinear objective function that is to be optimized.\n",
        "- ```confun``` Nonlinear constraint function. Return a ceq vector and a c vector as nonlinear equality constraints and an inequality constraints.\n",
        "- ```A```  A in the linear inequality constraints.\n",
        "- ```B```  B in the linear inequality constraints.\n",
        "- ```Aeq``` Aeq in the linear equality constraints.\n",
        "- ```Beq``` Beq in the linear equality constraints.\n",
        "- ```lb```  Lower bounds of parameters.\n",
        "- ```ub```  Upper bounds of parameters.\n",
        "- ```tolX``` The tolerance in X.\n",
        "- ```tolFun``` The tolerance in the objective function.\n",
        "- ```tolCon``` The tolenrance in the constraint function.\n",
        "</ol>"
      ]
    },
    {
      "cell_type": "markdown",
      "metadata": {
        "id": "lyFWq3ep9gGl",
        "colab_type": "text"
      },
      "source": [
        "#### Examples from the book ####\n",
        "The following problems are the examples from the text using the ```solnl``` command and various types of constraints. The constraints listed on page 32 result in the following constraint matrix for $A$ and $B$:\n",
        "\n",
        "\\begin{equation*}\n",
        "  \\begin{pmatrix}\n",
        "    1&0\\\\\n",
        "    0&1\\\\\n",
        "    1&1\\\\\n",
        "    -1&0\\\\\n",
        "    0&-1\n",
        "  \\end{pmatrix}\n",
        "  \\begin{pmatrix}\n",
        "    x_1\\\\\n",
        "    x_2\n",
        "  \\end{pmatrix}=\n",
        "  \\begin{pmatrix}\n",
        "    5000\\\\\n",
        "    8000\\\\\n",
        "    10000\\\\\n",
        "    0\\\\\n",
        "    0\n",
        "  \\end{pmatrix}\n",
        "\\end{equation*}\n",
        "\n",
        "Notice how the \"greater than\" constraints (last two rows) were turned into less than constraints by multiplying the inequality by -1. The last line reads \"negative $x_2$ is less than or equal to 0\" which is also the same as \"$x_2$ is greater than or equal to 0\" (from the book $t \\ge 0$). Running the code below gives the same answers as the book on page 38 (bottom). "
      ]
    },
    {
      "cell_type": "code",
      "metadata": {
        "id": "FilqQS5B9gGm",
        "colab_type": "code",
        "colab": {},
        "outputId": "e2b36207-9618-4868-9b60-d1a852d5b6ad"
      },
      "source": [
        "## Example 2.2 - Meerschaert ##\n",
        "P = function(x){\n",
        "    return(((339-0.01*x[1]-0.003*x[2])*x[1]\n",
        "           +(399-0.004*x[1]-0.01*x[2])*x[2]\n",
        "           -(400000+195*x[1]+225*x[2]))*-1)\n",
        "}\n",
        "###Linear Inequality Constraints##\n",
        "x0=c(1000,1000)\n",
        "A = matrix(c(1,0,1,-1,0,0,1,1,0,-1),nrow=5) #defining this matrix is not intuitive - make sure we talk in class\n",
        "B = matrix(c(5000,8000,10000,0,0),nrow=5)\n",
        "print(A)\n",
        "print(B)\n",
        "solnl(x0,objfun=P,A=A,B=B)"
      ],
      "execution_count": 0,
      "outputs": [
        {
          "output_type": "stream",
          "text": [
            "     [,1] [,2]\n",
            "[1,]    1    0\n",
            "[2,]    0    1\n",
            "[3,]    1    1\n",
            "[4,]   -1    0\n",
            "[5,]    0   -1\n",
            "      [,1]\n",
            "[1,]  5000\n",
            "[2,]  8000\n",
            "[3,] 10000\n",
            "[4,]     0\n",
            "[5,]     0\n"
          ],
          "name": "stdout"
        },
        {
          "output_type": "display_data",
          "data": {
            "text/html": [
              "<dl>\n",
              "\t<dt>$par</dt>\n",
              "\t\t<dd><table>\n",
              "<tbody>\n",
              "\t<tr><td>3846.154</td></tr>\n",
              "\t<tr><td>6153.846</td></tr>\n",
              "</tbody>\n",
              "</table>\n",
              "</dd>\n",
              "\t<dt>$fn</dt>\n",
              "\t\t<dd>-532307.692307692</dd>\n",
              "\t<dt>$counts</dt>\n",
              "\t\t<dd><table>\n",
              "<thead><tr><th scope=col>nfval</th><th scope=col>ngval</th></tr></thead>\n",
              "<tbody>\n",
              "\t<tr><td>19</td><td>7 </td></tr>\n",
              "</tbody>\n",
              "</table>\n",
              "</dd>\n",
              "\t<dt>$lambda</dt>\n",
              "\t\t<dd><dl>\n",
              "\t<dt>$lower</dt>\n",
              "\t\t<dd><table>\n",
              "<tbody>\n",
              "\t<tr><td>0</td></tr>\n",
              "\t<tr><td>0</td></tr>\n",
              "</tbody>\n",
              "</table>\n",
              "</dd>\n",
              "\t<dt>$upper</dt>\n",
              "\t\t<dd><table>\n",
              "<tbody>\n",
              "\t<tr><td>0</td></tr>\n",
              "\t<tr><td>0</td></tr>\n",
              "</tbody>\n",
              "</table>\n",
              "</dd>\n",
              "\t<dt>$ineqlin</dt>\n",
              "\t\t<dd><ol class=list-inline>\n",
              "\t<li>0</li>\n",
              "\t<li>0</li>\n",
              "\t<li>23.9999975016635</li>\n",
              "\t<li>0</li>\n",
              "\t<li>0</li>\n",
              "</ol>\n",
              "</dd>\n",
              "</dl>\n",
              "</dd>\n",
              "\t<dt>$grad</dt>\n",
              "\t\t<dd><table>\n",
              "<tbody>\n",
              "\t<tr><td>-24.00000</td></tr>\n",
              "\t<tr><td>-23.99999</td></tr>\n",
              "</tbody>\n",
              "</table>\n",
              "</dd>\n",
              "\t<dt>$hessian</dt>\n",
              "\t\t<dd><table>\n",
              "<tbody>\n",
              "\t<tr><td>0.020029796</td><td>0.007039313</td></tr>\n",
              "\t<tr><td>0.007039313</td><td>0.020238593</td></tr>\n",
              "</tbody>\n",
              "</table>\n",
              "</dd>\n",
              "</dl>\n"
            ],
            "text/latex": "\\begin{description}\n\\item[\\$par] \\begin{tabular}{l}\n\t 3846.154\\\\\n\t 6153.846\\\\\n\\end{tabular}\n\n\\item[\\$fn] -532307.692307692\n\\item[\\$counts] \\begin{tabular}{ll}\n nfval & ngval\\\\\n\\hline\n\t 19 & 7 \\\\\n\\end{tabular}\n\n\\item[\\$lambda] \\begin{description}\n\\item[\\$lower] \\begin{tabular}{l}\n\t 0\\\\\n\t 0\\\\\n\\end{tabular}\n\n\\item[\\$upper] \\begin{tabular}{l}\n\t 0\\\\\n\t 0\\\\\n\\end{tabular}\n\n\\item[\\$ineqlin] \\begin{enumerate*}\n\\item 0\n\\item 0\n\\item 23.9999975016635\n\\item 0\n\\item 0\n\\end{enumerate*}\n\n\\end{description}\n\n\\item[\\$grad] \\begin{tabular}{l}\n\t -24.00000\\\\\n\t -23.99999\\\\\n\\end{tabular}\n\n\\item[\\$hessian] \\begin{tabular}{ll}\n\t 0.020029796 & 0.007039313\\\\\n\t 0.007039313 & 0.020238593\\\\\n\\end{tabular}\n\n\\end{description}\n",
            "text/markdown": "$par\n:   \n| 3846.154 |\n| 6153.846 |\n\n\n$fn\n:   -532307.692307692\n$counts\n:   \n| nfval | ngval |\n|---|---|\n| 19 | 7  |\n\n\n$lambda\n:   $lower\n:   \n| 0 |\n| 0 |\n\n\n$upper\n:   \n| 0 |\n| 0 |\n\n\n$ineqlin\n:   1. 0\n2. 0\n3. 23.9999975016635\n4. 0\n5. 0\n\n\n\n\n\n\n$grad\n:   \n| -24.00000 |\n| -23.99999 |\n\n\n$hessian\n:   \n| 0.020029796 | 0.007039313 |\n| 0.007039313 | 0.020238593 |\n\n\n\n\n",
            "text/plain": [
              "$par\n",
              "         [,1]\n",
              "[1,] 3846.154\n",
              "[2,] 6153.846\n",
              "\n",
              "$fn\n",
              "[1] -532307.7\n",
              "\n",
              "$counts\n",
              "     nfval ngval\n",
              "[1,]    19     7\n",
              "\n",
              "$lambda\n",
              "$lambda$lower\n",
              "     [,1]\n",
              "[1,]    0\n",
              "[2,]    0\n",
              "\n",
              "$lambda$upper\n",
              "     [,1]\n",
              "[1,]    0\n",
              "[2,]    0\n",
              "\n",
              "$lambda$ineqlin\n",
              "[1]  0  0 24  0  0\n",
              "\n",
              "\n",
              "$grad\n",
              "          [,1]\n",
              "[1,] -24.00000\n",
              "[2,] -23.99999\n",
              "\n",
              "$hessian\n",
              "            [,1]        [,2]\n",
              "[1,] 0.020029796 0.007039313\n",
              "[2,] 0.007039313 0.020238593\n"
            ]
          },
          "metadata": {
            "tags": []
          }
        }
      ]
    },
    {
      "cell_type": "markdown",
      "metadata": {
        "id": "V84WZ4Sf9gGt",
        "colab_type": "text"
      },
      "source": [
        "#### Note the number of $\\lambda$'s in the solution. \n",
        "The only non-zero $\\lambda$ is the third one of the 5. This means that the only active constraint is the third one $x_1+x_2=10000$."
      ]
    },
    {
      "cell_type": "code",
      "metadata": {
        "id": "_6h2pX3Z9gGv",
        "colab_type": "code",
        "colab": {},
        "outputId": "bc061548-9f73-401c-e817-f4ff00039408"
      },
      "source": [
        "ans=solnl(x0,objfun=P,A=A,B=B)\n",
        "print(ans$lambda)"
      ],
      "execution_count": 0,
      "outputs": [
        {
          "output_type": "stream",
          "text": [
            "$lower\n",
            "     [,1]\n",
            "[1,]    0\n",
            "[2,]    0\n",
            "\n",
            "$upper\n",
            "     [,1]\n",
            "[1,]    0\n",
            "[2,]    0\n",
            "\n",
            "$ineqlin\n",
            "[1]  0  0 24  0  0\n",
            "\n"
          ],
          "name": "stdout"
        }
      ]
    },
    {
      "cell_type": "markdown",
      "metadata": {
        "id": "9ND3hbsc9gG1",
        "colab_type": "text"
      },
      "source": [
        "#### Graphs of the feasible region and answer #### \n",
        "Note what the outer function does (it was discussed in the last R notebook for lesson 6). We need a way of getting combinations of x's and y's to fill up a matrix of function values - that is what this function is designed to do. I put it in my library in order to be able to reference it later. The graph below is a combination of Figure 2.10 and 2.11 from the book."
      ]
    },
    {
      "cell_type": "code",
      "metadata": {
        "id": "pAMHEJEM9gG3",
        "colab_type": "code",
        "colab": {},
        "outputId": "5677b483-19d7-494f-9df7-da85aa50c14f"
      },
      "source": [
        "## Same outer product as previous lesson ##\n",
        "Outer = function(f,x){\n",
        "  n1 = length(x[[1]])\n",
        "  n2 = length(x[[2]])\n",
        "  res = matrix(0,nrow=n1,ncol=n2)\n",
        "  rownames(res) = x[[1]]\n",
        "  colnames(res) = x[[2]]\n",
        "  for (i in 1:n1){\n",
        "    for (j in 1:n2){\n",
        "      res[i,j]=f(c(x[[1]][[i]],x[[2]][[j]]))\n",
        "    }\n",
        "  }\n",
        "  return(res)\n",
        "}\n",
        "\n",
        "X = list(x=seq(0,6000,100),y=seq(0,9000,100))\n",
        "Z = Outer(P,X)\n",
        "## This feasible region is an easy one to draw ###\n",
        "contour(x=X$x,y=X$y,z=-Z,lwd=3)\n",
        "abline(h=8000,col=\"red\",lwd=3) #line at y=8000\n",
        "abline(v=5000,col=\"red\",lwd=3) #line at x=5000\n",
        "abline(h=0,col=\"red\",lwd=3) #line at y=0\n",
        "abline(v=0,col=\"red\",lwd=3) #line at x=0\n",
        "abline(a=10000,b=-1,col=\"red\",lwd=3) #line with y=bx+a; b is the slope, a is the y-intercept\n",
        "pts = list(x=c(0,0,2000,5000,5000),y=c(0,8000,8000,5000,0)) #we need the intersection points for shading\n",
        "polygon(pts$x,pts$y,density = 20,col=\"red\") #this shades the feasible region red"
      ],
      "execution_count": 0,
      "outputs": [
        {
          "output_type": "display_data",
          "data": {
            "image/png": "[encoded data removed]",
            "text/plain": [
              "plot without title"
            ]
          },
          "metadata": {
            "tags": []
          }
        }
      ]
    },
    {
      "cell_type": "markdown",
      "metadata": {
        "id": "c5FAJwOI9gG9",
        "colab_type": "text"
      },
      "source": [
        "#### Example 2.3 (p34)\n",
        "$$\\max{x+2y+3z}  $$\n",
        "$$\\text{  subject to (s.t.):  } x^2+y^2+z^2=3$$"
      ]
    },
    {
      "cell_type": "code",
      "metadata": {
        "id": "QOlDjw849gG-",
        "colab_type": "code",
        "colab": {},
        "outputId": "fe8b81d6-8237-477c-c9ff-dde8b064265a"
      },
      "source": [
        "## Example 2.3 - Meerschart ##\n",
        "obj=function(x){\n",
        "  return(-(x[1]+2*x[2]+3*x[3]))\n",
        "}\n",
        "#constraint function#\n",
        "con=function(x){\n",
        "  f=NULL\n",
        "  f=rbind(f,x[1]^2+x[2]^2+x[3]^2-3)\n",
        "  return(list(ceq=f,c=NULL))\n",
        "}\n",
        "x0=c(1,1,1)\n",
        "ans=solnl(x0,objfun=obj,confun=con)\n",
        "print(ans)"
      ],
      "execution_count": 0,
      "outputs": [
        {
          "output_type": "stream",
          "text": [
            "$par\n",
            "          [,1]\n",
            "[1,] 0.4629100\n",
            "[2,] 0.9258201\n",
            "[3,] 1.3887301\n",
            "\n",
            "$fn\n",
            "[1] -6.480741\n",
            "\n",
            "$counts\n",
            "     nfval ngval\n",
            "[1,]    28     7\n",
            "\n",
            "$lambda\n",
            "$lambda$lower\n",
            "     [,1]\n",
            "[1,]    0\n",
            "[2,]    0\n",
            "[3,]    0\n",
            "\n",
            "$lambda$upper\n",
            "     [,1]\n",
            "[1,]    0\n",
            "[2,]    0\n",
            "[3,]    0\n",
            "\n",
            "$lambda$eqnonlin\n",
            "[1] 1.080123\n",
            "\n",
            "\n",
            "$grad\n",
            "           [,1]\n",
            "[1,] -0.9999999\n",
            "[2,] -2.0000000\n",
            "[3,] -3.0000000\n",
            "\n",
            "$hessian\n",
            "           [,1]      [,2]       [,3]\n",
            "[1,]  1.9636528 0.3785931 -0.2065118\n",
            "[2,]  0.3785931 1.3657744  0.3529425\n",
            "[3,] -0.2065118 0.3529425  1.9124159\n",
            "\n"
          ],
          "name": "stdout"
        }
      ]
    },
    {
      "cell_type": "markdown",
      "metadata": {
        "id": "kkU-CEvh9gHD",
        "colab_type": "text"
      },
      "source": [
        "#### Example 2.4 (p35)\n",
        "$$\\max{x+2y+3z}  $$\n",
        "$$\\text{s.t.:  } x^2+y^2+z^2=3$$\n",
        "$$ x=1$$\n",
        "<br><br>Notice how the solution contains two lambdas (because of the two constraints) - the lambdas will become important in future lessons."
      ]
    },
    {
      "cell_type": "code",
      "metadata": {
        "id": "T2r2tw0c9gHF",
        "colab_type": "code",
        "colab": {},
        "outputId": "dfdde009-6d6d-4a90-c544-f7ffe150d403"
      },
      "source": [
        "## Example 2.4 - Meerschaert ####\n",
        "obj=function(x){\n",
        "  return(-(x[1]+2*x[2]+3*x[3]))\n",
        "}\n",
        "#constraint function\n",
        "con=function(x){\n",
        "    f=NULL\n",
        "    f=rbind(f,x[1]^2+x[2]^2+x[3]^2-3)\n",
        "    f=rbind(f,x[1]-1)\n",
        "    return(list(ceq=f,c=NULL))\n",
        "}\n",
        "x0=c(1,1,1)\n",
        "ans=solnl(x0,objfun=obj,confun=con)\n",
        "print(ans$par)\n",
        "print(-ans$fn)\n",
        "print(ans$lambda)"
      ],
      "execution_count": 0,
      "outputs": [
        {
          "output_type": "stream",
          "text": [
            "          [,1]\n",
            "[1,] 1.0000000\n",
            "[2,] 0.7844646\n",
            "[3,] 1.1766968\n",
            "[1] 6.09902\n",
            "$lower\n",
            "     [,1]\n",
            "[1,]    0\n",
            "[2,]    0\n",
            "[3,]    0\n",
            "\n",
            "$upper\n",
            "     [,1]\n",
            "[1,]    0\n",
            "[2,]    0\n",
            "[3,]    0\n",
            "\n",
            "$eqnonlin\n",
            "[1] 1.274755 1.549510\n",
            "\n"
          ],
          "name": "stdout"
        }
      ]
    },
    {
      "cell_type": "markdown",
      "metadata": {
        "id": "-mZeaeRh9gHL",
        "colab_type": "text"
      },
      "source": [
        "#### Another way of solving example 2.2\n",
        "Example 2.2 had the solution on the edge of the feasible region. In this case, it is possible to use the confun function (see below) instead of using the linear inequality constraint matrix. The difference here is that we actually know the active constraint for the solution ($x_1+x_2 = 10000$) which you probably will not know beforehand."
      ]
    },
    {
      "cell_type": "code",
      "metadata": {
        "id": "VAYX5M2d9gHN",
        "colab_type": "code",
        "colab": {},
        "outputId": "da40dc02-d188-4c87-a606-2e4e1f4f31d4"
      },
      "source": [
        "obj=function(x){\n",
        "  return(((339-0.01*x[1]-0.003*x[2])*x[1]\n",
        "           +(399-0.004*x[1]-0.01*x[2])*x[2]\n",
        "           -(400000+195*x[1]+225*x[2]))*-1)\n",
        "}\n",
        "#constraint function\n",
        "con=function(x){\n",
        "    f=NULL\n",
        "    f=rbind(f,x[1]+x[2]-10000)\n",
        "    return(list(ceq=f,c=NULL))\n",
        "}\n",
        "x0=c(1,1,1)\n",
        "ans=solnl(x0,objfun=obj,confun=con)\n",
        "print(ans$par)\n",
        "print(-ans$fn)\n",
        "print(ans$lambda)"
      ],
      "execution_count": 0,
      "outputs": [
        {
          "output_type": "stream",
          "text": [
            "         [,1]\n",
            "[1,] 3846.154\n",
            "[2,] 6153.846\n",
            "[3,]    1.000\n",
            "[1] 532307.7\n",
            "$lower\n",
            "     [,1]\n",
            "[1,]    0\n",
            "[2,]    0\n",
            "[3,]    0\n",
            "\n",
            "$upper\n",
            "     [,1]\n",
            "[1,]    0\n",
            "[2,]    0\n",
            "[3,]    0\n",
            "\n",
            "$eqnonlin\n",
            "[1] 24\n",
            "\n"
          ],
          "name": "stdout"
        }
      ]
    }
  ]
}