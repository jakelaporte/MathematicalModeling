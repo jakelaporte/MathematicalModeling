{
  "nbformat": 4,
  "nbformat_minor": 0,
  "metadata": {
    "kernelspec": {
      "display_name": "R",
      "language": "R",
      "name": "ir"
    },
    "language_info": {
      "codemirror_mode": "r",
      "file_extension": ".r",
      "mimetype": "text/x-r-source",
      "name": "R",
      "pygments_lexer": "r",
      "version": "3.6.1"
    },
    "colab": {
      "name": "Lsn01_ModelBuilding.ipynb",
      "provenance": [],
      "include_colab_link": true
    }
  },
  "cells": [
    {
      "cell_type": "markdown",
      "metadata": {
        "id": "view-in-github",
        "colab_type": "text"
      },
      "source": [
        "<a href=\"https://colab.research.google.com/github/jakelaporte/MathematicalModeling/blob/master/Lsn01_ModelBuilding.ipynb\" target=\"_parent\"><img src=\"https://colab.research.google.com/assets/colab-badge.svg\" alt=\"Open In Colab\"/></a>"
      ]
    },
    {
      "cell_type": "markdown",
      "metadata": {
        "id": "Ewvnd82m-sZR",
        "colab_type": "text"
      },
      "source": [
        "# Lesson1: Model Building - R tutorial #\n",
        "In this lesson we will construct two functions that you will need for this course and begin to explore the R programming language. Run through the Chapter 1 of the book which talks about model building for a one-variable optimization problem.\n",
        "Example 1.1 (Meerschaert) A pig weighing 200 lbs gains 5 lbs per day and costs 45 cents per day to keep (feed and board). The market price for pigs is 65 cents per pound, but is falling 1 cent per day. When should the pig be sold?\n",
        "#### Modeling the Problem #####\n",
        "Variables:\n",
        "- $t$ = time (days)<br> \n",
        "- $w$ = weight of the pig(lbs)<br>\n",
        "- $p$ = price for pigs (\\$/lb) <br>\n",
        "- $C$ = cost of keeping pig $t$ days (\\$) <br>\n",
        "- $R$ = revenue obtained by selling pig (\\$) <br>\n",
        "- $P$ = profit from selling pig ($) \n",
        "\n",
        "\n",
        "Assumptions: \n",
        "- $w = 200+5t$\n",
        "- $p = 0.65-0.01t$\n",
        "- $C = 0.45t$\n",
        "- $R = p \\cdot w$\n",
        "- $P = R-C$\n",
        "- $t>=0$\n",
        "\n",
        "Objective: Maximize profits from the sell of the pig<br>\n",
        "Let $x$ be the time to sell the pig and develop the profit function using $x$ as the independent variable. In the case of an optimization, the variable on which you will make a decision on is generally called a decision variable. There can be multiple decision variables in a problem."
      ]
    },
    {
      "cell_type": "markdown",
      "metadata": {
        "id": "L34Q7soa-sZX",
        "colab_type": "text"
      },
      "source": [
        "#### Profit Function = Objective function ####\n",
        "Given the description and mathematical explanation of the variables, lets write out the profit function:<br><br>\n",
        "$$ \\text{profit}(x) = \\underbrace{(0.65-0.01x)}_{\\text{price of the pig on day }x}\\overbrace{(200+5x)}^{\\text{weight of pig on day }x} - \\underbrace{0.45x}_{\\text{cost of keeping pig x days}}$$<br>\n",
        "Lets use R to \"see\" what the profit function looks like over the next 20 days."
      ]
    },
    {
      "cell_type": "code",
      "metadata": {
        "id": "NVCYoITc-sZb",
        "colab_type": "code",
        "outputId": "6030c869-9d72-41da-daed-26b70fdb4810",
        "colab": {
          "base_uri": "https://localhost:8080/",
          "height": 455
        }
      },
      "source": [
        "profit = function (x){\n",
        "  return((0.65-0.01*x)*(200+5*x)-.45*x)\n",
        "}\n",
        "x = seq(0,20,1)\n",
        "plot(x,profit(x),type=\"o\")\n",
        "print(profit(8))"
      ],
      "execution_count": 1,
      "outputs": [
        {
          "output_type": "stream",
          "text": [
            "[1] 133.2\n"
          ],
          "name": "stdout"
        },
        {
          "output_type": "display_data",
          "data": {
            "image/png": "[encoded data removed]",
            "text/plain": [
              "plot without title"
            ]
          },
          "metadata": {
            "tags": [],
            "image/png": {
              "width": 420,
              "height": 420
            },
            "text/plain": {
              "width": 420,
              "height": 420
            }
          }
        }
      ]
    },
    {
      "cell_type": "markdown",
      "metadata": {
        "id": "VqA-MLea-sZj",
        "colab_type": "text"
      },
      "source": [
        "As you can see, there is a good and bad day to sell the pig if our assumptions remain the same over the next 20 days. Although we could use this graph in order to select the \"winner\", we want to be able to use this tool (R programming language) to assist us in ensuring that we have all of the information needed to make a decision. That means that we need to get our hands dirty and figure out how to use our tools (in this case, R)."
      ]
    },
    {
      "cell_type": "markdown",
      "metadata": {
        "id": "brUzND-V-sZm",
        "colab_type": "text"
      },
      "source": [
        "## Build the functions that we need to solve the problem##\n",
        "We will create two functions that will be able to solve for an optimal point in R using mathematics / programming that we already know how to do.\n",
        "From calculus, you should remember the definition of the derivative and why tweaking it a little can get us a better estimation of the derivative of a function: <br><br>\n",
        "$$ f'(x) = \\frac{f(x+h)-f(x-h)}{2h} $$ <br>\n",
        "Using this simple formula, let's build a derivative of the profit function that we defined above. Notice how our function fprime($f$,$x$) will work for ANY function that we assign to it."
      ]
    },
    {
      "cell_type": "code",
      "metadata": {
        "id": "E4ZiJkho-sZp",
        "colab_type": "code",
        "outputId": "0c6d9bf2-e697-49d6-9764-99332d4a271c",
        "colab": {}
      },
      "source": [
        "x=seq(0,20)\n",
        "fprime = function (f,a,h=0.0001){(f(a+h)-f(a-h))/(2*h)}\n",
        "plot(x,fprime(profit,x))"
      ],
      "execution_count": 0,
      "outputs": [
        {
          "output_type": "display_data",
          "data": {
            "image/png": "[encoded data removed]",
            "text/plain": [
              "plot without title"
            ]
          },
          "metadata": {
            "tags": []
          }
        }
      ]
    },
    {
      "cell_type": "markdown",
      "metadata": {
        "id": "JydBvI0k-sZv",
        "colab_type": "text"
      },
      "source": [
        "## Root-Finding Solver ##\n",
        "Although we could use the graph above to find the solution for this particular problem, it is more appropriate to use math to make our solution automatic. There are many root-finding algorithms out there and feel free to use another, but we will use a simple algorithm known as the bisection method. This method only requires that you select two points that have opposite signs: if $f(a)=- $ then $f(b) = +$. \n",
        "#### Bisection Algorithm for finding the root of an equation. \n",
        "The simple idea of the bisection method is that you start with an interval $[a,b]$ that has a positive and negative value for the function $f(a)$ and $f(b)$ - it does not matter which one is positive. You cut the interval in half and proceed with the interval that keeps one side positive and the other negative. In the example below, we start on the interval $[2,9]$ which works because $f(2)$ is positive and $f(9)$ is negative. The first step cuts the interval in half and the decision must be made to continue with $[2,5.5]$ or $[5.5,9]$. It should be pretty obvous from the picture that $[2,5.5]$ is the right answer (we want to keep a root in the interval), but from an algorithm perspective, we simply test $f(5.5)$ and find out that it is negative which causes us to replace 9 ($f[9]$ was negative) with 5.5. We would continue this algorithm until we are satisfied that the width of the interval is small enough to make a conclusion about the value of the root. \n",
        "<br><br>\n",
        "<figure style = \"border: 0px solid #000;max-width: 500px;align-items:left\">\n",
        "<p style=\"left;\"\n",
        "\n",
        "![lsn5_1.PNG](attachment:lsn5_1.PNG)\n",
        "\n",
        "</p>\n",
        "</figure>\n",
        "\n"
      ]
    },
    {
      "cell_type": "code",
      "metadata": {
        "id": "Zbi4DNAB-sZx",
        "colab_type": "code",
        "outputId": "efa1d4e0-f4cb-45ea-a19d-3a7c9e8acfbe",
        "colab": {}
      },
      "source": [
        "bisection = function(f,a,b,tol=0.0001){\n",
        "  if (f(a)*f(b) > 0){\n",
        "    return (\"Boundary Conditions Not Met\")\n",
        "  }\n",
        "  else{\n",
        "    middle = a\n",
        "    while (abs(f(middle))>tol){\n",
        "      middle = (a+b)/2\n",
        "      if (f(middle)*f(a)>0) (a = middle)\n",
        "      else (b = middle)\n",
        "      x=middle\n",
        "      y=f(middle)\n",
        "      ## if you want to \"see\" what happens at every step, take off the # of the next line ##\n",
        "      #cat(sprintf(\"x-Val: %.4f ; f(x-val): %.4f\\n\",x,y))\n",
        "    }\n",
        "    return (middle)\n",
        "  }\n",
        "}\n",
        "#Example of a finding a root of a function\n",
        "f = function (x){x^3-5} #sinlge line function definition\n",
        "zero=bisection (f,-10,20)\n",
        "x=seq(-1,2,0.01)\n",
        "plot(x,f(x),\"l\")\n",
        "abline(h=0,col=\"red\")\n",
        "abline(v=zero,col=\"blue\")\n",
        "print(zero)"
      ],
      "execution_count": 0,
      "outputs": [
        {
          "output_type": "stream",
          "text": [
            "[1] 1.709967\n"
          ],
          "name": "stdout"
        },
        {
          "output_type": "display_data",
          "data": {
            "image/png": "[encoded data removed]",
            "text/plain": [
              "plot without title"
            ]
          },
          "metadata": {
            "tags": []
          }
        }
      ]
    },
    {
      "cell_type": "markdown",
      "metadata": {
        "id": "UecQ5_pA-sZ1",
        "colab_type": "text"
      },
      "source": [
        "## Use our tool to solve the pig problem ##\n",
        "Use the tools at your disposal to solve the problem. Be able to make several alternatives to the proposed model and investigate the relationship between multiple variables. When do we sell the pig?"
      ]
    },
    {
      "cell_type": "code",
      "metadata": {
        "id": "e1GKKjbg-sZ4",
        "colab_type": "code",
        "outputId": "8d8c5331-4ab0-4045-c867-6d5c0f20b880",
        "colab": {}
      },
      "source": [
        "dProfit = function(x){fprime(profit,x)}\n",
        "bisection(dProfit,0,20)"
      ],
      "execution_count": 0,
      "outputs": [
        {
          "output_type": "display_data",
          "data": {
            "text/html": [
              "8.00048828125"
            ],
            "text/latex": "8.00048828125",
            "text/markdown": "8.00048828125",
            "text/plain": [
              "[1] 8.000488"
            ]
          },
          "metadata": {
            "tags": []
          }
        }
      ]
    },
    {
      "cell_type": "markdown",
      "metadata": {
        "id": "xlNIwpSD-sZ9",
        "colab_type": "text"
      },
      "source": [
        "As you can see, we got approximately the same answer as the book. The difference is that our solution uses an estimation of the derivative instead of the closed-form solution as well as a solver for finding the day $x$ where the profit is maximized (profit function derivative = 0). In the case of most problems, you will use numerical methods (like we did) because real world problems do not ususally have a easy answer. To become a good problem solver, you are going to need to invest in your coding abilities because you will usually need to develop some original code to help you solve a particular problem."
      ]
    },
    {
      "cell_type": "markdown",
      "metadata": {
        "id": "_n2BUbHe-sZ_",
        "colab_type": "text"
      },
      "source": [
        "## Sensitivity Analysis ##\n",
        "Let's go back and examine more closely one of our original assumptions that may or may not hold to see how our solution is afftected by a different assumption. Does the optimal day to sell change if we assume some different price of the pig. Here we let the pig price drop to recreate the numbers in the book, but we are able to do so much more which will be demonstrated in the next analysis."
      ]
    },
    {
      "cell_type": "code",
      "metadata": {
        "id": "Yqnz1aze-saA",
        "colab_type": "code",
        "outputId": "1b81ddfd-c8fc-46e3-c7c1-64b62bbb234a",
        "colab": {}
      },
      "source": [
        "#Price falling per day = p \n",
        "p = seq(0.008,0.012,0.001)\n",
        "ans = array(0,length(p))\n",
        "for (i in 1:length(p)){\n",
        "    profit = function (x){\n",
        "      return((0.65-p[i]*x)*(200+5*x)-.45*x)\n",
        "    }\n",
        "    dProfit = function(x){fprime(profit,x,)}\n",
        "    ans[i] = bisection(dProfit,0,20,0.0001)\n",
        "}\n",
        "print(ans)\n",
        "plot(p,ans,\"o\",xlab=\"p($/day)\",ylab=\"x(Days to Sell)\")\n",
        "title(\"Sensitivity of Falling Price of Pig\")"
      ],
      "execution_count": 0,
      "outputs": [
        {
          "output_type": "stream",
          "text": [
            "[1] 15.000000 11.110840  8.000488  5.454102  3.332520\n"
          ],
          "name": "stdout"
        },
        {
          "output_type": "display_data",
          "data": {
            "image/png": "[encoded data removed]",
            "text/plain": [
              "Plot with title \"Sensitivity of Falling Price of Pig\""
            ]
          },
          "metadata": {
            "tags": []
          }
        }
      ]
    },
    {
      "cell_type": "markdown",
      "metadata": {
        "id": "z_4yJgQ_-saG",
        "colab_type": "text"
      },
      "source": [
        "## Sensitivity Analysis: Growth Rate of the Pig\n",
        "Since we are also concerned about the growth rate of the pig, let's conduct see how the days to sell are affected by the growth rate. The weight ($w$) is calculated using the assumption that the pig will grow 5lbs per day so that:\n",
        "$w = 200+gt$ where $g=5$. Let's see what happens if $g$ is between 3 and 7. Remember the bisection method needs two boundary points that have the opposite values and if the growth rate is too small, think about what that does to the profit. Experiment with large and small growth rates and the profit function to figure it out for yourself if you don't see it. We needed to make the starting point of the bisection method to the left (negative number) in order for it to find the zero for 3lbs and 3.5lbs per day."
      ]
    },
    {
      "cell_type": "code",
      "metadata": {
        "id": "xqpRP7A6-saI",
        "colab_type": "code",
        "outputId": "20e9d943-3218-4213-cc36-e0339fdc4fb7",
        "colab": {}
      },
      "source": [
        "#Growth rate of the pig = g\n",
        "g = seq(1,12,0.5)\n",
        "ans = array(0,length(g))\n",
        "for (i in 1:length(g)){\n",
        "    profit = function (x){\n",
        "      return((0.65-0.01*x)*(200+g[i]*x)-.45*x)\n",
        "    }\n",
        "    dProfit = function(x){fprime(profit,x,)}\n",
        "    ans[i] = bisection(dProfit,-100,50,0.0001)\n",
        "}\n",
        "print(ans)\n",
        "plot(g,ans,\"o\",xlab=\"g(growth/day)\",ylab=\"x(Days to Sell)\")\n",
        "title(\"Sensitivity of Growth Rate of Pig\")"
      ],
      "execution_count": 0,
      "outputs": [
        {
          "output_type": "stream",
          "text": [
            " [1] -90.002441 -49.169922 -28.749084 -16.499329  -8.332825  -2.500916\n",
            " [7]   1.875305   5.278778   8.000183  10.227203  12.083435  13.653564\n",
            "[13]  14.999390  16.166687  17.187500  18.088150  18.889236  19.605637\n",
            "[19]  20.249939  20.833588  21.363449  21.847534  22.291565\n"
          ],
          "name": "stdout"
        },
        {
          "output_type": "display_data",
          "data": {
            "image/png": "[encoded data removed]",
            "text/plain": [
              "Plot with title \"Sensitivity of Growth Rate of Pig\""
            ]
          },
          "metadata": {
            "tags": []
          }
        }
      ]
    },
    {
      "cell_type": "code",
      "metadata": {
        "id": "XpnrWih--saN",
        "colab_type": "code",
        "colab": {}
      },
      "source": [
        ""
      ],
      "execution_count": 0,
      "outputs": []
    }
  ]
}