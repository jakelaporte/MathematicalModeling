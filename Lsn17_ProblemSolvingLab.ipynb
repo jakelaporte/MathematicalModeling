{
  "nbformat": 4,
  "nbformat_minor": 0,
  "metadata": {
    "kernelspec": {
      "display_name": "R",
      "language": "R",
      "name": "ir"
    },
    "language_info": {
      "codemirror_mode": "r",
      "file_extension": ".r",
      "mimetype": "text/x-r-source",
      "name": "R",
      "pygments_lexer": "r",
      "version": "3.6.1"
    },
    "colab": {
      "name": "Lsn17_ProblemSolvingLab.ipynb",
      "provenance": [],
      "include_colab_link": true
    }
  },
  "cells": [
    {
      "cell_type": "markdown",
      "metadata": {
        "id": "view-in-github",
        "colab_type": "text"
      },
      "source": [
        "<a href=\"https://colab.research.google.com/github/jakelaporte/MathematicalModeling/blob/master/Lsn17_ProblemSolvingLab.ipynb\" target=\"_parent\"><img src=\"https://colab.research.google.com/assets/colab-badge.svg\" alt=\"Open In Colab\"/></a>"
      ]
    },
    {
      "cell_type": "markdown",
      "metadata": {
        "id": "0IX5TePIIj1n",
        "colab_type": "text"
      },
      "source": [
        "# Lesson 17 - Problem Solving Day\n",
        "The intent for today's lesson is to transform, solve, and interpret types of dynamic problems from Ch4/Ch5. First let's get the R library file straight as I have changed the capitalization in some of my files. Below is the ma391.r file that I use in my library as of lesson 17. Feel free to copy and use to solve problems in the class. You will have to update your documentation files in your package if you decide to change the function name.\n",
        "Additionally, I built a meshgrid function and made another change to VectorField so that we do not have to import pracma library anymore."
      ]
    },
    {
      "cell_type": "code",
      "metadata": {
        "id": "erqWsjnFIj1r",
        "colab_type": "code",
        "colab": {}
      },
      "source": [
        "##########################################################################\n",
        "#### fprime - first derivative of a function##############################\n",
        "##########################################################################\n",
        "fprime = function (f,a,h=0.0001){(f(a+h)-f(a-h))/(2*h)}\n",
        "\n",
        "##########################################################################\n",
        "#### bisection method - easy way to solve for roots of a function ########\n",
        "##########################################################################\n",
        "bisection = function(f,a,b,tol=0.0001){\n",
        "  if (f(a)*f(b) > 0){\n",
        "    return (\"Boundary Conditions Not Met\")\n",
        "  }\n",
        "  else{\n",
        "    middle = a\n",
        "    while (abs(f(middle))>tol){\n",
        "      middle = (a+b)/2\n",
        "      if (f(middle)*f(a)>0) (a = middle)\n",
        "      else (b = middle)\n",
        "      x=middle\n",
        "      y=f(middle)\n",
        "      ## if you want to \"see\" what happens at every step, take off the # of the next line ##\n",
        "      #cat(sprintf(\"x-Val: %.4f ; f(x-val): %.4f\\n\",x,y))\n",
        "    }\n",
        "    return (middle)\n",
        "  }\n",
        "}\n",
        "\n",
        "\n",
        "##########################################################################\n",
        "#### Newton's Method - single variable ###################################\n",
        "##########################################################################\n",
        "Newton = function(f,x0,eps=0.0001){\n",
        "  xn = x0\n",
        "  n=1\n",
        "  while (abs(f(xn))>eps & n<1000){\n",
        "    xn = xn-(f(xn)/fprime(f,xn))\n",
        "    n=n+1\n",
        "  }\n",
        "  return(xn)\n",
        "}\n",
        "\n",
        "##########################################################################\n",
        "## Gradient Vector Field  - first derivative of a multivariable function##\n",
        "##########################################################################\n",
        "Gradient = function(f,x,h=0.01){\n",
        "  n = length(x)\n",
        "  delF = array(0,dim=c(n,1))\n",
        "  for (i in 1:n){\n",
        "    xhp = xhm = x\n",
        "\n",
        "    xhp[i]=xhp[i]+h\n",
        "    xhm[i]=xhm[i]-h\n",
        "    delF[i] = (f(xhp)-f(xhm))/(2*h)\n",
        "  }\n",
        "  return (delF)\n",
        "}\n",
        "\n",
        "\n",
        "##########################################################################\n",
        "#### Hessian Matrix - 2nd Derivative of a multivariable function##########\n",
        "##########################################################################\n",
        "Hessian = function(f,x,hs=0.01){\n",
        "  n = length(x)\n",
        "  H = array(0,dim=c(n,n))\n",
        "\n",
        "  for (i in 1:n){\n",
        "    h = array(0,dim=c(n,1))\n",
        "    h[i] = hs\n",
        "    H[i,]=t((Gradient(f,x+h)-Gradient(f,x-h))/(2*hs))\n",
        "    #print(H[i,])\n",
        "  }\n",
        "  return (H)\n",
        "}\n",
        "\n",
        "##########################################################################\n",
        "####  Norm - length of a vector       ####################################\n",
        "##########################################################################\n",
        "Norm = function(x){\n",
        "  tot = 0\n",
        "  for (i in 1:length(x)){\n",
        "    tot=tot+x[i]^2\n",
        "  }\n",
        "  return(sqrt(tot))\n",
        "}\n",
        "\n",
        "\n",
        "##########################################################################\n",
        "####  Multivariable Newton's Method   ####################################\n",
        "##########################################################################\n",
        "\n",
        "mvNewton = function(f,x,tol=0.001){\n",
        "  g = Gradient(f,x)\n",
        "  i=0\n",
        "  while (Norm(g)>1 & i<100){\n",
        "    H = Hessian(f,x)\n",
        "    p = solve(H,g)\n",
        "    x = x-p\n",
        "    g = Gradient(f,x)\n",
        "    i=i+1\n",
        "  }\n",
        "  i=1\n",
        "  while (Norm(g)>tol){\n",
        "    g = Gradient(f,x)\n",
        "    alpha = 1\n",
        "    while (f(x-alpha*g)>f(x)){\n",
        "      alpha=alpha*0.5}\n",
        "    x = x-alpha*g\n",
        "    i=i+1\n",
        "  }\n",
        "  return (x)\n",
        "}\n",
        "\n",
        "##########################################################################\n",
        "#### Outer  - create contour plots ####################################\n",
        "##########################################################################\n",
        "\n",
        "Outer = function(f,x){\n",
        "  n1 = length(x[[1]])\n",
        "  n2 = length(x[[2]])\n",
        "  res = matrix(0,nrow=n1,ncol=n2)\n",
        "  rownames(res) = x[[1]]\n",
        "  colnames(res) = x[[2]]\n",
        "  for (i in 1:n1){\n",
        "    for (j in 1:n2){\n",
        "      res[i,j]=f(c(x[[1]][[i]],x[[2]][[j]]))\n",
        "    }\n",
        "  }\n",
        "  return(res)\n",
        "}\n",
        "\n",
        "\n",
        "##########################################################################\n",
        "#### meshgrid  - used by vector field ####################################\n",
        "##########################################################################\n",
        "meshgrid = function(x,y){\n",
        "  n = length(x)\n",
        "  m = length(y)\n",
        "  mat1 = matrix(0,nrow=m,ncol=n)\n",
        "  mat2 = matrix(0,nrow=m,ncol=n)\n",
        "  for (i in 1:m){\n",
        "    mat1[i,]=x\n",
        "  }\n",
        "  for (i in 1:n){\n",
        "    mat2[,i]=y\n",
        "  }\n",
        "  ans = list(X=mat1,Y=mat2)\n",
        "  return (ans)\n",
        "}\n",
        "\n",
        "##########################################################################\n",
        "#### Quiver  - used by vector field ######################################\n",
        "##########################################################################\n",
        "\n",
        "quiver <- function(x, y, u, v,\n",
        "                   scale = 0.05, angle = 10, length = 0.1, ...) {\n",
        "  stopifnot(is.numeric(x), is.numeric(y), is.numeric(u), is.numeric(v))\n",
        "\n",
        "  arrows(x, y, x+scale*u, y+scale*v, angle=10, length=length, ...)\n",
        "}\n",
        "\n",
        "###########################################################################\n",
        "##### Vector Field ####################\n",
        "###########################################################################\n",
        "\n",
        "VectorField = function(fun, xlim, ylim, n = 16,\n",
        "                       scale = 0.05, col = \"darkblue\",xlab = \"xlim\", ylab=\"ylim\",\n",
        "                       main=\"\",...) {\n",
        "  stopifnot(is.numeric(xlim), length(xlim) == 2,\n",
        "            is.numeric(ylim), length(ylim) == 2)\n",
        "\n",
        "  xpts = seq(xlim[1],xlim[2],length.out=n)\n",
        "  ypts = seq(ylim[1],ylim[2],length.out=n)\n",
        "\n",
        "  M = meshgrid(xpts, ypts)\n",
        "\n",
        "  x = M$X\n",
        "  y = M$Y\n",
        "  px=M$X\n",
        "  py=M$Y\n",
        "  for (i  in 1:n){\n",
        "    for (j in 1:n){\n",
        "      ans = fun(c(xpts[j],ypts[i]))\n",
        "      px[i,j]=ans[1]\n",
        "      py[i,j]=ans[2]\n",
        "    }\n",
        "  }\n",
        "\n",
        "\n",
        "  plot(xlim, ylim, type=\"n\",xlab=xlab,ylab=ylab,main=main); grid()\n",
        "  quiver(x, y, px, py, scale = scale, col = col, ...)\n",
        "  #return(list(px=px,py=py))\n",
        "}\n",
        "\n",
        "###########################################################################\n",
        "##### Jacobian of a 2D vector function ####################################\n",
        "###########################################################################\n",
        "Jacobian2 = function(f,x0,h=1E-4){\n",
        "  jax = matrix(0,nrow=2,ncol=2)\n",
        "  xph = c(x0[1]+h,x0[2]);xmh=c(x0[1]-h,x0[2])\n",
        "  yph = c(x0[1],x0[2]+h);ymh=c(x0[1],x0[2]-h)\n",
        "  jax[,1]=(f(xph)-f(xmh))/(2*h)\n",
        "  jax[,2]=(f(yph)-f(ymh))/(2*h)\n",
        "  return(jax)\n",
        "}\n",
        "\n",
        "###########################################################################\n",
        "##### Zeros - root finding for a vector function ##########################\n",
        "###########################################################################\n",
        "Zeros = function(f,x0,h=1E-4,tol=1E-4){\n",
        "  i = 1\n",
        "  p=c(1,1)\n",
        "  while (Norm(p)>tol & i<100){\n",
        "    p = solve(Jacobian2(f,x0),-f(x0)) # linear algebra step\n",
        "    x0 = x0+p\n",
        "    #print(i)\n",
        "    #print(x0)\n",
        "    i=i+1\n",
        "  }\n",
        "  return(x0)\n",
        "}\n",
        "\n",
        "###########################################################################\n",
        "##### path - output is the points along a particular dynamic system########\n",
        "###########################################################################\n",
        "path = function(f,x0,deltat=0.01,N=1000,tol=1E-4){\n",
        "  len = length(x0)\n",
        "  points=matrix(0,ncol=len)\n",
        "  points[1,] = x0\n",
        "  n = 0\n",
        "  p = c(1,1)\n",
        "  while(Norm(p)>tol & n<N){\n",
        "    n=n+1\n",
        "    p = f(x0)*deltat\n",
        "    x0=x0+p\n",
        "    points = rbind(points,x0)\n",
        "  }\n",
        "\n",
        "  rownames(points)=0:n\n",
        "  return(points)\n",
        "}"
      ],
      "execution_count": 0,
      "outputs": []
    },
    {
      "cell_type": "markdown",
      "metadata": {
        "id": "5G2ZF2K8Ij1z",
        "colab_type": "text"
      },
      "source": [
        "## Problem 7 - Book\n",
        "Below let's use the tools that we have to solve the problem in the book."
      ]
    },
    {
      "cell_type": "code",
      "metadata": {
        "id": "MOQXHNloIj11",
        "colab_type": "code",
        "colab": {}
      },
      "source": [
        "options(warn=-1)\n",
        "library(ma391laporte)"
      ],
      "execution_count": 0,
      "outputs": []
    },
    {
      "cell_type": "code",
      "metadata": {
        "id": "IZz-yuzYIj17",
        "colab_type": "code",
        "colab": {},
        "outputId": "dbb2ec48-842c-4202-ec74-e392334b7e7e"
      },
      "source": [
        "## Part (a) Sketch the vector field and plot the equilibrium points.\n",
        "t = 1/2\n",
        "f = function(x){c(0.10*x[1]-0.10/10000*x[1]^2-0.10*t/10000*x[1]*x[2],\n",
        "                 0.25*x[2]-0.25/6000*x[2]^2-0.25*t/6000*x[1]*x[2])}\n",
        "VectorField(f,xlim=c(0,12000),ylim=c(0,10000))\n",
        "x0 = c(6000,10000)\n",
        "xStar=Zeros(f,x0)\n",
        "points(xStar[1],xStar[2],pch=21,bg=\"darkgreen\",cex=2)\n",
        "print(xStar)\n",
        "x0 = c(6000,1)\n",
        "xStar=Zeros(f,x0)\n",
        "points(xStar[1],xStar[2],pch=21,bg=\"red\",cex=2)\n",
        "print(xStar)\n",
        "x0 = c(1,1)\n",
        "xStar=Zeros(f,x0)\n",
        "points(xStar[1],xStar[2],pch=21,bg=\"red\",cex=2)\n",
        "print(xStar)\n",
        "x0 = c(1,7000)\n",
        "xStar=Zeros(f,x0)\n",
        "points(xStar[1],xStar[2],pch=21,bg=\"red\",cex=2)\n",
        "print(xStar)"
      ],
      "execution_count": 0,
      "outputs": [
        {
          "output_type": "stream",
          "text": [
            "[1] 9333.333 1333.333\n",
            "[1]  1.000000e+04 -4.844192e-17\n",
            "[1] -4.846761e-27 -3.877409e-26\n",
            "[1] 5.194491e-26 6.000000e+03\n"
          ],
          "name": "stdout"
        },
        {
          "output_type": "display_data",
          "data": {
            "image/png": "[encoded data removed]",
            "text/plain": [
              "Plot with title \"\""
            ]
          },
          "metadata": {
            "tags": []
          }
        }
      ]
    },
    {
      "cell_type": "code",
      "metadata": {
        "id": "UZtUjqi-Ij2B",
        "colab_type": "code",
        "colab": {},
        "outputId": "d140a860-9813-422b-b1c5-12afeb48c59a"
      },
      "source": [
        "## (b) For each equilibrium pt, determine the linear approximation in it neighborhood.\n",
        "# (9333.3,1333.3) - your exercise wants you to do this for all of the equilibrium points\n",
        "xStar=c(9333.3,1333.3)\n",
        "A = Jacobian2(f,xStar);print(A)\n",
        "ev=eigen(A);print(ev)"
      ],
      "execution_count": 0,
      "outputs": [
        {
          "output_type": "stream",
          "text": [
            "            [,1]        [,2]\n",
            "[1,] -0.09333250 -0.04666650\n",
            "[2,] -0.02777708 -0.05555208\n",
            "eigen() decomposition\n",
            "$values\n",
            "[1] -0.11510061 -0.03378397\n",
            "\n",
            "$vectors\n",
            "           [,1]       [,2]\n",
            "[1,] -0.9062545  0.6168270\n",
            "[2,] -0.4227326 -0.7870987\n",
            "\n"
          ],
          "name": "stdout"
        }
      ]
    },
    {
      "cell_type": "markdown",
      "metadata": {
        "id": "7w1YYDGaIj2G",
        "colab_type": "text"
      },
      "source": [
        "## Linear approximation of Nonlinear System\n",
        "Our linear system of equations is determined by the derivative of the vector function (Jacobian Matrix). <br><br>\n",
        "$$ A = \\begin{bmatrix} \\frac{\\partial f_1}{\\partial x_1}&\\frac{\\partial f_1}{\\partial x_2} & ... \\\\ \\frac{\\partial f_2}{\\partial x_1}&\\frac{\\partial f_2}{\\partial x_2} & ...\\\\ \\vdots&\\vdots&\\ddots \\end{bmatrix} $$ <br>\n",
        "For $x_1$ and $x_2$ values near the equilibrium point, this linear system of differential equations will be approximately the same as our nonlinear function. <br><br>\n",
        "$$ \\frac{d\\vec{x}}{dt}\\approx A (\\vec{x}-\\vec{x}^*) = \\begin{bmatrix}-0.09333250&-0.04666650 \\\\-0.02777708& -0.05555208\\end{bmatrix} (\\vec{x}-\\vec{x}^*)$$<br>\n",
        "As an exercise (not part of the problem above), lets compute the paths of the linear and nonlinear system of equations and compare them. We are counting on them to be very close."
      ]
    },
    {
      "cell_type": "code",
      "metadata": {
        "id": "oCxplzdnIj2H",
        "colab_type": "code",
        "colab": {},
        "outputId": "10f7d76c-f680-4407-adf7-cf96730253a6"
      },
      "source": [
        "## Linear path - pts_linear -> start at some point \"close\" to x* (9333.3,1333.3)\n",
        "xStar = c(9333.3,1333.3)\n",
        "x0=c(9330,1330)\n",
        "x = x0\n",
        "N = 50\n",
        "pts_linear = matrix(0,nrow=N,ncol=2)\n",
        "pts_linear[1,]=x0\n",
        "for (i in 2:N){\n",
        "    dx = A%*%x-A%*%xStar #linear approximation\n",
        "    x = x+dx\n",
        "    pts_linear[i,]=x\n",
        "}\n",
        "pts_nonlinear = path(f,x0,N=N-1,deltat=1) #path is the function that uses the nonlinear function\n",
        "result = data.frame(x_l=pts_linear[,1],x_n=pts_nonlinear[,1],y_l=pts_linear[,2],y_n=pts_nonlinear[,2])\n",
        "print(result)"
      ],
      "execution_count": 0,
      "outputs": [
        {
          "output_type": "stream",
          "text": [
            "        x_l      x_n      y_l      y_n\n",
            "0  9330.000 9330.000 1330.000 1330.000\n",
            "1  9330.462 9330.467 1330.275 1330.277\n",
            "2  9330.868 9330.877 1330.522 1330.526\n",
            "3  9331.225 9331.237 1330.744 1330.750\n",
            "4  9331.538 9331.553 1330.943 1330.951\n",
            "5  9331.812 9331.830 1331.123 1331.133\n",
            "6  9332.053 9332.073 1331.286 1331.296\n",
            "7  9332.263 9332.286 1331.432 1331.444\n",
            "8  9332.447 9332.472 1331.565 1331.578\n",
            "9  9332.608 9332.634 1331.685 1331.699\n",
            "10 9332.748 9332.776 1331.794 1331.809\n",
            "11 9332.869 9332.899 1331.893 1331.909\n",
            "12 9332.975 9333.006 1331.983 1332.001\n",
            "13 9333.067 9333.099 1332.065 1332.084\n",
            "14 9333.146 9333.179 1332.140 1332.159\n",
            "15 9333.215 9333.248 1332.209 1332.229\n",
            "16 9333.274 9333.307 1332.272 1332.293\n",
            "17 9333.324 9333.358 1332.330 1332.351\n",
            "18 9333.367 9333.402 1332.383 1332.405\n",
            "19 9333.404 9333.439 1332.432 1332.455\n",
            "20 9333.435 9333.470 1332.477 1332.500\n",
            "21 9333.460 9333.496 1332.519 1332.543\n",
            "22 9333.482 9333.518 1332.558 1332.582\n",
            "23 9333.499 9333.536 1332.594 1332.619\n",
            "24 9333.514 9333.550 1332.628 1332.653\n",
            "25 9333.525 9333.562 1332.659 1332.685\n",
            "26 9333.534 9333.571 1332.689 1332.714\n",
            "27 9333.541 9333.577 1332.716 1332.742\n",
            "28 9333.546 9333.582 1332.742 1332.768\n",
            "29 9333.549 9333.585 1332.766 1332.793\n",
            "30 9333.550 9333.587 1332.789 1332.816\n",
            "31 9333.551 9333.588 1332.810 1332.837\n",
            "32 9333.550 9333.587 1332.831 1332.858\n",
            "33 9333.549 9333.585 1332.850 1332.877\n",
            "34 9333.547 9333.583 1332.868 1332.896\n",
            "35 9333.544 9333.580 1332.885 1332.913\n",
            "36 9333.540 9333.577 1332.901 1332.929\n",
            "37 9333.537 9333.573 1332.917 1332.945\n",
            "38 9333.532 9333.569 1332.931 1332.960\n",
            "39 9333.528 9333.564 1332.945 1332.974\n",
            "40 9333.523 9333.559 1332.959 1332.988\n",
            "41 9333.518 9333.554 1332.972 1333.001\n",
            "42 9333.513 9333.549 1332.984 1333.013\n",
            "43 9333.508 9333.544 1332.995 1333.025\n",
            "44 9333.503 9333.539 1333.007 1333.036\n",
            "45 9333.498 9333.534 1333.017 1333.047\n",
            "46 9333.492 9333.528 1333.027 1333.057\n",
            "47 9333.487 9333.523 1333.037 1333.067\n",
            "48 9333.482 9333.518 1333.047 1333.077\n",
            "49 9333.477 9333.512 1333.056 1333.086\n"
          ],
          "name": "stdout"
        }
      ]
    },
    {
      "cell_type": "code",
      "metadata": {
        "id": "WoMqHzACIj2L",
        "colab_type": "code",
        "colab": {},
        "outputId": "7389622d-f40b-4aae-8606-7fc3a6e93694"
      },
      "source": [
        "VectorField(f,xlim=c(9329,9335),ylim=c(1329,1335))\n",
        "points(result$x_l,result$y_l,type=\"l\",col=\"blue\",lwd=3)\n",
        "points(result$x_n,result$y_n,type=\"l\",lty=\"dotted\",col=\"orange\",lwd=2)"
      ],
      "execution_count": 0,
      "outputs": [
        {
          "output_type": "display_data",
          "data": {
            "image/png": "[encoded data removed]",
            "text/plain": [
              "Plot with title \"\""
            ]
          },
          "metadata": {
            "tags": []
          }
        }
      ]
    },
    {
      "cell_type": "markdown",
      "metadata": {
        "id": "6n6s2Qj7Ij2Q",
        "colab_type": "text"
      },
      "source": [
        "As you can see from the numbers in the data frame and the plot, the linear approximation is converging to the solution which should give you more confidence about using the linear system to approximate the nonlinear one. <br><br>\n",
        "Since we are using the matrix $A$ to solve the problem, we are particularly interested in the dynamics of this matrix and the system:<br><br>\n",
        "$$\\frac{d\\vec{x}}{dt}= A\\vec{x},\\hspace{5pt}\\vec{x}(0)=x_0 $$<br>\n",
        "If it goes to $\\vec{0}$, then the nonlinear system will go toward the equilibrium.\n",
        "Continuing with the problem, we need to write the solution to this linear approximation using the eigenvalue/eigenvector information for the matrix A:<br><br>\n",
        "$$\\vec{x}(t)=c_1 e^{-0.1151t} \\begin{bmatrix}-0.906\\\\-0.423 \\end{bmatrix}+ c_1 e^{-0.0.034t} \\begin{bmatrix}0.617\\\\-0.787 \\end{bmatrix}$$<br>\n",
        "You can see from the equation (recall this from class), the linear system goes to $\\vec{0}$ because the eigenvalues are all less than 0. This means that the equilibrium point $\\begin{bmatrix}9333.3\\\\1333.3\\end{bmatrix}$ is stable. The phase portrait of this system is centered around $\\vec{0}$ and contains the vector(direction) field and a couple of paths through the direction field. We will cover this on the next class in Section 5.3."
      ]
    },
    {
      "cell_type": "code",
      "metadata": {
        "id": "ULV9iZVgIj2R",
        "colab_type": "code",
        "colab": {},
        "outputId": "107d7eb5-dc17-432e-ba27-83d8108fd6ee"
      },
      "source": [
        "##(d) What happens if a small number of hardwood trees are introduced into a mature area of softwood trees.\n",
        "x0 = c(1,6000) #10 hardwoods along with the 6000 carrying capacity for softwoods\n",
        "pts = path(f,x0,N=5000,deltat=.5)\n",
        "tail(pts)"
      ],
      "execution_count": 0,
      "outputs": [
        {
          "output_type": "display_data",
          "data": {
            "text/html": [
              "<table>\n",
              "<tbody>\n",
              "\t<tr><th scope=row>1033</th><td>9333.329</td><td>1333.338</td></tr>\n",
              "\t<tr><th scope=row>1034</th><td>9333.330</td><td>1333.338</td></tr>\n",
              "\t<tr><th scope=row>1035</th><td>9333.330</td><td>1333.338</td></tr>\n",
              "\t<tr><th scope=row>1036</th><td>9333.330</td><td>1333.338</td></tr>\n",
              "\t<tr><th scope=row>1037</th><td>9333.330</td><td>1333.338</td></tr>\n",
              "\t<tr><th scope=row>1038</th><td>9333.330</td><td>1333.338</td></tr>\n",
              "</tbody>\n",
              "</table>\n"
            ],
            "text/latex": "\\begin{tabular}{r|ll}\n\t1033 & 9333.329 & 1333.338\\\\\n\t1034 & 9333.330 & 1333.338\\\\\n\t1035 & 9333.330 & 1333.338\\\\\n\t1036 & 9333.330 & 1333.338\\\\\n\t1037 & 9333.330 & 1333.338\\\\\n\t1038 & 9333.330 & 1333.338\\\\\n\\end{tabular}\n",
            "text/markdown": "\n| 1033 | 9333.329 | 1333.338 |\n| 1034 | 9333.330 | 1333.338 |\n| 1035 | 9333.330 | 1333.338 |\n| 1036 | 9333.330 | 1333.338 |\n| 1037 | 9333.330 | 1333.338 |\n| 1038 | 9333.330 | 1333.338 |\n\n",
            "text/plain": [
              "     [,1]     [,2]    \n",
              "1033 9333.329 1333.338\n",
              "1034 9333.330 1333.338\n",
              "1035 9333.330 1333.338\n",
              "1036 9333.330 1333.338\n",
              "1037 9333.330 1333.338\n",
              "1038 9333.330 1333.338"
            ]
          },
          "metadata": {
            "tags": []
          }
        }
      ]
    },
    {
      "cell_type": "markdown",
      "metadata": {
        "id": "4twP7wE-Ij2W",
        "colab_type": "text"
      },
      "source": [
        "#### (d) With the introduction of a few hardwoods, the system converges to the stable equilibrium -> (9333.3,1333.3)\n",
        "What happens when we have no hardwoods?<br>\n",
        "No softwoods?<br>\n",
        "Both of these converge to their carrying capacity (see below). Be prepared to answer the question of why these converge to their carrying capacity even though the results of their linear approximation/eigenvalue decomposition suggests that they are not stable. "
      ]
    },
    {
      "cell_type": "code",
      "metadata": {
        "id": "qjCRWh0qIj2Y",
        "colab_type": "code",
        "colab": {},
        "outputId": "2835d62c-4cff-4e0c-c6bb-6b432872b69b"
      },
      "source": [
        "x0 = c(0,3000) \n",
        "pts = path(f,x0,N=5000,deltat=.5)\n",
        "tail(pts)\n",
        "x0 = c(3000,0) \n",
        "pts = path(f,x0,N=5000,deltat=.5)\n",
        "tail(pts)"
      ],
      "execution_count": 0,
      "outputs": [
        {
          "output_type": "display_data",
          "data": {
            "text/html": [
              "<table>\n",
              "<tbody>\n",
              "\t<tr><th scope=row>116</th><td>0       </td><td>5999.999</td></tr>\n",
              "\t<tr><th scope=row>117</th><td>0       </td><td>5999.999</td></tr>\n",
              "\t<tr><th scope=row>118</th><td>0       </td><td>5999.999</td></tr>\n",
              "\t<tr><th scope=row>119</th><td>0       </td><td>5999.999</td></tr>\n",
              "\t<tr><th scope=row>120</th><td>0       </td><td>5999.999</td></tr>\n",
              "\t<tr><th scope=row>121</th><td>0       </td><td>5999.999</td></tr>\n",
              "</tbody>\n",
              "</table>\n"
            ],
            "text/latex": "\\begin{tabular}{r|ll}\n\t116 & 0        & 5999.999\\\\\n\t117 & 0        & 5999.999\\\\\n\t118 & 0        & 5999.999\\\\\n\t119 & 0        & 5999.999\\\\\n\t120 & 0        & 5999.999\\\\\n\t121 & 0        & 5999.999\\\\\n\\end{tabular}\n",
            "text/markdown": "\n| 116 | 0        | 5999.999 |\n| 117 | 0        | 5999.999 |\n| 118 | 0        | 5999.999 |\n| 119 | 0        | 5999.999 |\n| 120 | 0        | 5999.999 |\n| 121 | 0        | 5999.999 |\n\n",
            "text/plain": [
              "    [,1] [,2]    \n",
              "116 0    5999.999\n",
              "117 0    5999.999\n",
              "118 0    5999.999\n",
              "119 0    5999.999\n",
              "120 0    5999.999\n",
              "121 0    5999.999"
            ]
          },
          "metadata": {
            "tags": []
          }
        },
        {
          "output_type": "display_data",
          "data": {
            "text/html": [
              "<table>\n",
              "<tbody>\n",
              "\t<tr><th scope=row>315</th><td>9999.998</td><td>0       </td></tr>\n",
              "\t<tr><th scope=row>316</th><td>9999.998</td><td>0       </td></tr>\n",
              "\t<tr><th scope=row>317</th><td>9999.998</td><td>0       </td></tr>\n",
              "\t<tr><th scope=row>318</th><td>9999.998</td><td>0       </td></tr>\n",
              "\t<tr><th scope=row>319</th><td>9999.998</td><td>0       </td></tr>\n",
              "\t<tr><th scope=row>320</th><td>9999.998</td><td>0       </td></tr>\n",
              "</tbody>\n",
              "</table>\n"
            ],
            "text/latex": "\\begin{tabular}{r|ll}\n\t315 & 9999.998 & 0       \\\\\n\t316 & 9999.998 & 0       \\\\\n\t317 & 9999.998 & 0       \\\\\n\t318 & 9999.998 & 0       \\\\\n\t319 & 9999.998 & 0       \\\\\n\t320 & 9999.998 & 0       \\\\\n\\end{tabular}\n",
            "text/markdown": "\n| 315 | 9999.998 | 0        |\n| 316 | 9999.998 | 0        |\n| 317 | 9999.998 | 0        |\n| 318 | 9999.998 | 0        |\n| 319 | 9999.998 | 0        |\n| 320 | 9999.998 | 0        |\n\n",
            "text/plain": [
              "    [,1]     [,2]\n",
              "315 9999.998 0   \n",
              "316 9999.998 0   \n",
              "317 9999.998 0   \n",
              "318 9999.998 0   \n",
              "319 9999.998 0   \n",
              "320 9999.998 0   "
            ]
          },
          "metadata": {
            "tags": []
          }
        }
      ]
    }
  ]
}