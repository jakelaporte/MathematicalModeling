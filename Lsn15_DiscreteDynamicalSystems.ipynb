{
  "nbformat": 4,
  "nbformat_minor": 0,
  "metadata": {
    "kernelspec": {
      "display_name": "R",
      "language": "R",
      "name": "ir"
    },
    "language_info": {
      "codemirror_mode": "r",
      "file_extension": ".r",
      "mimetype": "text/x-r-source",
      "name": "R",
      "pygments_lexer": "r",
      "version": "3.6.1"
    },
    "colab": {
      "name": "Lsn15_DiscreteDynamicalSystems.ipynb",
      "provenance": [],
      "include_colab_link": true
    }
  },
  "cells": [
    {
      "cell_type": "markdown",
      "metadata": {
        "id": "view-in-github",
        "colab_type": "text"
      },
      "source": [
        "<a href=\"https://colab.research.google.com/github/jakelaporte/MathematicalModeling/blob/master/Lsn15_DiscreteDynamicalSystems.ipynb\" target=\"_parent\"><img src=\"https://colab.research.google.com/assets/colab-badge.svg\" alt=\"Open In Colab\"/></a>"
      ]
    },
    {
      "cell_type": "code",
      "metadata": {
        "id": "y4QZKqAdUnrn",
        "colab_type": "code",
        "colab": {}
      },
      "source": [
        "options(warn=-1)\n",
        "library(pracma)\n",
        "library(ma391laporte)"
      ],
      "execution_count": 0,
      "outputs": []
    },
    {
      "cell_type": "markdown",
      "metadata": {
        "id": "x7dPG8EJUnrx",
        "colab_type": "text"
      },
      "source": [
        "# Discrete Time Dynamical Systems\n",
        "Before attempting to go through this lesson, watch the following video and pay special attention to the typical case of having *n* eigenvalues and *n* independent eigenvectors for an $A_{nxn}$ matrix and take notes so that you can ask questions if you do not understand something: [Diagonalization and Powers of A](https://ocw.mit.edu/courses/mathematics/18-06-linear-algebra-spring-2010/video-lectures/lecture-22-diagonalization-and-powers-of-a/). <br><br>\n",
        "In the video, you should have the following solution technique for a linear, discrete time, homogeneous dynamical system:<br><br>\n",
        "$$\\vec{u}_{k+1}=A\\vec{u}_k\\hspace{5pt}\\text{initial value: }\\vec{u}_0$$<br>\n",
        "$$\\vec{u}_1 = A\\vec{u}_0 $$<br>\n",
        "$$\\vec{u}_2 = A\\vec{u}_1 = A A\\vec{u}_0=A^2\\vec{u}_0 $$<br>\n",
        "$$\\vec{u}_k = A^k\\vec{u}_0$$ <br>\n",
        "So the solution involves finding $A^k$. In the video, you should have seen that the way we \"really\" solve this is by finding the eigenvalues ($\\lambda_1,\\lambda_2,...\\lambda_n$) and eigenvectors($\\vec{v}_1,\\vec{v}_2,...\\vec{v}_n$). Find the linear combination of the *n* independent eigenvectors of $\\vec{u}_0$<br><br>\n",
        "$$\\vec{u}_0=c_1\\vec{v}_1+c_2\\vec{v}_2+c_3\\vec{v}_3+...+c_n\\vec{v}_n$$<br>\n",
        "$$A\\vec{u}_0=c_1A\\vec{v}_1+c_2A\\vec{v}_2+c_3A\\vec{v}_3+...+c_nA\\vec{v}_n$$\n",
        "$$=c_1\\lambda_1\\vec{v}_1+c_2\\lambda_2\\vec{v}_2+c_3\\lambda_3\\vec{v}_3+...+c_n\\lambda_n\\vec{v}_n$$<br>\n",
        "$$AA\\vec{u}_0=A^2\\vec{u}_0=c_1\\lambda_1A\\vec{v}_1+c_2\\lambda_2A\\vec{v}_2+c_3\\lambda_3A\\vec{v}_3+...+c_n\\lambda_nA\\vec{v}_n$$\n",
        "$$=c_1\\lambda_1^2\\vec{v}_1+c_2\\lambda_2^2\\vec{v}_2+c_3\\lambda_3^2\\vec{v}_3+...+c_n\\lambda_n^2\\vec{v}_n$$<br>\n",
        "$$\\begin{equation}A^k\\vec{u}_0=c_1\\lambda_1^k\\vec{v}_1+c_2\\lambda_2^k\\vec{v}_2+c_3\\lambda_3^k\\vec{v}_3+...+c_n\\lambda_n^k\\vec{v}_n\\end{equation}$$<br>\n",
        "This solution answers the question of stability for the system. How? Notice that if the eigenvalues of the system are $|\\lambda_i|$ are all less than one (this becomes the test for discrete systems), then $A^k\\vec{u}_0$ goes to zero and the system is stable."
      ]
    },
    {
      "cell_type": "markdown",
      "metadata": {
        "id": "aUxyLPd-Unr0",
        "colab_type": "text"
      },
      "source": [
        "## Example (USMA text)\n",
        "A simple model of a fish population with three age groups - age under 1 year (young, $y_n$), age between 1 and 2 years old (middle, $m_n$) and age over two years (adult, $a_n$). \n",
        "#### Modeling the Problem #####\n",
        "Variables: <ol>\n",
        "- $n$ = time (years) after lake is stocked<br>\n",
        "- $y_n$ = the number (in thousands) of young fish <br> \n",
        "- $m_n$ = the number (in thousands) of middle aged fish<br>\n",
        "- $a_n$ = the number (in thousands) of adult fish <br>\n",
        "- $x_n$ = the vector of [young middle adult] fish in thousands - these are the state variables<br>\n",
        "- $x_{n+1} = Ax_n$ where $A$ is found by the relationship between the state variables (see below)<br><br>\n",
        "- $x_0 = \\begin{bmatrix}2\\\\2\\\\0\\end{bmatrix}$ \n",
        "</ol>\n",
        "\n",
        "Assumptions:<ol>\n",
        "- Each year 50% of the population in the first age group survive, 80% of the middle age group make it to adulthood, and 50% of adults continue being adults.\n",
        "- On average 30% of young fish have offspring, 52% of middle-aged fish have offspring, and 28% of adult fish have offspring.\n",
        "</ol>\n",
        "These assumptions lead to the following equations: <br>\n",
        "Young fish population-> $y_{n+1}=0.3y_n+0.52m_n+0.28a_n$.<br> \n",
        "Middle-age population -> $m_{n+1}=0.5y_n$<br>\n",
        "Adult population -> $a_{n+1}=0.8m_n+0.5a_n$ <br><br>\n",
        "Putting this equation into the form that we need to solve it:<br><br>\n",
        "$$\\vec{x}_{n+1}=\\begin{bmatrix}y_{n+1}\\\\m_{n+1}\\\\a_{n+1}\\end{bmatrix} = \\begin{bmatrix}0.3y_n+0.52m_n+0.28a_n\\\\0.5y_n\\\\0.8m_n+0.5a_n \\end{bmatrix}=\\begin{bmatrix}0.3&0.52&0.28\\\\0.5&0&0\\\\0&0.8&0.5\\end{bmatrix}\\begin{bmatrix}y_n\\\\m_n\\\\a_n\\end{bmatrix}=A\\vec{x}_n$$<br><br>\n",
        "The question here is what are the dynamics in this problem? Does the population grow forever or does it die out? We use the theory from the video / and in the last section to understand what is happening. We could just run this with [2,2,0] and see what happens, but we would rather understand what is happening based on the math."
      ]
    },
    {
      "cell_type": "code",
      "metadata": {
        "id": "60R-_JlLUnr3",
        "colab_type": "code",
        "colab": {},
        "outputId": "7adc7534-fd62-46da-8774-fd26a0a1ffcc"
      },
      "source": [
        "print(\"A\")\n",
        "A = matrix(c(.3,.52,.28,.5,0,0,0,.8,.5),nrow=3,byrow=T);print(A)\n",
        "print(\"u0\")\n",
        "u0 = matrix(c(2,2,0));print(u0)\n",
        "ev = eigen(A)\n",
        "print(\"Lambda-diagonal matrix with eigenvalues in diagonal\")\n",
        "Lambda = diag(ev$values);print(Lambda)\n",
        "lambda = ev$values\n",
        "print(\"S\")\n",
        "S=ev$vectors;print(S)"
      ],
      "execution_count": 0,
      "outputs": [
        {
          "output_type": "stream",
          "text": [
            "[1] \"A\"\n",
            "     [,1] [,2] [,3]\n",
            "[1,]  0.3 0.52 0.28\n",
            "[2,]  0.5 0.00 0.00\n",
            "[3,]  0.0 0.80 0.50\n",
            "[1] \"u0\"\n",
            "     [,1]\n",
            "[1,]    2\n",
            "[2,]    2\n",
            "[3,]    0\n",
            "[1] \"Lambda-diagonal matrix with eigenvalues in diagonal\"\n",
            "     [,1] [,2] [,3]\n",
            "[1,]  0.9  0.0  0.0\n",
            "[2,]  0.0 -0.2  0.0\n",
            "[3,]  0.0  0.0  0.1\n",
            "[1] \"S\"\n",
            "           [,1]       [,2]        [,3]\n",
            "[1,] -0.6270597  0.2547139 -0.08908708\n",
            "[2,] -0.3483665 -0.6367848 -0.44543540\n",
            "[3,] -0.6967330  0.7277540  0.89087081\n"
          ],
          "name": "stdout"
        }
      ]
    },
    {
      "cell_type": "markdown",
      "metadata": {
        "id": "rmlI-0dVUnr9",
        "colab_type": "text"
      },
      "source": [
        "Using the matrix of normalized eigenvectors from above, finding the linear combinations is simply solving the following system of equations:<br><br>\n",
        "$$S \\vec{c}=\\vec{u}_0$$<br>\n",
        "where $S$ represents the eigenvector matrix, $vec{c}$ is the vector of linear combinations of the eigenvectors needed to sum up to the initial starting value $\\vec{u}_0$."
      ]
    },
    {
      "cell_type": "code",
      "metadata": {
        "id": "ZcPRPTasUnr-",
        "colab_type": "code",
        "colab": {},
        "outputId": "3bf1a9f6-1523-4801-afd8-f1aa3587672e"
      },
      "source": [
        "c = solve(S,u0);print(c)"
      ],
      "execution_count": 0,
      "outputs": [
        {
          "output_type": "stream",
          "text": [
            "              [,1]\n",
            "[1,] -2.870540e+00\n",
            "[2,]  3.106569e-15\n",
            "[3,] -2.244994e+00\n"
          ],
          "name": "stdout"
        }
      ]
    },
    {
      "cell_type": "markdown",
      "metadata": {
        "id": "xOt_1qDwUnsE",
        "colab_type": "text"
      },
      "source": [
        "The analytic solution to the system of equations (we will verify this below) is the following vector equation where we only need to substitute in the value of $k$ that we are interested in (note that we have used the notation from the problem $n$ instead of $k$):<br><br>\n",
        "$$A^n\\vec{u}_0=\\vec{u}(n)=(-2.87)(0.9)^n\\begin{bmatrix}-0.627097\\\\-0.3483665\\\\-0.6967330 \\end{bmatrix}+(0)(-0.2)^n\\begin{bmatrix}0.2547139\\\\-0.6367848\\\\0.7277540 \\end{bmatrix}+(-2.245)(0.1)^n\\begin{bmatrix}-0.08908708\\\\-0.44543540\\\\0.89087081 \\end{bmatrix}$$"
      ]
    },
    {
      "cell_type": "code",
      "metadata": {
        "id": "z-YyGwGnUnsF",
        "colab_type": "code",
        "colab": {},
        "outputId": "a2e665fc-4df2-4426-fce1-aba519816612"
      },
      "source": [
        "## Verify that the matrix multiplication gives the same result as the analytic vector solution ##\n",
        "un = function(n){round(c[1]*lambda[1]^n*S[,1]+c[3]*lambda[3]^n*S[,3],3)}\n",
        "u = u0\n",
        "for (i in 0:10){\n",
        "    print(\"=======================\")\n",
        "    print(i)\n",
        "    print(\"un = eigenvalues\")\n",
        "    print(un(i))\n",
        "    ## Compare with matrix multiplication uk = A^k*u0##\n",
        "    print(\"A^n*u0\")\n",
        "    print(t(round(u,3)))\n",
        "    u = A%*%u\n",
        "}"
      ],
      "execution_count": 0,
      "outputs": [
        {
          "output_type": "stream",
          "text": [
            "[1] \"=======================\"\n",
            "[1] 0\n",
            "[1] \"un = eigenvalues\"\n",
            "[1] 2 2 0\n",
            "[1] \"A^n*u0\"\n",
            "     [,1] [,2] [,3]\n",
            "[1,]    2    2    0\n",
            "[1] \"=======================\"\n",
            "[1] 1\n",
            "[1] \"un = eigenvalues\"\n",
            "[1] 1.64 1.00 1.60\n",
            "[1] \"A^n*u0\"\n",
            "     [,1] [,2] [,3]\n",
            "[1,] 1.64    1  1.6\n",
            "[1] \"=======================\"\n",
            "[1] 2\n",
            "[1] \"un = eigenvalues\"\n",
            "[1] 1.46 0.82 1.60\n",
            "[1] \"A^n*u0\"\n",
            "     [,1] [,2] [,3]\n",
            "[1,] 1.46 0.82  1.6\n",
            "[1] \"=======================\"\n",
            "[1] 3\n",
            "[1] \"un = eigenvalues\"\n",
            "[1] 1.312 0.730 1.456\n",
            "[1] \"A^n*u0\"\n",
            "      [,1] [,2]  [,3]\n",
            "[1,] 1.312 0.73 1.456\n",
            "[1] \"=======================\"\n",
            "[1] 4\n",
            "[1] \"un = eigenvalues\"\n",
            "[1] 1.181 0.656 1.312\n",
            "[1] \"A^n*u0\"\n",
            "      [,1]  [,2]  [,3]\n",
            "[1,] 1.181 0.656 1.312\n",
            "[1] \"=======================\"\n",
            "[1] 5\n",
            "[1] \"un = eigenvalues\"\n",
            "[1] 1.063 0.590 1.181\n",
            "[1] \"A^n*u0\"\n",
            "      [,1] [,2]  [,3]\n",
            "[1,] 1.063 0.59 1.181\n",
            "[1] \"=======================\"\n",
            "[1] 6\n",
            "[1] \"un = eigenvalues\"\n",
            "[1] 0.957 0.531 1.063\n",
            "[1] \"A^n*u0\"\n",
            "      [,1]  [,2]  [,3]\n",
            "[1,] 0.957 0.531 1.063\n",
            "[1] \"=======================\"\n",
            "[1] 7\n",
            "[1] \"un = eigenvalues\"\n",
            "[1] 0.861 0.478 0.957\n",
            "[1] \"A^n*u0\"\n",
            "      [,1]  [,2]  [,3]\n",
            "[1,] 0.861 0.478 0.957\n",
            "[1] \"=======================\"\n",
            "[1] 8\n",
            "[1] \"un = eigenvalues\"\n",
            "[1] 0.775 0.430 0.861\n",
            "[1] \"A^n*u0\"\n",
            "      [,1] [,2]  [,3]\n",
            "[1,] 0.775 0.43 0.861\n",
            "[1] \"=======================\"\n",
            "[1] 9\n",
            "[1] \"un = eigenvalues\"\n",
            "[1] 0.697 0.387 0.775\n",
            "[1] \"A^n*u0\"\n",
            "      [,1]  [,2]  [,3]\n",
            "[1,] 0.697 0.387 0.775\n",
            "[1] \"=======================\"\n",
            "[1] 10\n",
            "[1] \"un = eigenvalues\"\n",
            "[1] 0.628 0.349 0.697\n",
            "[1] \"A^n*u0\"\n",
            "      [,1]  [,2]  [,3]\n",
            "[1,] 0.628 0.349 0.697\n"
          ],
          "name": "stdout"
        }
      ]
    },
    {
      "cell_type": "markdown",
      "metadata": {
        "id": "I_M-pS7ZUnsL",
        "colab_type": "text"
      },
      "source": [
        "#### Conclusions ####\n",
        "Since the analytic solution to the matrix multiplication can give us insight into the dynamics of the problem, we use that version and know that when all of the eigenvalues are less than one in absolute value $|\\lambda_i|$ for all $i$, then the equilibrium solution is stable."
      ]
    },
    {
      "cell_type": "markdown",
      "metadata": {
        "id": "WV2wx8GRUnsM",
        "colab_type": "text"
      },
      "source": [
        "Finally, understand that the analysis done above is with respect to the recursion equations and we can very easily turn this back into a difference equation problem and use the path function from previous lessons. We need to understand how to convert from one to the other, so follow the simple logic.<br><br>\n",
        "$$ \\begin{bmatrix}y_{n+1}\\\\m_{n+1}\\\\a_{n+1} \\end{bmatrix}-\\begin{bmatrix}y_{n}\\\\m_{n}\\\\a_{n}\\end{bmatrix} = \\begin{bmatrix}\\Delta y \\\\ \\Delta m \\\\ \\Delta a\\end{bmatrix} = \\begin{bmatrix}0.3y_n+0.52m_n+0.28a_n\\\\0.5y_n\\\\0.8m_n+0.5a_n \\end{bmatrix}-\\begin{bmatrix}y_{n}\\\\m_{n}\\\\a_{n}\\end{bmatrix}=\\begin{bmatrix}-0.7y_n+0.52m_n+0.28a_n\\\\ 0.5y_n-m_n\\\\0.8m_n-0.5a_n \\end{bmatrix}$$ <br><br>\n",
        "In terms of the state variables: <br>\n",
        "$$\\begin{bmatrix}\\Delta x_1 \\\\ \\Delta x_2 \\\\ \\Delta x_3\\end{bmatrix} =\\begin{bmatrix}-0.7x_1+0.52x_2+0.28x_3\\\\ 0.5x_1-x_2\\\\ 0.8x_2-0.5x_3 \\end{bmatrix} $$<br><br>\n",
        "As you can see below, we use the path function with these difference equations to get the same results."
      ]
    },
    {
      "cell_type": "code",
      "metadata": {
        "id": "RMJQobHhUnsO",
        "colab_type": "code",
        "colab": {}
      },
      "source": [
        "## Replace this path function with the one that we used previously (it assumed a 2D system)#####\n",
        "path = function(f,x0,deltat=0.01,N=1000,tol=1E-4){\n",
        "  len = length(x0)\n",
        "  points=matrix(0,ncol=len)\n",
        "  points[1,] = x0\n",
        "  n = 0\n",
        "  p = c(1,1)\n",
        "  while(norm(p)>tol & n<N){\n",
        "    n=n+1\n",
        "    p = f(x0)*deltat\n",
        "    x0=x0+p\n",
        "    points = rbind(points,x0)\n",
        "  }\n",
        "\n",
        "  rownames(points)=0:n\n",
        "  return(points)\n",
        "}"
      ],
      "execution_count": 0,
      "outputs": []
    },
    {
      "cell_type": "code",
      "metadata": {
        "id": "T5-yLMSEUnsR",
        "colab_type": "code",
        "colab": {},
        "outputId": "bebd1a3d-b3ea-47f2-b730-d6a2cfff69b3"
      },
      "source": [
        "## Compare these results with the recursion equations above ##\n",
        "f = function(x){c(-0.7*x[1]+0.52*x[2]+0.28*x[3],\n",
        "                 0.5*x[1]-x[2],\n",
        "                 0.8*x[2]-.5*x[3])}\n",
        "x0=c(2,2,0)\n",
        "path(f,x0,N=10,deltat=1)"
      ],
      "execution_count": 0,
      "outputs": [
        {
          "output_type": "display_data",
          "data": {
            "text/html": [
              "<table>\n",
              "<tbody>\n",
              "\t<tr><th scope=row>0</th><td>2.0000000</td><td>2.0000000</td><td>0.0000000</td></tr>\n",
              "\t<tr><th scope=row>1</th><td>1.6400000</td><td>1.0000000</td><td>1.6000000</td></tr>\n",
              "\t<tr><th scope=row>2</th><td>1.4600000</td><td>0.8200000</td><td>1.6000000</td></tr>\n",
              "\t<tr><th scope=row>3</th><td>1.3124000</td><td>0.7300000</td><td>1.4560000</td></tr>\n",
              "\t<tr><th scope=row>4</th><td>1.1810000</td><td>0.6562000</td><td>1.3120000</td></tr>\n",
              "\t<tr><th scope=row>5</th><td>1.0628840</td><td>0.5905000</td><td>1.1809600</td></tr>\n",
              "\t<tr><th scope=row>6</th><td>0.9565940</td><td>0.5314420</td><td>1.0628800</td></tr>\n",
              "\t<tr><th scope=row>7</th><td>0.8609344</td><td>0.4782970</td><td>0.9565936</td></tr>\n",
              "\t<tr><th scope=row>8</th><td>0.7748410</td><td>0.4304672</td><td>0.8609344</td></tr>\n",
              "\t<tr><th scope=row>9</th><td>0.6973569</td><td>0.3874205</td><td>0.7748410</td></tr>\n",
              "\t<tr><th scope=row>10</th><td>0.6276212</td><td>0.3486784</td><td>0.6973569</td></tr>\n",
              "</tbody>\n",
              "</table>\n"
            ],
            "text/latex": "\\begin{tabular}{r|lll}\n\t0 & 2.0000000 & 2.0000000 & 0.0000000\\\\\n\t1 & 1.6400000 & 1.0000000 & 1.6000000\\\\\n\t2 & 1.4600000 & 0.8200000 & 1.6000000\\\\\n\t3 & 1.3124000 & 0.7300000 & 1.4560000\\\\\n\t4 & 1.1810000 & 0.6562000 & 1.3120000\\\\\n\t5 & 1.0628840 & 0.5905000 & 1.1809600\\\\\n\t6 & 0.9565940 & 0.5314420 & 1.0628800\\\\\n\t7 & 0.8609344 & 0.4782970 & 0.9565936\\\\\n\t8 & 0.7748410 & 0.4304672 & 0.8609344\\\\\n\t9 & 0.6973569 & 0.3874205 & 0.7748410\\\\\n\t10 & 0.6276212 & 0.3486784 & 0.6973569\\\\\n\\end{tabular}\n",
            "text/markdown": "\n| 0 | 2.0000000 | 2.0000000 | 0.0000000 |\n| 1 | 1.6400000 | 1.0000000 | 1.6000000 |\n| 2 | 1.4600000 | 0.8200000 | 1.6000000 |\n| 3 | 1.3124000 | 0.7300000 | 1.4560000 |\n| 4 | 1.1810000 | 0.6562000 | 1.3120000 |\n| 5 | 1.0628840 | 0.5905000 | 1.1809600 |\n| 6 | 0.9565940 | 0.5314420 | 1.0628800 |\n| 7 | 0.8609344 | 0.4782970 | 0.9565936 |\n| 8 | 0.7748410 | 0.4304672 | 0.8609344 |\n| 9 | 0.6973569 | 0.3874205 | 0.7748410 |\n| 10 | 0.6276212 | 0.3486784 | 0.6973569 |\n\n",
            "text/plain": [
              "   [,1]      [,2]      [,3]     \n",
              "0  2.0000000 2.0000000 0.0000000\n",
              "1  1.6400000 1.0000000 1.6000000\n",
              "2  1.4600000 0.8200000 1.6000000\n",
              "3  1.3124000 0.7300000 1.4560000\n",
              "4  1.1810000 0.6562000 1.3120000\n",
              "5  1.0628840 0.5905000 1.1809600\n",
              "6  0.9565940 0.5314420 1.0628800\n",
              "7  0.8609344 0.4782970 0.9565936\n",
              "8  0.7748410 0.4304672 0.8609344\n",
              "9  0.6973569 0.3874205 0.7748410\n",
              "10 0.6276212 0.3486784 0.6973569"
            ]
          },
          "metadata": {
            "tags": []
          }
        }
      ]
    },
    {
      "cell_type": "code",
      "metadata": {
        "id": "NMuLdPyjUnsW",
        "colab_type": "code",
        "colab": {}
      },
      "source": [
        ""
      ],
      "execution_count": 0,
      "outputs": []
    }
  ]
}