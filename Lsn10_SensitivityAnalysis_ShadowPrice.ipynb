{
  "nbformat": 4,
  "nbformat_minor": 0,
  "metadata": {
    "kernelspec": {
      "display_name": "R",
      "language": "R",
      "name": "ir"
    },
    "language_info": {
      "codemirror_mode": "r",
      "file_extension": ".r",
      "mimetype": "text/x-r-source",
      "name": "R",
      "pygments_lexer": "r",
      "version": "3.6.1"
    },
    "colab": {
      "name": "Lsn10_SensitivityAnalysis_ShadowPrice.ipynb",
      "provenance": [],
      "include_colab_link": true
    }
  },
  "cells": [
    {
      "cell_type": "markdown",
      "metadata": {
        "id": "view-in-github",
        "colab_type": "text"
      },
      "source": [
        "<a href=\"https://colab.research.google.com/github/jakelaporte/MathematicalModeling/blob/master/Lsn10_SensitivityAnalysis_ShadowPrice.ipynb\" target=\"_parent\"><img src=\"https://colab.research.google.com/assets/colab-badge.svg\" alt=\"Open In Colab\"/></a>"
      ]
    },
    {
      "cell_type": "markdown",
      "metadata": {
        "id": "zhuiAU6U4I1B",
        "colab_type": "text"
      },
      "source": [
        "# Sensitivity Analysis and Shadow Prices\n",
        "The purpose of this lesson is to figure out what happens to the objective function when our assumptions about the right-hand side (rhs) of the constraint equations are perturbed by a small amount. We start by reproducing (correctly) what they are trying to do in the book (the book left off the constraints $x_1\\le5000$ and $x_2\\le8000$). I assume because they were not binding at the optimum, but as the elasticity changes, they become binding - see below.<br><br>\n",
        "In most applications, only approximate data is available. Measurement errors, fluctuations in data, unavailability of information are some of the factors that contribute to imprecision in the optimization model. In the absence of precise data, there may be no choice but to solve the model with the best available estimates. Once the solution is obtained, it is reasonable to assess the quality of the resulting solution. A key question is, how sensitive is the solution to variations in the data? In this notebook, we first look at how changes in the assumptions that make up the objective function could change the solution, then we turn to looking at the changes in the rhs of the constraints and figure out why these are called shadow prices."
      ]
    },
    {
      "cell_type": "code",
      "metadata": {
        "id": "e4MoNpb24I1F",
        "colab_type": "code",
        "colab": {},
        "outputId": "ae2f2ccb-9c6b-4f81-8e49-4a48687b9e09"
      },
      "source": [
        "## a = 0.01 ##\n",
        "options(warn=-1)\n",
        "library(MASS);library(NlcOptim);library(ma391laporte)\n",
        "## Example 2.2 - Meerschaert ##\n",
        "P = function(x){\n",
        "    return(((339-0.01*x[1]-0.003*x[2])*x[1]\n",
        "           +(399-0.004*x[1]-0.01*x[2])*x[2]\n",
        "           -(400000+195*x[1]+225*x[2]))*-1)\n",
        "}\n",
        "###Linear Inequality Constraints##\n",
        "x0=c(1000,1000)\n",
        "A = matrix(c(1,0,1,-1,0,0,1,1,0,-1),nrow=5) #defining this matrix is not intuitive - make sure we talk in class\n",
        "B = matrix(c(5000,8000,10000,0,0),nrow=5)\n",
        "print(A)\n",
        "print(B)\n",
        "solnl(x0,objfun=P,A=A,B=B)"
      ],
      "execution_count": 0,
      "outputs": [
        {
          "output_type": "stream",
          "text": [
            "     [,1] [,2]\n",
            "[1,]    1    0\n",
            "[2,]    0    1\n",
            "[3,]    1    1\n",
            "[4,]   -1    0\n",
            "[5,]    0   -1\n",
            "      [,1]\n",
            "[1,]  5000\n",
            "[2,]  8000\n",
            "[3,] 10000\n",
            "[4,]     0\n",
            "[5,]     0\n"
          ],
          "name": "stdout"
        },
        {
          "output_type": "display_data",
          "data": {
            "text/html": [
              "<dl>\n",
              "\t<dt>$par</dt>\n",
              "\t\t<dd><table>\n",
              "<tbody>\n",
              "\t<tr><td>3846.154</td></tr>\n",
              "\t<tr><td>6153.846</td></tr>\n",
              "</tbody>\n",
              "</table>\n",
              "</dd>\n",
              "\t<dt>$fn</dt>\n",
              "\t\t<dd>-532307.692307692</dd>\n",
              "\t<dt>$counts</dt>\n",
              "\t\t<dd><table>\n",
              "<thead><tr><th scope=col>nfval</th><th scope=col>ngval</th></tr></thead>\n",
              "<tbody>\n",
              "\t<tr><td>19</td><td>7 </td></tr>\n",
              "</tbody>\n",
              "</table>\n",
              "</dd>\n",
              "\t<dt>$lambda</dt>\n",
              "\t\t<dd><dl>\n",
              "\t<dt>$lower</dt>\n",
              "\t\t<dd><table>\n",
              "<tbody>\n",
              "\t<tr><td>0</td></tr>\n",
              "\t<tr><td>0</td></tr>\n",
              "</tbody>\n",
              "</table>\n",
              "</dd>\n",
              "\t<dt>$upper</dt>\n",
              "\t\t<dd><table>\n",
              "<tbody>\n",
              "\t<tr><td>0</td></tr>\n",
              "\t<tr><td>0</td></tr>\n",
              "</tbody>\n",
              "</table>\n",
              "</dd>\n",
              "\t<dt>$ineqlin</dt>\n",
              "\t\t<dd><ol class=list-inline>\n",
              "\t<li>0</li>\n",
              "\t<li>0</li>\n",
              "\t<li>23.9999975016635</li>\n",
              "\t<li>0</li>\n",
              "\t<li>0</li>\n",
              "</ol>\n",
              "</dd>\n",
              "</dl>\n",
              "</dd>\n",
              "\t<dt>$grad</dt>\n",
              "\t\t<dd><table>\n",
              "<tbody>\n",
              "\t<tr><td>-24.00000</td></tr>\n",
              "\t<tr><td>-23.99999</td></tr>\n",
              "</tbody>\n",
              "</table>\n",
              "</dd>\n",
              "\t<dt>$hessian</dt>\n",
              "\t\t<dd><table>\n",
              "<tbody>\n",
              "\t<tr><td>0.020029796</td><td>0.007039313</td></tr>\n",
              "\t<tr><td>0.007039313</td><td>0.020238593</td></tr>\n",
              "</tbody>\n",
              "</table>\n",
              "</dd>\n",
              "</dl>\n"
            ],
            "text/latex": "\\begin{description}\n\\item[\\$par] \\begin{tabular}{l}\n\t 3846.154\\\\\n\t 6153.846\\\\\n\\end{tabular}\n\n\\item[\\$fn] -532307.692307692\n\\item[\\$counts] \\begin{tabular}{ll}\n nfval & ngval\\\\\n\\hline\n\t 19 & 7 \\\\\n\\end{tabular}\n\n\\item[\\$lambda] \\begin{description}\n\\item[\\$lower] \\begin{tabular}{l}\n\t 0\\\\\n\t 0\\\\\n\\end{tabular}\n\n\\item[\\$upper] \\begin{tabular}{l}\n\t 0\\\\\n\t 0\\\\\n\\end{tabular}\n\n\\item[\\$ineqlin] \\begin{enumerate*}\n\\item 0\n\\item 0\n\\item 23.9999975016635\n\\item 0\n\\item 0\n\\end{enumerate*}\n\n\\end{description}\n\n\\item[\\$grad] \\begin{tabular}{l}\n\t -24.00000\\\\\n\t -23.99999\\\\\n\\end{tabular}\n\n\\item[\\$hessian] \\begin{tabular}{ll}\n\t 0.020029796 & 0.007039313\\\\\n\t 0.007039313 & 0.020238593\\\\\n\\end{tabular}\n\n\\end{description}\n",
            "text/markdown": "$par\n:   \n| 3846.154 |\n| 6153.846 |\n\n\n$fn\n:   -532307.692307692\n$counts\n:   \n| nfval | ngval |\n|---|---|\n| 19 | 7  |\n\n\n$lambda\n:   $lower\n:   \n| 0 |\n| 0 |\n\n\n$upper\n:   \n| 0 |\n| 0 |\n\n\n$ineqlin\n:   1. 0\n2. 0\n3. 23.9999975016635\n4. 0\n5. 0\n\n\n\n\n\n\n$grad\n:   \n| -24.00000 |\n| -23.99999 |\n\n\n$hessian\n:   \n| 0.020029796 | 0.007039313 |\n| 0.007039313 | 0.020238593 |\n\n\n\n\n",
            "text/plain": [
              "$par\n",
              "         [,1]\n",
              "[1,] 3846.154\n",
              "[2,] 6153.846\n",
              "\n",
              "$fn\n",
              "[1] -532307.7\n",
              "\n",
              "$counts\n",
              "     nfval ngval\n",
              "[1,]    19     7\n",
              "\n",
              "$lambda\n",
              "$lambda$lower\n",
              "     [,1]\n",
              "[1,]    0\n",
              "[2,]    0\n",
              "\n",
              "$lambda$upper\n",
              "     [,1]\n",
              "[1,]    0\n",
              "[2,]    0\n",
              "\n",
              "$lambda$ineqlin\n",
              "[1]  0  0 24  0  0\n",
              "\n",
              "\n",
              "$grad\n",
              "          [,1]\n",
              "[1,] -24.00000\n",
              "[2,] -23.99999\n",
              "\n",
              "$hessian\n",
              "            [,1]        [,2]\n",
              "[1,] 0.020029796 0.007039313\n",
              "[2,] 0.007039313 0.020238593\n"
            ]
          },
          "metadata": {
            "tags": []
          }
        }
      ]
    },
    {
      "cell_type": "code",
      "metadata": {
        "id": "uIPlXXiy4I1P",
        "colab_type": "code",
        "colab": {},
        "outputId": "0c7f731d-0f47-4454-acdb-09ffe21e619a"
      },
      "source": [
        "## Change a and see what it does to the objective function ###\n",
        "f = function(a){\n",
        "    P = function(x){\n",
        "    return(((339-a*x[1]-0.003*x[2])*x[1]\n",
        "           +(399-0.004*x[1]-0.01*x[2])*x[2]\n",
        "           -(400000+195*x[1]+225*x[2]))*-1)\n",
        "    }\n",
        "    x0=c(1000,1000)\n",
        "    A = matrix(c(1,0,1,-1,0,0,1,1,0,-1),nrow=5)\n",
        "    B = matrix(c(5000,8000,10000,0,0),nrow=5)\n",
        "    ans = solnl(x0,objfun=P,A=A,B=B)\n",
        "    return(ans)\n",
        "}\n",
        "ans.x1=0\n",
        "ans.x2=0\n",
        "ans.profit=0\n",
        "sa = seq(0.001,0.025,0.001)\n",
        "for (i in 1:length(sa)){\n",
        "    res = f(sa[i])\n",
        "    ans.x1[i]=res$par[1]\n",
        "    ans.x2[i]=res$par[2]\n",
        "    ans.profit[i]= -res$fn\n",
        "}\n",
        "result = data.frame(a = sa,x1=ans.x1,x2=ans.x2,profit = ans.profit)\n",
        "print(result)"
      ],
      "execution_count": 0,
      "outputs": [
        {
          "output_type": "stream",
          "text": [
            "       a       x1       x2   profit\n",
            "1  0.001 5000.000 5000.000 740000.0\n",
            "2  0.002 5000.000 5000.000 715000.0\n",
            "3  0.003 5000.000 5000.000 690000.0\n",
            "4  0.004 5000.000 5000.000 665000.0\n",
            "5  0.005 5000.000 5000.000 640000.0\n",
            "6  0.006 5000.000 5000.000 615000.0\n",
            "7  0.007 5000.000 5000.000 590000.0\n",
            "8  0.008 4545.455 5454.545 567272.7\n",
            "9  0.009 4166.667 5833.333 548333.3\n",
            "10 0.010 3846.154 6153.846 532307.7\n",
            "11 0.011 3571.428 6428.572 518571.4\n",
            "12 0.012 3333.333 6666.667 506666.7\n",
            "13 0.013 3125.000 6875.000 496250.0\n",
            "14 0.014 2941.176 7058.824 487058.8\n",
            "15 0.015 2777.778 7222.222 478888.9\n",
            "16 0.016 2631.579 7368.421 471578.9\n",
            "17 0.017 2500.000 7500.000 465000.0\n",
            "18 0.018 2380.952 7619.048 459047.6\n",
            "19 0.019 2272.727 7727.273 453636.4\n",
            "20 0.020 2173.913 7826.087 448695.7\n",
            "21 0.021 2083.333 7916.667 444166.7\n",
            "22 0.022 2000.000 8000.000 440000.0\n",
            "23 0.023 1913.043 8000.000 436173.9\n",
            "24 0.024 1833.333 8000.000 432666.7\n",
            "25 0.025 1760.000 8000.000 429440.0\n"
          ],
          "name": "stdout"
        }
      ]
    },
    {
      "cell_type": "markdown",
      "metadata": {
        "id": "_j0yNzqw4I1W",
        "colab_type": "text"
      },
      "source": [
        "### Binding / Active Constraints\n",
        "The following lists the binding constraints for the problem at different elasticity levels.\n",
        "\n",
        "|a |# binding constraint           |\n",
        "|--|-------------------------------------------|\n",
        "|0.001|$x_1=5000$, and  $x_1+x_2 = 10000$   |\n",
        "|...|...|\n",
        "|0.008|$x_1+x_2=10000$|\n",
        "|...|...|\n",
        "|0.022|$x_2=8000$,   $x_1+x_2=10000$     |\n",
        "|0.023|$x_2=8000$|\n",
        "|...|...|\n",
        "|0.025|$x_2=8000$|\n",
        "\n"
      ]
    },
    {
      "cell_type": "markdown",
      "metadata": {
        "id": "wCqpv5GZ4I1X",
        "colab_type": "text"
      },
      "source": [
        "## Shadow Price - Review MA205/255 (Constrained Optimization with multiple constraints)\n",
        "A Lagrange multiplier problem with the following setup:\n",
        "$$\\min_{\\vec{x}}{f(\\vec{x})}$$\n",
        "$$\\text{s.t. }g_1(\\vec{x})=b_1 $$\n",
        "$$g_2(\\vec{x})=b_2$$\n",
        "$$...$$\n",
        "$$g_m(\\vec{x})=b_m$$<br>\n",
        "is solved using Lagrange multipliers like we covered in class by finding the solution to the following equations:\n",
        "$$\\vec{\\triangledown}f(\\vec{x})=\\lambda_1\\vec{\\triangledown}g_1(\\vec{x})+\\lambda_2\\vec{\\triangledown}g_2(\\vec{x})+...+ \\lambda_m\\vec{\\triangledown}g_m(\\vec{x})$$\n",
        "$$g_1(\\vec{x})=b_1$$\n",
        "$$g_2(\\vec{x})=b_2$$\n",
        "$$...$$\n",
        "\n",
        "If we let all of our constraint functions ($g_1(\\vec{x}),g_2(\\vec{x}),...$) be linear, then we can turn this list of constraints into matrix notation.\n",
        "\n",
        "\n",
        "\n",
        "$$\\min_{\\vec{x}}{f(\\vec{x})}$$\n",
        "$$ \\text{s.t. }A\\vec{x}=\\vec{b} $$\n",
        "- Assume $f$ is twice differentiable, and $A$ is an ```mxn``` matrix with full row rank\n",
        "- Assume a local minimizer is found $\\vec{x}_*$ that minimizes the function and satisfies the constraint $A\\vec{x}_*=\\vec{b}$.<br><br>\n",
        "Let's look at an example, to see what this looks like for a set of linear constraint equations."
      ]
    },
    {
      "cell_type": "markdown",
      "metadata": {
        "id": "4FJedsv84I1Z",
        "colab_type": "text"
      },
      "source": [
        "#### Simple example ####\n",
        "$$\\min_{\\vec{x}}{f(\\vec{x})}$$<br>\n",
        "$$ \\text{s.t. }3x_1+2x_2-x_3=5$$\n",
        "$$ -2x_1+x_2+2x_3=12$$<br>\n",
        "Turning these constraints into matrix form, $A\\vec{x}=\\vec{b}$, we get:\n",
        "$$\\begin{bmatrix}3&2&-1\\\\-2&1&2\\end{bmatrix} \\begin{bmatrix}x_1\\\\x_2\\\\x_3\\end{bmatrix}=\\begin{bmatrix}5\\\\12\\end{bmatrix}$$<br><br>\n",
        "so that $\\vec{\\triangledown}g_1(\\vec{x})=\\begin{bmatrix}3\\\\2\\\\-1\\end{bmatrix} \\text{ and }\\vec{\\triangledown}g_2(\\vec{x})=\\begin{bmatrix}-2\\\\1\\\\-2\\end{bmatrix}$.<br><br>\n",
        "If we are solving this with Lagrange multipliers, we get the following set of equations and $\\vec{x}_*$ represents the solution to the equations which is the optimum:\n",
        "$$\\vec{\\triangledown}f(\\vec{x}_*)=\\lambda_{1*}\\begin{bmatrix}3\\\\2\\\\-1\\end{bmatrix} + \\lambda_{2*}\\begin{bmatrix}-2\\\\1\\\\-2\\end{bmatrix} = \\begin{bmatrix}3&-2\\\\2&1\\\\-1&2\\end{bmatrix}\\begin{bmatrix}\\lambda_{1*} \\\\ \\lambda_{2*}\\end{bmatrix}=A^T \\vec{\\lambda}_*$$<br><br>\n",
        "Note the following from using Lagrange multipliers on a linear set of constraints:\n",
        "$$\\boxed{\\vec{\\triangledown}f(\\vec{x}_*)=A^T \\vec{\\lambda}_*}$$"
      ]
    },
    {
      "cell_type": "markdown",
      "metadata": {
        "id": "QT6mu8Kt4I1b",
        "colab_type": "text"
      },
      "source": [
        "## Perturbations in RHS of constraints\n",
        "Now suppose we introduce a small perturbation(change) in the $\\vec{b}$ of the constraints, the question is - how does this small change effect our solution? This is the same question that we ask in our sensitivity analysis. Luckily, there is an easy answer to this question, but we will need a little math in order to understand why it is true. Let's start by perturbing $\\vec{b}$ by a small amount $\\vec{b}+\\vec{\\delta}$ where $\\vec{\\delta}$ is a vector of small values. If these are sufficiently small, then we assume that the new optimum ($\\bar{x}$) is close to $\\vec{x}_*$. For $\\bar{x}$ close to $\\vec{x}_*$ with $A\\bar{x}=\\vec{b}+\\vec{\\delta}$, use the Taylor Series approximation to obtain:<br><br>\n",
        "$$f(\\vec{x}_*+(\\bar{x}-\\vec{x}_*))= f(\\bar{x})\\approx f(\\vec{x}_*)+(\\bar{x}-\\vec{x}_*)^T\\vec{\\triangledown}f(\\vec{x}_*)$$<br>\n",
        "Using our boxed equation from above, we see that:\n",
        "$$ = f(\\vec{x}_*)+(\\bar{x}-\\vec{x}_*)^TA^T \\vec{\\lambda}_*$$<br><br>\n",
        "Taking a closer look at the transpose of $(\\bar{x}-\\vec{x}_*)^TA^T$, we see the following:\n",
        "$$A(\\bar{x}-\\vec{x}_*) =  \\underbrace{ A\\bar{x}}_{\\vec{b}+\\vec{\\delta}}   -   \\underbrace{A\\vec{x}_*}_{\\vec{b}}   = \\vec{b}+\\vec{\\delta}-\\vec{b}=\\vec{\\delta}$$<br><br>\n",
        "This shows that $(\\bar{x}-\\vec{x}_*)^TA^T = \\vec{\\delta}^T$<br><br>\n",
        "$$f(\\bar{x})\\approx f(\\vec{x}_*)+   \\underbrace{(\\bar{x}-\\vec{x}_*)^TA^T}_{\\vec{\\delta}^T}    \\vec{\\lambda}_*=f(\\vec{x}_*)+  \\underbrace{\\vec{\\delta}^T\\vec{\\lambda}_*}_{\\text{dot product}}\n",
        "$$ <br><br>\n",
        "This shows that small perturbations in the rhs of the constraint equation, leads to changes that are proportional to the Lagrange multiplier at the optimum ($\\lambda_*$). Let's make changes to our TV example and note how these changes effect our solution in terms of the shadow prices."
      ]
    },
    {
      "cell_type": "markdown",
      "metadata": {
        "id": "Aw4tIA6q4I1c",
        "colab_type": "text"
      },
      "source": [
        "## Shadow Price Example\n",
        "From page 47, the **shadow price** represents the value to the company of a certain resource (constraint). If the company is interested in increasing its profit, then it should investigate the binding constraints on the optimal values.<br><br>\n",
        "$$\\max_{x_1,x_2}{(339-0.01x_1-0.003x_2)x_1+(339-0.004x_1-0.01x_2)x_2-(400000+195x_1+225x_2)} $$\n",
        "$$ \\text{s.t. }x_1+x_2\\le10,000 \\text{ (production capacity)}$$ \n",
        "$$ x_1\\le5,000 \\text{ (max 19in TVs)}$$\n",
        "$$ x_2\\le8,000\\text{ (max 21in TVs)}$$<br>\n",
        "The only binding constraint for the solution is the production capacity of $x_1+x_2\\le10,000$ which had a $\\lambda$ value of 24. The meaning of this that increasing production capacity by 1 would increase the profit by ```$24```. Let's change the constraint on the problem and let ```R``` show us what happens to the profit. Let $x_1+x_2=10,001$ and solve for the new profit."
      ]
    },
    {
      "cell_type": "code",
      "metadata": {
        "id": "V4ClYz0I4I1e",
        "colab_type": "code",
        "colab": {},
        "outputId": "992d6c7b-e933-4895-9eb2-30fab6e39da9"
      },
      "source": [
        "## Perturbed problem to denote what happens when production capacity changes.\n",
        "P = function(x){\n",
        "    return(((339-0.01*x[1]-0.003*x[2])*x[1]\n",
        "           +(399-0.004*x[1]-0.01*x[2])*x[2]\n",
        "           -(400000+195*x[1]+225*x[2]))*-1)\n",
        "}\n",
        "###Linear Inequality Constraints##\n",
        "x0=c(1000,1000)\n",
        "A = matrix(c(1,0,1,-1,0,0,1,1,0,-1),nrow=5) #defining this matrix is not intuitive - make sure we talk in class\n",
        "B = matrix(c(5000,8000,10001,0,0),nrow=5)\n",
        "print(A)\n",
        "print(B)\n",
        "solnl(x0,objfun=P,A=A,B=B)"
      ],
      "execution_count": 0,
      "outputs": [
        {
          "output_type": "stream",
          "text": [
            "     [,1] [,2]\n",
            "[1,]    1    0\n",
            "[2,]    0    1\n",
            "[3,]    1    1\n",
            "[4,]   -1    0\n",
            "[5,]    0   -1\n",
            "      [,1]\n",
            "[1,]  5000\n",
            "[2,]  8000\n",
            "[3,] 10001\n",
            "[4,]     0\n",
            "[5,]     0\n"
          ],
          "name": "stdout"
        },
        {
          "output_type": "display_data",
          "data": {
            "text/html": [
              "<dl>\n",
              "\t<dt>$par</dt>\n",
              "\t\t<dd><table>\n",
              "<tbody>\n",
              "\t<tr><td>3846.654</td></tr>\n",
              "\t<tr><td>6154.346</td></tr>\n",
              "</tbody>\n",
              "</table>\n",
              "</dd>\n",
              "\t<dt>$fn</dt>\n",
              "\t\t<dd>-532331.685557693</dd>\n",
              "\t<dt>$counts</dt>\n",
              "\t\t<dd><table>\n",
              "<thead><tr><th scope=col>nfval</th><th scope=col>ngval</th></tr></thead>\n",
              "<tbody>\n",
              "\t<tr><td>19</td><td>7 </td></tr>\n",
              "</tbody>\n",
              "</table>\n",
              "</dd>\n",
              "\t<dt>$lambda</dt>\n",
              "\t\t<dd><dl>\n",
              "\t<dt>$lower</dt>\n",
              "\t\t<dd><table>\n",
              "<tbody>\n",
              "\t<tr><td>0</td></tr>\n",
              "\t<tr><td>0</td></tr>\n",
              "</tbody>\n",
              "</table>\n",
              "</dd>\n",
              "\t<dt>$upper</dt>\n",
              "\t\t<dd><table>\n",
              "<tbody>\n",
              "\t<tr><td>0</td></tr>\n",
              "\t<tr><td>0</td></tr>\n",
              "</tbody>\n",
              "</table>\n",
              "</dd>\n",
              "\t<dt>$ineqlin</dt>\n",
              "\t\t<dd><ol class=list-inline>\n",
              "\t<li>0</li>\n",
              "\t<li>0</li>\n",
              "\t<li>23.9864970545177</li>\n",
              "\t<li>0</li>\n",
              "\t<li>0</li>\n",
              "</ol>\n",
              "</dd>\n",
              "</dl>\n",
              "</dd>\n",
              "\t<dt>$grad</dt>\n",
              "\t\t<dd><table>\n",
              "<tbody>\n",
              "\t<tr><td>-23.98649</td></tr>\n",
              "\t<tr><td>-23.98650</td></tr>\n",
              "</tbody>\n",
              "</table>\n",
              "</dd>\n",
              "\t<dt>$hessian</dt>\n",
              "\t\t<dd><table>\n",
              "<tbody>\n",
              "\t<tr><td>0.020140590</td><td>0.007049412</td></tr>\n",
              "\t<tr><td>0.007049412</td><td>0.020105975</td></tr>\n",
              "</tbody>\n",
              "</table>\n",
              "</dd>\n",
              "</dl>\n"
            ],
            "text/latex": "\\begin{description}\n\\item[\\$par] \\begin{tabular}{l}\n\t 3846.654\\\\\n\t 6154.346\\\\\n\\end{tabular}\n\n\\item[\\$fn] -532331.685557693\n\\item[\\$counts] \\begin{tabular}{ll}\n nfval & ngval\\\\\n\\hline\n\t 19 & 7 \\\\\n\\end{tabular}\n\n\\item[\\$lambda] \\begin{description}\n\\item[\\$lower] \\begin{tabular}{l}\n\t 0\\\\\n\t 0\\\\\n\\end{tabular}\n\n\\item[\\$upper] \\begin{tabular}{l}\n\t 0\\\\\n\t 0\\\\\n\\end{tabular}\n\n\\item[\\$ineqlin] \\begin{enumerate*}\n\\item 0\n\\item 0\n\\item 23.9864970545177\n\\item 0\n\\item 0\n\\end{enumerate*}\n\n\\end{description}\n\n\\item[\\$grad] \\begin{tabular}{l}\n\t -23.98649\\\\\n\t -23.98650\\\\\n\\end{tabular}\n\n\\item[\\$hessian] \\begin{tabular}{ll}\n\t 0.020140590 & 0.007049412\\\\\n\t 0.007049412 & 0.020105975\\\\\n\\end{tabular}\n\n\\end{description}\n",
            "text/markdown": "$par\n:   \n| 3846.654 |\n| 6154.346 |\n\n\n$fn\n:   -532331.685557693\n$counts\n:   \n| nfval | ngval |\n|---|---|\n| 19 | 7  |\n\n\n$lambda\n:   $lower\n:   \n| 0 |\n| 0 |\n\n\n$upper\n:   \n| 0 |\n| 0 |\n\n\n$ineqlin\n:   1. 0\n2. 0\n3. 23.9864970545177\n4. 0\n5. 0\n\n\n\n\n\n\n$grad\n:   \n| -23.98649 |\n| -23.98650 |\n\n\n$hessian\n:   \n| 0.020140590 | 0.007049412 |\n| 0.007049412 | 0.020105975 |\n\n\n\n\n",
            "text/plain": [
              "$par\n",
              "         [,1]\n",
              "[1,] 3846.654\n",
              "[2,] 6154.346\n",
              "\n",
              "$fn\n",
              "[1] -532331.7\n",
              "\n",
              "$counts\n",
              "     nfval ngval\n",
              "[1,]    19     7\n",
              "\n",
              "$lambda\n",
              "$lambda$lower\n",
              "     [,1]\n",
              "[1,]    0\n",
              "[2,]    0\n",
              "\n",
              "$lambda$upper\n",
              "     [,1]\n",
              "[1,]    0\n",
              "[2,]    0\n",
              "\n",
              "$lambda$ineqlin\n",
              "[1]  0.0000  0.0000 23.9865  0.0000  0.0000\n",
              "\n",
              "\n",
              "$grad\n",
              "          [,1]\n",
              "[1,] -23.98649\n",
              "[2,] -23.98650\n",
              "\n",
              "$hessian\n",
              "            [,1]        [,2]\n",
              "[1,] 0.020140590 0.007049412\n",
              "[2,] 0.007049412 0.020105975\n"
            ]
          },
          "metadata": {
            "tags": []
          }
        }
      ]
    },
    {
      "cell_type": "markdown",
      "metadata": {
        "id": "_K5KtUty4I1k",
        "colab_type": "text"
      },
      "source": [
        "#### Results \n",
        "|Production Capacity|Profit|$x_1$|$x_2$|\n",
        "|-------------------|------|-----|-----|\n",
        "|10,000|```$532,307```|3846|6154|\n",
        "|10,001|```$532,331```|3846|6154|\n",
        "\n",
        "532,331-532,307=24<br>\n",
        "The difference in the profit is ```$24``` which was expected because of the shadow price."
      ]
    },
    {
      "cell_type": "markdown",
      "metadata": {
        "id": "Y5PuRqVk4I1m",
        "colab_type": "text"
      },
      "source": [
        "## Example 2.5 - change the constraint on 19 in TVs\n",
        "$$\\max_{x_1,x_2}{(339-0.01x_1-0.003x_2)x_1+(339-0.004x_1-0.01x_2)x_2-(400000+195x_1+225x_2)} $$\n",
        "$$ \\text{s.t. }x_1+x_2\\le10,000 \\text{ (production capacity)}$$ \n",
        "$$ x_1\\le3,000 \\text{ (max 19in TVs)}$$\n",
        "$$ x_2\\le8,000\\text{ (max 21in TVs)}$$<br>"
      ]
    },
    {
      "cell_type": "code",
      "metadata": {
        "scrolled": false,
        "id": "wyWJOulT4I1o",
        "colab_type": "code",
        "colab": {},
        "outputId": "d0f6db87-7f6a-463d-a172-6169cd305dd1"
      },
      "source": [
        "P = function(x){\n",
        "    return(((339-0.01*x[1]-0.003*x[2])*x[1]\n",
        "           +(399-0.004*x[1]-0.01*x[2])*x[2]\n",
        "           -(400000+195*x[1]+225*x[2]))*-1)\n",
        "}\n",
        "###Linear Inequality Constraints##\n",
        "x0=c(1000,1000)\n",
        "A = matrix(c(1,0,1,-1,0,0,1,1,0,-1),nrow=5) #defining this matrix is not intuitive - make sure we talk in class\n",
        "B = matrix(c(3000,8000,10000,0,0),nrow=5)\n",
        "solnl(x0,objfun=P,A=A,B=B)"
      ],
      "execution_count": 0,
      "outputs": [
        {
          "output_type": "display_data",
          "data": {
            "text/html": [
              "<dl>\n",
              "\t<dt>$par</dt>\n",
              "\t\t<dd><table>\n",
              "<tbody>\n",
              "\t<tr><td>3000</td></tr>\n",
              "\t<tr><td>7000</td></tr>\n",
              "</tbody>\n",
              "</table>\n",
              "</dd>\n",
              "\t<dt>$fn</dt>\n",
              "\t\t<dd>-523000</dd>\n",
              "\t<dt>$counts</dt>\n",
              "\t\t<dd><table>\n",
              "<thead><tr><th scope=col>nfval</th><th scope=col>ngval</th></tr></thead>\n",
              "<tbody>\n",
              "\t<tr><td>16</td><td>6 </td></tr>\n",
              "</tbody>\n",
              "</table>\n",
              "</dd>\n",
              "\t<dt>$lambda</dt>\n",
              "\t\t<dd><dl>\n",
              "\t<dt>$lower</dt>\n",
              "\t\t<dd><table>\n",
              "<tbody>\n",
              "\t<tr><td>0</td></tr>\n",
              "\t<tr><td>0</td></tr>\n",
              "</tbody>\n",
              "</table>\n",
              "</dd>\n",
              "\t<dt>$upper</dt>\n",
              "\t\t<dd><table>\n",
              "<tbody>\n",
              "\t<tr><td>0</td></tr>\n",
              "\t<tr><td>0</td></tr>\n",
              "</tbody>\n",
              "</table>\n",
              "</dd>\n",
              "\t<dt>$ineqlin</dt>\n",
              "\t\t<dd><ol class=list-inline>\n",
              "\t<li>22</li>\n",
              "\t<li>0</li>\n",
              "\t<li>13</li>\n",
              "\t<li>0</li>\n",
              "\t<li>0</li>\n",
              "</ol>\n",
              "</dd>\n",
              "</dl>\n",
              "</dd>\n",
              "\t<dt>$grad</dt>\n",
              "\t\t<dd><table>\n",
              "<tbody>\n",
              "\t<tr><td>-35</td></tr>\n",
              "\t<tr><td>-13</td></tr>\n",
              "</tbody>\n",
              "</table>\n",
              "</dd>\n",
              "\t<dt>$hessian</dt>\n",
              "\t\t<dd><table>\n",
              "<tbody>\n",
              "\t<tr><td>0.075464446</td><td>0.007000001</td></tr>\n",
              "\t<tr><td>0.007000001</td><td>0.019999998</td></tr>\n",
              "</tbody>\n",
              "</table>\n",
              "</dd>\n",
              "</dl>\n"
            ],
            "text/latex": "\\begin{description}\n\\item[\\$par] \\begin{tabular}{l}\n\t 3000\\\\\n\t 7000\\\\\n\\end{tabular}\n\n\\item[\\$fn] -523000\n\\item[\\$counts] \\begin{tabular}{ll}\n nfval & ngval\\\\\n\\hline\n\t 16 & 6 \\\\\n\\end{tabular}\n\n\\item[\\$lambda] \\begin{description}\n\\item[\\$lower] \\begin{tabular}{l}\n\t 0\\\\\n\t 0\\\\\n\\end{tabular}\n\n\\item[\\$upper] \\begin{tabular}{l}\n\t 0\\\\\n\t 0\\\\\n\\end{tabular}\n\n\\item[\\$ineqlin] \\begin{enumerate*}\n\\item 22\n\\item 0\n\\item 13\n\\item 0\n\\item 0\n\\end{enumerate*}\n\n\\end{description}\n\n\\item[\\$grad] \\begin{tabular}{l}\n\t -35\\\\\n\t -13\\\\\n\\end{tabular}\n\n\\item[\\$hessian] \\begin{tabular}{ll}\n\t 0.075464446 & 0.007000001\\\\\n\t 0.007000001 & 0.019999998\\\\\n\\end{tabular}\n\n\\end{description}\n",
            "text/markdown": "$par\n:   \n| 3000 |\n| 7000 |\n\n\n$fn\n:   -523000\n$counts\n:   \n| nfval | ngval |\n|---|---|\n| 16 | 6  |\n\n\n$lambda\n:   $lower\n:   \n| 0 |\n| 0 |\n\n\n$upper\n:   \n| 0 |\n| 0 |\n\n\n$ineqlin\n:   1. 22\n2. 0\n3. 13\n4. 0\n5. 0\n\n\n\n\n\n\n$grad\n:   \n| -35 |\n| -13 |\n\n\n$hessian\n:   \n| 0.075464446 | 0.007000001 |\n| 0.007000001 | 0.019999998 |\n\n\n\n\n",
            "text/plain": [
              "$par\n",
              "     [,1]\n",
              "[1,] 3000\n",
              "[2,] 7000\n",
              "\n",
              "$fn\n",
              "[1] -523000\n",
              "\n",
              "$counts\n",
              "     nfval ngval\n",
              "[1,]    16     6\n",
              "\n",
              "$lambda\n",
              "$lambda$lower\n",
              "     [,1]\n",
              "[1,]    0\n",
              "[2,]    0\n",
              "\n",
              "$lambda$upper\n",
              "     [,1]\n",
              "[1,]    0\n",
              "[2,]    0\n",
              "\n",
              "$lambda$ineqlin\n",
              "[1] 22  0 13  0  0\n",
              "\n",
              "\n",
              "$grad\n",
              "     [,1]\n",
              "[1,]  -35\n",
              "[2,]  -13\n",
              "\n",
              "$hessian\n",
              "            [,1]        [,2]\n",
              "[1,] 0.075464446 0.007000001\n",
              "[2,] 0.007000001 0.019999998\n"
            ]
          },
          "metadata": {
            "tags": []
          }
        }
      ]
    },
    {
      "cell_type": "markdown",
      "metadata": {
        "id": "voADq9Rn4I1s",
        "colab_type": "text"
      },
      "source": [
        "### Results - two constraints are binding\n",
        "Now the constraints $x_1+x_2\\le10,000$ and $x_1\\le3,000$ are binding and there is a shadow price for each of these."
      ]
    },
    {
      "cell_type": "markdown",
      "metadata": {
        "id": "RFjVhvKM4I1t",
        "colab_type": "text"
      },
      "source": [
        "***\n",
        "# ==================================================\n",
        "# ========  Homework Lesson 10  ========================\n",
        "# ==================================================\n",
        "***\n",
        "\n",
        "#### Problem 1: Using this new constraint from example 2.5, use R to show how changing the rhs of the constraints changes the objective function.\n",
        "$$\\max_{x_1,x_2}{(339-0.01x_1-0.003x_2)x_1+(339-0.004x_1-0.01x_2)x_2-(400000+195x_1+225x_2)} $$\n",
        "$$ \\text{s.t. }x_1+x_2\\le10,001 \\text{ (production capacity)}$$ \n",
        "$$ x_1\\le3,001 \\text{ (max 19in TVs)}$$\n",
        "$$ x_2\\le8,001\\text{ (max 21in TVs)}$$<br>\n",
        "#### Problem2: Explain why the solution that you got in R either confirmed what you thought was going to happen and why; or did not confirm and possible reasons why.\n",
        "\n",
        "#### Problem3: Go back to the originial problem and create a table of rhs for the $x_1+x_2=10000$ constraint - keep track of $x_1,x_2,\\lambda_{\\text{constraint}},\\text{profit}$. Make a reasonable window of possible rhs's for this constraint and explain what happens. Does shadow price stay at 24? If not, explain why.\n",
        "\n",
        "#### Problem 4: Create your own optimization problem with a constraint. Find its shadow prices (implies that you need at least one constraint to be binding) and verify that an increase in the constraint (by 1) actually increases the objective function by the shadow price."
      ]
    }
  ]
}