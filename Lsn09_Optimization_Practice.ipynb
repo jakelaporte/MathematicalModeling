{
  "nbformat": 4,
  "nbformat_minor": 0,
  "metadata": {
    "kernelspec": {
      "display_name": "R",
      "language": "R",
      "name": "ir"
    },
    "language_info": {
      "codemirror_mode": "r",
      "file_extension": ".r",
      "mimetype": "text/x-r-source",
      "name": "R",
      "pygments_lexer": "r",
      "version": "3.6.1"
    },
    "colab": {
      "name": "Lsn09_Optimization_Practice.ipynb",
      "provenance": [],
      "include_colab_link": true
    }
  },
  "cells": [
    {
      "cell_type": "markdown",
      "metadata": {
        "id": "view-in-github",
        "colab_type": "text"
      },
      "source": [
        "<a href=\"https://colab.research.google.com/github/jakelaporte/MathematicalModeling/blob/master/Lsn09_Optimization_Practice.ipynb\" target=\"_parent\"><img src=\"https://colab.research.google.com/assets/colab-badge.svg\" alt=\"Open In Colab\"/></a>"
      ]
    },
    {
      "cell_type": "markdown",
      "metadata": {
        "id": "31AZxcAe9COK",
        "colab_type": "text"
      },
      "source": [
        "***\n",
        "***\n",
        "# ============================================================\n",
        "# Nonlinear and Linear Optimization in R\n",
        "# ============================================================\n",
        "***\n",
        "***\n",
        "The following information is to help you understand how to execute the **Solve** step in the class given an optimization problem from block 1. This ```R notebook``` assumes that you have already completed the **Transform** step of the modeling process and focuses solely on the **Solve** step.<br>\n",
        "Once you have transformed the problem, determine the following:\n",
        "- Is the problem a single variable or multivarible problem? \n",
        "- Is it a nonlinear or linear objective function? \n",
        "- What type of constraints do you have - Nonlinear, Equality; Nonlinear, Inequality; Linear, Equality; Linear Inequality?\n",
        "\n",
        "This ```R Notebook``` contains the \"how to\" for each of the possible optimization problems along with the graphical interpretation of the problem and how you would use ```R``` to visualize it. Obviously, if we have too many decision variables, it could be impossible to visualize. "
      ]
    },
    {
      "cell_type": "markdown",
      "metadata": {
        "id": "C27j117T9CON",
        "colab_type": "text"
      },
      "source": [
        "***\n",
        "## Single Variable Optimization ###\n",
        "***\n",
        "$$ \\max_{x}{(0.65-0.01x)(200+5x)-0.45x}$$\n",
        "If you have not already figured it out, ```optim``` will solve most single variable optmization problems. The techniques that we have learned in class will solve all of them. ```optim``` is a base ```R``` function so no library is needed to call it. It does however require that you are solving for a minimum, so in this case we multiply the objective function by -1.\n",
        "```R\n",
        "f = function(x){((0.65−0.01*x)*(200+5*x)−0.45*x)*(-1)}\n",
        "x=1\n",
        "optim(x,f)\n",
        "```"
      ]
    },
    {
      "cell_type": "code",
      "metadata": {
        "id": "E92glzAM9COQ",
        "colab_type": "code",
        "colab": {},
        "outputId": "97957ee1-70b7-48b7-e88d-91891d75bb1f"
      },
      "source": [
        "options(warn=-1)\n",
        "f = function(x){((0.65−0.01*x)*(200+5*x)−0.45*x)*(-1)}\n",
        "x=1 #starting value\n",
        "ans=optim(x,f)\n",
        "print(ans)"
      ],
      "execution_count": 0,
      "outputs": [
        {
          "output_type": "stream",
          "text": [
            "$par\n",
            "[1] 8.1\n",
            "\n",
            "$value\n",
            "[1] -133.1995\n",
            "\n",
            "$counts\n",
            "function gradient \n",
            "      20       NA \n",
            "\n",
            "$convergence\n",
            "[1] 0\n",
            "\n",
            "$message\n",
            "NULL\n",
            "\n"
          ],
          "name": "stdout"
        }
      ]
    },
    {
      "cell_type": "code",
      "metadata": {
        "id": "DyrtTVvx9COZ",
        "colab_type": "code",
        "colab": {},
        "outputId": "7085696a-0005-4633-831a-f1c7cb9f0196"
      },
      "source": [
        "x = seq(0,20,0.1)\n",
        "plot(x,-f(x),type=\"l\",lwd=3,col=\"black\",main=\"Maximization\")\n",
        "points(ans$par,-f(ans$par),pch=21,bg=\"orange\",cex=2)\n",
        "plot(x,f(x),type=\"l\",lwd=3,col=\"black\",main=\"Minimization\")\n",
        "points(ans$par,f(ans$par),pch=21,bg=\"yellow\",cex=2)"
      ],
      "execution_count": 0,
      "outputs": [
        {
          "output_type": "display_data",
          "data": {
            "image/png": "[encoded data removed]",
            "text/plain": [
              "Plot with title \"Maximization\""
            ]
          },
          "metadata": {
            "tags": []
          }
        },
        {
          "output_type": "display_data",
          "data": {
            "image/png": "[encoded data removed]",
            "text/plain": [
              "Plot with title \"Minimization\""
            ]
          },
          "metadata": {
            "tags": []
          }
        }
      ]
    },
    {
      "cell_type": "markdown",
      "metadata": {
        "id": "WF9ZwfWv9COe",
        "colab_type": "text"
      },
      "source": [
        "The graphs above show that the optimization occurs at the same place for a $\\max_{x}{-f(x)}$ and a $\\min_{x}{f(x)}$. Here, both occur at $x=8.1$."
      ]
    },
    {
      "cell_type": "markdown",
      "metadata": {
        "id": "V7WIhB689COg",
        "colab_type": "text"
      },
      "source": [
        "***\n",
        "## Multivariable Unconstrained Optimization\n",
        "***\n",
        "$$ \\max_{x_1,x_2}{(339-0.01x_1-0.003x_2)x_1+(399-0.004x_1-0.01x_2)x_2-(400,000+195x_1+225x_2)} $$\n",
        "Again, the gameplan for an unconstrained optimization should be to use ```optim```. Ensure that you are minimizing the function (multiply by a -1 for max problems)."
      ]
    },
    {
      "cell_type": "code",
      "metadata": {
        "id": "B2oN_5fF9COi",
        "colab_type": "code",
        "colab": {},
        "outputId": "e0246db0-9705-43fc-9c3f-b06ecfb7a84c"
      },
      "source": [
        "P = function(x){\n",
        "    return(((339-0.01*x[1]-0.003*x[2])*x[1]\n",
        "           +(399-0.004*x[1]-0.01*x[2])*x[2]\n",
        "           -(400000+195*x[1]+225*x[2]))*-1)\n",
        "}\n",
        "x=c(500,500) #starting point for optimization\n",
        "ans = optim(x,P,method=\"BFGS\") #BFGS is a numerical technique used to incrementally calculate the Hessian for Newton\n",
        "print(ans)"
      ],
      "execution_count": 0,
      "outputs": [
        {
          "output_type": "stream",
          "text": [
            "$par\n",
            "[1] 4735.043 7042.735\n",
            "\n",
            "$value\n",
            "[1] -553641\n",
            "\n",
            "$counts\n",
            "function gradient \n",
            "       8        5 \n",
            "\n",
            "$convergence\n",
            "[1] 0\n",
            "\n",
            "$message\n",
            "NULL\n",
            "\n"
          ],
          "name": "stdout"
        }
      ]
    },
    {
      "cell_type": "markdown",
      "metadata": {
        "id": "ETC9-1iF9COn",
        "colab_type": "text"
      },
      "source": [
        "#### Interpret the Solution \n",
        "In order to maximize this problem, $x_1=4735, x_2=7043$ with $P(4735,7043)=553,641$. We would use this information to answer the question in terms of what $x_1$, $x_2$, and $P(x_1,x_2)$ actually stood for in the problem. "
      ]
    },
    {
      "cell_type": "code",
      "metadata": {
        "id": "IS4E8DMq9COo",
        "colab_type": "code",
        "colab": {},
        "outputId": "ef380182-f08a-40f7-e34d-172e52fc2678"
      },
      "source": [
        "library(ma391laporte)#Outer function\n",
        "X = list(x=seq(2000,6000,10),y=seq(3000,10000,10))\n",
        "Z = Outer(P,X)\n",
        "## contour plot ##\n",
        "contour(X$x,X$y,-Z, main=\"P(x,y) - optimal point in Red\")\n",
        "points(ans$par[1],ans$par[2],pch=21,bg=\"red\",cex=2)"
      ],
      "execution_count": 0,
      "outputs": [
        {
          "output_type": "display_data",
          "data": {
            "image/png": "[encoded data removed]",
            "text/plain": [
              "Plot with title \"P(x,y) - optimal point in Red\""
            ]
          },
          "metadata": {
            "tags": []
          }
        }
      ]
    },
    {
      "cell_type": "markdown",
      "metadata": {
        "id": "gnVX2FQL9COu",
        "colab_type": "text"
      },
      "source": [
        "***\n",
        "## Multivariable Constrained Optimization  / Nonlinear Equality Constraint\n",
        "***\n",
        "$$ \\max_{x_1,x_2}{x_1(600-3x_1+x_2)+x_2(800-2x_2+x_1)} $$\n",
        "$$\\text{s.t. }(x_1-300)^2+(x_2-300)^2=200^2$$\n",
        "\n",
        "Libraries Needed: MASS, NlcOptim<br>\n",
        "Let's get an idea of what the objective function and constraint look like."
      ]
    },
    {
      "cell_type": "code",
      "metadata": {
        "id": "HLB_InXY9COv",
        "colab_type": "code",
        "colab": {}
      },
      "source": [
        "obj = function(x){((600-3*x[1]+x[2])*x[1]+(800-2*x[2]+x[1])*x[2])*(-1)}"
      ],
      "execution_count": 0,
      "outputs": []
    },
    {
      "cell_type": "code",
      "metadata": {
        "id": "YBhI2rfI9COz",
        "colab_type": "code",
        "colab": {},
        "outputId": "cd48077e-5f03-4733-f1a6-74a7fc106f72"
      },
      "source": [
        "library(ma391laporte)\n",
        "X = list(x=seq(100,500),y=seq(100,500))\n",
        "Z = Outer(obj,X)\n",
        "## contour plot ##\n",
        "contour(X$x,X$y,-Z)\n",
        "\n",
        "## Parametric Equations for the constraint ##\n",
        "r = function(t){c(200*sin(t)+300,200*cos(t)+300)}\n",
        "r = Vectorize(r)\n",
        "\n",
        "## Get the points for the function and plot the points on the graph\n",
        "t = seq(0,2*pi,0.01)\n",
        "Xt = list(x=r(t)[1,],y=r(t)[2,])\n",
        "points(Xt$x,Xt$y,type=\"l\",col=\"red\",lwd=3)"
      ],
      "execution_count": 0,
      "outputs": [
        {
          "output_type": "display_data",
          "data": {
            "image/png": "[encoded data removed]",
            "text/plain": [
              "plot without title"
            ]
          },
          "metadata": {
            "tags": []
          }
        }
      ]
    },
    {
      "cell_type": "markdown",
      "metadata": {
        "id": "lwXdKCmJ9CO4",
        "colab_type": "text"
      },
      "source": [
        "#### Use ```solnl``` to find solve the optimization\n",
        "In the case of a nonlinear equality constraint(s), we use the same setup the ```con``` function below will return a list of nonlinear equality functions that equal 0. For this problem, we subtract the right hand side of the equation (200) to set up the equation to equal 0,<br><br>\n",
        "$$ \\underbrace{(x_1-300)^2+(x_2-300)^2-200^2}_{\\text{use this in the rbind}}=0$$<br>\n",
        "the ```solnl``` function expects that all of the equations that we rbind are all equal to zero."
      ]
    },
    {
      "cell_type": "code",
      "metadata": {
        "id": "Af9JtC8W9CO5",
        "colab_type": "code",
        "colab": {},
        "outputId": "b3769b05-0bc6-4336-bde4-e0527430e3f6"
      },
      "source": [
        "library(MASS);library(NlcOptim)\n",
        "x0 = c(300,500)\n",
        "## Single nonlinear constraint ##\n",
        "con = function (x){\n",
        "    f = NULL\n",
        "    f = rbind(f,(x[1]-300)^2+(x[2]-300)^2-200^2)\n",
        "    return(list(ceq=f,c=NULL))\n",
        "}\n",
        "ans=solnl(x0,objfun=obj,confun=con)\n",
        "print(ans)"
      ],
      "execution_count": 0,
      "outputs": [
        {
          "output_type": "stream",
          "text": [
            "$par\n",
            "         [,1]\n",
            "[1,] 116.2227\n",
            "[2,] 221.0956\n",
            "\n",
            "$fn\n",
            "[1] -159713.1\n",
            "\n",
            "$counts\n",
            "     nfval ngval\n",
            "[1,]   116    28\n",
            "\n",
            "$lambda\n",
            "$lambda$lower\n",
            "     [,1]\n",
            "[1,]    0\n",
            "[2,]    0\n",
            "\n",
            "$lambda$upper\n",
            "     [,1]\n",
            "[1,]    0\n",
            "[2,]    0\n",
            "\n",
            "$lambda$eqnonlin\n",
            "[1] 0.938242\n",
            "\n",
            "\n",
            "$grad\n",
            "          [,1]\n",
            "[1,] -344.8552\n",
            "[2,] -148.0627\n",
            "\n",
            "$hessian\n",
            "         [,1]     [,2]\n",
            "[1,] 5.603232 1.189552\n",
            "[2,] 1.189552 7.672655\n",
            "\n"
          ],
          "name": "stdout"
        }
      ]
    },
    {
      "cell_type": "markdown",
      "metadata": {
        "id": "KBfsaRPs9CO9",
        "colab_type": "text"
      },
      "source": [
        "#### Interpret the Solution\n",
        "Given the feasible region of the circle, the decision variables that satisfy this constraint and maximize the objective function are $x_1=116.22$ and $x_2=221.10$ with an objective function value of $159,713.1$ in terms of what each of these quantities represent from the original problem. To see this on the contour plot, simply redraw all of the contour plot and circle from above and add the point $(116.22, 221.10)$ or from the ```R code```, ```ans$par```. As you can see below, we plotted the point in yellow and it appears on the red constraint while maximizing the objective function for all points on the red circle."
      ]
    },
    {
      "cell_type": "code",
      "metadata": {
        "id": "6I2csPyc9CO-",
        "colab_type": "code",
        "colab": {},
        "outputId": "ff6f8368-0f2e-45e8-a240-d0f9e7d71141"
      },
      "source": [
        "contour(X$x,X$y,-Z)\n",
        "points(Xt$x,Xt$y,type=\"l\",col=\"red\",lwd=3)\n",
        "points(ans$par[1],ans$par[2],pch=21,bg=\"yellow\",cex=2)"
      ],
      "execution_count": 0,
      "outputs": [
        {
          "output_type": "display_data",
          "data": {
            "image/png": "[encoded data removed]",
            "text/plain": [
              "plot without title"
            ]
          },
          "metadata": {
            "tags": []
          }
        }
      ]
    },
    {
      "cell_type": "markdown",
      "metadata": {
        "id": "HGpBGb2x9CPD",
        "colab_type": "text"
      },
      "source": [
        "### Multivariable Constrained Optimization  / Linear Equality Constraint\n",
        "$$ \\max_{x_1,x_2}{x_1(600-3x_1+x_2)+x_2(800-2x_2+x_1)} $$\n",
        "$$\\text{s.t. }12x_1+5x_2=5000$$\n",
        "\n",
        "For a 2-decision variable problem, we will only have one equality constraint, otherwise it will not be an optimization. This was discussed in a previous R notebook, but the basic idea is that if there are two equality constraints (assuming they are different), then the feasible region would most likely be a single point and the objective function would not be needed. <br><br>\n",
        "Let's solve this problem first (to go along with the theme of this notebook) and then use another objective function with more decision variables to explain how to find the solution using ```solnl``` in the context of a larger problem.\n",
        "Libraries Needed: MASS, NlcOptim<br><br>\n",
        "Here is the picture of the objective function with the constraint in red."
      ]
    },
    {
      "cell_type": "code",
      "metadata": {
        "id": "dyahpQiX9CPF",
        "colab_type": "code",
        "colab": {},
        "outputId": "319c5b39-3dbc-4982-8060-fa336a6e1f06"
      },
      "source": [
        "obj = function(x){((600-3*x[1]+x[2])*x[1]+(800-2*x[2]+x[1])*x[2])*(-1)}\n",
        "X = list(x=seq(0,500),y=seq(0,500))\n",
        "Z = Outer(obj,X)\n",
        "## contour plot ##\n",
        "contour(X$x,X$y,-Z)\n",
        "abline(a=1000,b=-12/5,col=\"red\",lwd=3) # see the notes from class on the abline"
      ],
      "execution_count": 0,
      "outputs": [
        {
          "output_type": "display_data",
          "data": {
            "image/png": "[encoded data removed]",
            "text/plain": [
              "plot without title"
            ]
          },
          "metadata": {
            "tags": []
          }
        }
      ]
    },
    {
      "cell_type": "markdown",
      "metadata": {
        "id": "LijA8sjt9CPJ",
        "colab_type": "text"
      },
      "source": [
        "#### Set up the linear equality constraint \n",
        "In the ```solnl``` function, there is a place to put linear equality constraints. They are placed in two matrices called ```Aeq``` and ```Beq```. These matrices are found using the constraints and matrices. Suppose our constraints (for a larger problem) were as follows:<br><br>\n",
        "$$ 3x_1-5x_2+2x_3+7x_4 = 300$$\n",
        "$$ 2x_1+12x_2+2x_3-x_4 = 200$$<br>\n",
        "This leads to the following matrix notation of the constraints:<br><br>\n",
        "$$\\begin{bmatrix}3&-5&2&7\\\\2&12&2&-1\\end{bmatrix}\\begin{bmatrix}x_1\\\\x_2\\\\x_3\\\\x_4\\end{bmatrix}=\\begin{bmatrix}300\\\\200\\end{bmatrix}$$<br>\n",
        "This is the setup that we want to use for ```Aeq``` and ```Beq```. \n",
        "$$\\text{Aeq}=\\begin{bmatrix}3&-5&2&7\\\\2&12&2&-1\\end{bmatrix}$$<br>\n",
        "$$\\text{Beq}=\\begin{bmatrix}300\\\\200\\end{bmatrix}$$<br>\n",
        "In ```R``` the code looks like this:\n",
        "```R\n",
        "#byrow = TRUE in a matrix allows the input to be a row at a time instead of a column#\n",
        "Aeq = matrix(c(3,-5,2,7,2,12,2,-1),nrow=2,byrow=TRUE)\n",
        "print(Aeq)\n",
        "Beq = matrix(c(300,200))\n",
        "print(Beq)\n",
        "```"
      ]
    },
    {
      "cell_type": "code",
      "metadata": {
        "id": "c1BWquYl9CPK",
        "colab_type": "code",
        "colab": {},
        "outputId": "d685b0dc-41a2-4270-8233-589241d97bcf"
      },
      "source": [
        "Aeq = matrix(c(3,-5,2,7,2,12,2,-1),nrow=2,byrow=TRUE)\n",
        "print(Aeq)\n",
        "Beq = matrix(c(300,200))\n",
        "print(Beq)"
      ],
      "execution_count": 0,
      "outputs": [
        {
          "output_type": "stream",
          "text": [
            "     [,1] [,2] [,3] [,4]\n",
            "[1,]    3   -5    2    7\n",
            "[2,]    2   12    2   -1\n",
            "     [,1]\n",
            "[1,]  300\n",
            "[2,]  200\n"
          ],
          "name": "stdout"
        }
      ]
    },
    {
      "cell_type": "markdown",
      "metadata": {
        "id": "MgVap8YO9CPN",
        "colab_type": "text"
      },
      "source": [
        "#### Solve this problem using ```Aeq``` and ```Beq```\n",
        "For the problem in this section, our constraints are simpler and converted to matrix notation look like this:\n",
        "$$\\begin{bmatrix}12&5\\end{bmatrix}\\begin{bmatrix}x_1\\\\x_2\\end{bmatrix}=\\begin{bmatrix}5000\\end{bmatrix}$$<br>\n",
        "so,\n",
        "\n",
        "$$\\text{Aeq}=\\begin{bmatrix}12&5\\end{bmatrix}$$\n",
        "$$\\text{Beq}=\\begin{bmatrix}5000\\end{bmatrix}$$<br>\n",
        "\n",
        "Use these matrices and the ```solnl``` command to solve this problem."
      ]
    },
    {
      "cell_type": "code",
      "metadata": {
        "id": "83WLZxry9CPT",
        "colab_type": "code",
        "colab": {},
        "outputId": "f93d97b0-cbb4-4123-8ea1-29c59e9fe768"
      },
      "source": [
        "## Replot the contour plot so that we can put the answer on it.\n",
        "contour(X$x,X$y,-Z)\n",
        "abline(a=1000,b=-12/5,col=\"red\",lwd=3)\n",
        "\n",
        "## Aeq and Beq are the Aeq*x = Beq ##\n",
        "Aeq = matrix(c(12,5),nrow=1)\n",
        "Beq = matrix(5000)\n",
        "x0=c(0,500)\n",
        "ans=solnl(x0,objfun = obj,Aeq=Aeq,Beq=Beq)\n",
        "print(ans)\n",
        "## Put the answer on the contour plot as a point in green\n",
        "points(ans$par[1],ans$par[2],pch=21,bg=\"yellow\",cex=2)"
      ],
      "execution_count": 0,
      "outputs": [
        {
          "output_type": "stream",
          "text": [
            "$par\n",
            "         [,1]\n",
            "[1,] 266.0455\n",
            "[2,] 361.4907\n",
            "\n",
            "$fn\n",
            "[1] -167474.1\n",
            "\n",
            "$counts\n",
            "     nfval ngval\n",
            "[1,]    13     5\n",
            "\n",
            "$lambda\n",
            "$lambda$lower\n",
            "     [,1]\n",
            "[1,]    0\n",
            "[2,]    0\n",
            "\n",
            "$lambda$upper\n",
            "     [,1]\n",
            "[1,]    0\n",
            "[2,]    0\n",
            "\n",
            "$lambda$eqlin\n",
            "[1] 22.77433\n",
            "\n",
            "\n",
            "$grad\n",
            "         [,1]\n",
            "[1,] 273.2920\n",
            "[2,] 113.8716\n",
            "\n",
            "$hessian\n",
            "          [,1]      [,2]\n",
            "[1,]  3.910910 -2.870454\n",
            "[2,] -2.870454  3.637311\n",
            "\n"
          ],
          "name": "stdout"
        },
        {
          "output_type": "display_data",
          "data": {
            "image/png": "[encoded data removed]",
            "text/plain": [
              "plot without title"
            ]
          },
          "metadata": {
            "tags": []
          }
        }
      ]
    },
    {
      "cell_type": "markdown",
      "metadata": {
        "id": "6hcTFjAO9CPY",
        "colab_type": "text"
      },
      "source": [
        "### Multivariable Constrained Optimization  / Linear Inequality Constraints\n",
        "$$ \\max_{x_1,x_2}{x_1(600-3x_1+x_2)+x_2(800-2x_2+x_1)} $$\n",
        "$$\\text{s.t. }12x_1+5x_2\\le5000$$\n",
        "$$x_1\\ge0$$\n",
        "$$x_2\\ge0$$\n",
        "Inequality constraints need to be put into a matrix as $\\le$ or $<$. This is done by multiplying the constraints with $>$ and $\\ge$ by -1. In this case the constraints would become the following:\n",
        "$$12x_1+5x_2\\le5000$$\n",
        "$$-x_1\\le0$$\n",
        "$$-x_2\\le0$$\n",
        "which leads to the following matrix notation: $A\\vec{x}\\le B$:\n",
        "$$\\begin{bmatrix}12&5\\\\-1&0\\\\0&-1\\end{bmatrix}\\begin{bmatrix}x_1\\\\x_2\\end{bmatrix} \\le \\begin{bmatrix}5000\\\\0\\\\0\\end{bmatrix}$$<br>\n",
        "In ```solnl``` command, we set these matrices equal to ```A``` and ```B``` instead of the ```Aeq``` and ```Beq``` from the previous section because these are inequality constraints.\n",
        "```R\n",
        "A = matrix(c(12,5,-1,0,0,-1),nrow=3,byrow=T)\n",
        "B = matrix(c(5000,0,0),nrow=3)\n",
        "```"
      ]
    },
    {
      "cell_type": "code",
      "metadata": {
        "id": "8vfAEGbm9CPZ",
        "colab_type": "code",
        "colab": {},
        "outputId": "bf4070e9-3ea3-4808-e575-2646dbfcf870"
      },
      "source": [
        "A = matrix(c(12,5,-1,0,0,-1),nrow=3,byrow=T)\n",
        "B = matrix(c(5000,0,0),nrow=3)\n",
        "print(A)\n",
        "print(B)"
      ],
      "execution_count": 0,
      "outputs": [
        {
          "output_type": "stream",
          "text": [
            "     [,1] [,2]\n",
            "[1,]   12    5\n",
            "[2,]   -1    0\n",
            "[3,]    0   -1\n",
            "     [,1]\n",
            "[1,] 5000\n",
            "[2,]    0\n",
            "[3,]    0\n"
          ],
          "name": "stdout"
        }
      ]
    },
    {
      "cell_type": "markdown",
      "metadata": {
        "id": "RoxUn5oX9CPc",
        "colab_type": "text"
      },
      "source": [
        "Use the matrices to and ```solnl``` to solve this problem."
      ]
    },
    {
      "cell_type": "code",
      "metadata": {
        "id": "QFCoZITm9CPd",
        "colab_type": "code",
        "colab": {},
        "outputId": "3d0cff2f-2b68-4711-a4ab-b606239f8faa"
      },
      "source": [
        "obj = function(x){((600-3*x[1]+x[2])*x[1]+(800-2*x[2]+x[1])*x[2])*-1}\n",
        "X = list(x=seq(0,500),y=seq(0,500))\n",
        "Z = Outer(obj,X)\n",
        "contour(X$x,X$y,Z)\n",
        "abline(a=1000,b=-12/5,col=\"red\",lwd=3)\n",
        "abline(h=0,col=\"red\",lwd=3)\n",
        "abline(v=0,col=\"red\",lwd=3)\n",
        "A = matrix(c(12,5,-1,0,0,-1),nrow=3,byrow=T)\n",
        "B = matrix(c(5000,0,0),nrow=3)\n",
        "ans = solnl(x0,objfun = obj,A=A,B=B)\n",
        "print(ans)\n",
        "points(ans$par[1],ans$par[2],pch=21,bg=\"yellow\",cex=2)"
      ],
      "execution_count": 0,
      "outputs": [
        {
          "output_type": "stream",
          "text": [
            "$par\n",
            "     [,1]\n",
            "[1,]  200\n",
            "[2,]  300\n",
            "\n",
            "$fn\n",
            "[1] -180000\n",
            "\n",
            "$counts\n",
            "     nfval ngval\n",
            "[1,]    26     9\n",
            "\n",
            "$lambda\n",
            "$lambda$lower\n",
            "     [,1]\n",
            "[1,]    0\n",
            "[2,]    0\n",
            "\n",
            "$lambda$upper\n",
            "     [,1]\n",
            "[1,]    0\n",
            "[2,]    0\n",
            "\n",
            "$lambda$ineqlin\n",
            "[1] 0 0 0\n",
            "\n",
            "\n",
            "$grad\n",
            "              [,1]\n",
            "[1,]  0.0012565105\n",
            "[2,] -0.0004752604\n",
            "\n",
            "$hessian\n",
            "          [,1]      [,2]\n",
            "[1,]  5.970067 -1.962824\n",
            "[2,] -1.962824  3.950412\n",
            "\n"
          ],
          "name": "stdout"
        },
        {
          "output_type": "display_data",
          "data": {
            "image/png": "[encoded data removed]",
            "text/plain": [
              "plot without title"
            ]
          },
          "metadata": {
            "tags": []
          }
        }
      ]
    },
    {
      "cell_type": "markdown",
      "metadata": {
        "id": "VHrQkCDd9CPg",
        "colab_type": "text"
      },
      "source": [
        "#### Understanding the solution, comparing it with the answer in the previous section\n",
        "Understand that the answer to the nonlinear optimization problem occurs within the feasible region and not on the feasible region, which implies that none of the constraints are binding. This is what using ```A=,B=``` allows in the ```solnl``` command - the answer can occur within the bounded feasible region, instead of only on the constraints. Let's change the problem slightly to discover when these would give the same solution."
      ]
    },
    {
      "cell_type": "markdown",
      "metadata": {
        "id": "D1oSV6Hy9CPi",
        "colab_type": "text"
      },
      "source": [
        "***\n",
        "# ==================================================\n",
        "# ========  Homework Lesson 9  ========================\n",
        "# ==================================================\n",
        "***\n",
        "#### Problem 1 (Equality Constraints)\n",
        "$$ \\max_{x_1,x_2}{x_1(600-3x_1+x_2)+x_2(800-2x_2+x_1)} $$\n",
        "$$\\text{s.t. }12x_1+5x_2=2500$$\n",
        "#### Problem 2 (Inequality Constraints)\n",
        "$$ \\max_{x_1,x_2}{x_1(600-3x_1+x_2)+x_2(800-2x_2+x_1)} $$\n",
        "$$\\text{s.t. }12x_1+5x_2\\le2500$$\n",
        "$$x_1\\ge0$$\n",
        "$$x_2\\ge0$$\n",
        "#### Problem 3: Explain why did prob1,2 give the same solution and we got different answers in the two sections above?\n",
        "#### Problem 4: Create a contour plot with constraints for problems 1,2.\n",
        "#### Problem 5\n",
        "$$ \\max_{x,y}{x(10+22x^{-0.5}+1.3y^{-0.1})-18x+y(5+15y^{-0.5}+0.8x^{-0.08})-10y} $$\n",
        "#### Problem 6 - Find the solution and plot the contour of the objective unction, the constraints and the solution.\n",
        "$$ \\max_{x,y}{x(10+22x^{-0.5}+1.3y^{-0.1})-18x+y(5+15y^{-0.5}+0.8x^{-0.08})-10y} $$\n",
        "$$ \\text{s.t. }2x+3y\\le18$$\n",
        "$$ x\\ge3$$\n",
        "$$ y\\ge2$$\n",
        "#### Problem 7 - Find the solution and plot the contour of the objective unction, the constraints and the solution.\n",
        "$$ \\max_{x,y}{x(10+22x^{-0.5}+1.3y^{-0.1})-18x+y(5+15y^{-0.5}+0.8x^{-0.08})-10y} $$\n",
        "$$ \\text{s.t. }50x+100y\\ge600$$\n",
        "$$ x\\le7$$\n",
        "$$ y\\le5$$\n",
        "#### Problem 8 - Find the solution (you will need to define ```A```,```B```, ```Aeq```, and ```Beq``` for this one).\n",
        "$$ \\max_{x,y}{x(10+22x^{-0.5}+1.3y^{-0.1})-18x+y(5+15y^{-0.5}+0.8x^{-0.08})-10y} $$\n",
        "$$ \\text{s.t. }2x+3y+s_1=18$$\n",
        "$$ -x+s_2=3$$\n",
        "$$ -y+s_3=2$$\n",
        "$$s_1\\ge0$$\n",
        "$$s_2\\ge0$$\n",
        "$$s_3\\ge0$$"
      ]
    }
  ]
}